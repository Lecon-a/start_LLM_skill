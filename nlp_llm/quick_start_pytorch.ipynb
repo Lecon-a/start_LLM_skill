{
 "cells": [
  {
   "cell_type": "code",
   "execution_count": 3,
   "id": "7f1483a7",
   "metadata": {},
   "outputs": [],
   "source": [
    "import torch\n",
    "import numpy as np"
   ]
  },
  {
   "cell_type": "markdown",
   "id": "44d2e6e1",
   "metadata": {},
   "source": [
    "How to create tensor from list data"
   ]
  },
  {
   "cell_type": "code",
   "execution_count": 5,
   "id": "1ada3746",
   "metadata": {},
   "outputs": [],
   "source": [
    "data = [\n",
    "    [1, 2],\n",
    "    [3, 4]\n",
    "]\n",
    "\n",
    "tensors = torch.tensor(data)"
   ]
  },
  {
   "cell_type": "code",
   "execution_count": 7,
   "id": "d1da8b96",
   "metadata": {},
   "outputs": [
    {
     "data": {
      "text/plain": [
       "torch.Tensor"
      ]
     },
     "execution_count": 7,
     "metadata": {},
     "output_type": "execute_result"
    }
   ],
   "source": [
    "type(tensors)"
   ]
  },
  {
   "cell_type": "markdown",
   "id": "499f4f95",
   "metadata": {},
   "source": [
    "This can also be created from numpy data"
   ]
  },
  {
   "cell_type": "code",
   "execution_count": 11,
   "id": "579ca6b7",
   "metadata": {},
   "outputs": [
    {
     "data": {
      "text/plain": [
       "[array([0, 1, 2]), array([3, 4, 5])]"
      ]
     },
     "execution_count": 11,
     "metadata": {},
     "output_type": "execute_result"
    }
   ],
   "source": [
    "np_array = [\n",
    "    np.arange(3),\n",
    "    np.arange(3, 6)\n",
    "]\n",
    "\n",
    "np_array"
   ]
  },
  {
   "cell_type": "code",
   "execution_count": 13,
   "id": "f5a5e9c5",
   "metadata": {},
   "outputs": [
    {
     "data": {
      "text/plain": [
       "tensor([[0, 1, 2],\n",
       "        [3, 4, 5]], dtype=torch.int32)"
      ]
     },
     "execution_count": 13,
     "metadata": {},
     "output_type": "execute_result"
    }
   ],
   "source": [
    "tensor_np = torch.tensor(np_array)\n",
    "\n",
    "tensor_np"
   ]
  },
  {
   "cell_type": "markdown",
   "id": "c48f9af4",
   "metadata": {},
   "source": [
    "Checking tensor's shape, dimension (ndim), and data type (dtype)"
   ]
  },
  {
   "cell_type": "code",
   "execution_count": 20,
   "id": "153ef3aa",
   "metadata": {},
   "outputs": [
    {
     "data": {
      "text/plain": [
       "torch.Size([2, 3])"
      ]
     },
     "execution_count": 20,
     "metadata": {},
     "output_type": "execute_result"
    }
   ],
   "source": [
    "tensor_np.shape"
   ]
  },
  {
   "cell_type": "code",
   "execution_count": 22,
   "id": "f42b7703",
   "metadata": {},
   "outputs": [
    {
     "data": {
      "text/plain": [
       "2"
      ]
     },
     "execution_count": 22,
     "metadata": {},
     "output_type": "execute_result"
    }
   ],
   "source": [
    "tensor_np.ndim"
   ]
  },
  {
   "cell_type": "code",
   "execution_count": 24,
   "id": "bde7c2ad",
   "metadata": {},
   "outputs": [
    {
     "data": {
      "text/plain": [
       "(torch.Tensor, torch.int32)"
      ]
     },
     "execution_count": 24,
     "metadata": {},
     "output_type": "execute_result"
    }
   ],
   "source": [
    "type(tensor_np), tensor_np.dtype"
   ]
  },
  {
   "cell_type": "markdown",
   "id": "d9752515",
   "metadata": {},
   "source": [
    "Basic Operations on Tensor"
   ]
  },
  {
   "cell_type": "code",
   "execution_count": 25,
   "id": "19a850e4",
   "metadata": {},
   "outputs": [
    {
     "data": {
      "text/plain": [
       "tensor([5, 7, 9], dtype=torch.int32)"
      ]
     },
     "execution_count": 25,
     "metadata": {},
     "output_type": "execute_result"
    }
   ],
   "source": [
    "ten1 = torch.tensor(np.arange(1, 4))\n",
    "ten2 = torch.tensor(np.arange(4, 7))\n",
    "\n",
    "ten1 + ten2"
   ]
  },
  {
   "cell_type": "code",
   "execution_count": 28,
   "id": "cc60e259",
   "metadata": {},
   "outputs": [
    {
     "data": {
      "text/plain": [
       "tensor([5, 7, 9], dtype=torch.int32)"
      ]
     },
     "execution_count": 28,
     "metadata": {},
     "output_type": "execute_result"
    }
   ],
   "source": [
    "# add two tensors using add() method\n",
    "\n",
    "torch.add(ten1, ten2)"
   ]
  },
  {
   "cell_type": "code",
   "execution_count": 29,
   "id": "a769b043",
   "metadata": {},
   "outputs": [
    {
     "data": {
      "text/plain": [
       "tensor([-3, -3, -3], dtype=torch.int32)"
      ]
     },
     "execution_count": 29,
     "metadata": {},
     "output_type": "execute_result"
    }
   ],
   "source": [
    "# subtract ten2 from ten1 using sub()/subtract() method\n",
    "\n",
    "torch.sub(ten1, ten2)"
   ]
  },
  {
   "cell_type": "markdown",
   "id": "5bc5779e",
   "metadata": {},
   "source": [
    "Multiplying scalar with vector"
   ]
  },
  {
   "cell_type": "code",
   "execution_count": 31,
   "id": "92c1dbf2",
   "metadata": {},
   "outputs": [
    {
     "data": {
      "text/plain": [
       "tensor([10, 20, 30], dtype=torch.int32)"
      ]
     },
     "execution_count": 31,
     "metadata": {},
     "output_type": "execute_result"
    }
   ],
   "source": [
    "10 * ten1"
   ]
  },
  {
   "cell_type": "markdown",
   "id": "4c2776e4",
   "metadata": {},
   "source": [
    "The following are very important operation in Deep Learning - Matrix Multiplication\n",
    "\n",
    "~ Rules of Matrix Multiplication\n",
    "\n",
    "- When multiplying two tensors or Matrices together, the column of the first tensor must be equal to the row of the second tensor\n",
    "\n",
    "Note: (3, 2) * (3, 2) is wrong,\n",
    "      (4, 3) * (3, 2) gives (4, 2)"
   ]
  },
  {
   "cell_type": "code",
   "execution_count": 32,
   "id": "37f0084e",
   "metadata": {},
   "outputs": [
    {
     "data": {
      "text/plain": [
       "tensor(32, dtype=torch.int32)"
      ]
     },
     "execution_count": 32,
     "metadata": {},
     "output_type": "execute_result"
    }
   ],
   "source": [
    "torch.matmul(ten1, ten2) # this results to scalar"
   ]
  },
  {
   "cell_type": "code",
   "execution_count": 35,
   "id": "422a6f61",
   "metadata": {},
   "outputs": [],
   "source": [
    "matrix_4_by_3 = torch.tensor([\n",
    "    [1, 2, 3],\n",
    "    [4, 5, 6],\n",
    "    [7, 8, 9],\n",
    "    [10, 11, 12]\n",
    "])"
   ]
  },
  {
   "cell_type": "code",
   "execution_count": 36,
   "id": "ae29bad1",
   "metadata": {},
   "outputs": [
    {
     "data": {
      "text/plain": [
       "torch.Size([4, 3])"
      ]
     },
     "execution_count": 36,
     "metadata": {},
     "output_type": "execute_result"
    }
   ],
   "source": [
    "matrix_4_by_3.shape"
   ]
  },
  {
   "cell_type": "code",
   "execution_count": 38,
   "id": "9f789075",
   "metadata": {},
   "outputs": [],
   "source": [
    "matrix_3_by_2 = torch.tensor([\n",
    "    [1, 2],\n",
    "    [3, 4],\n",
    "    [5, 6]\n",
    "])"
   ]
  },
  {
   "cell_type": "code",
   "execution_count": 40,
   "id": "6ebc0728",
   "metadata": {},
   "outputs": [
    {
     "data": {
      "text/plain": [
       "torch.Size([3, 2])"
      ]
     },
     "execution_count": 40,
     "metadata": {},
     "output_type": "execute_result"
    }
   ],
   "source": [
    "matrix_3_by_2.shape"
   ]
  },
  {
   "cell_type": "markdown",
   "id": "72f6b063",
   "metadata": {},
   "source": [
    "Checking out the above rule for matrices multiplication"
   ]
  },
  {
   "cell_type": "code",
   "execution_count": 42,
   "id": "7941d2e3",
   "metadata": {},
   "outputs": [],
   "source": [
    "mat_result = torch.matmul(matrix_4_by_3, matrix_3_by_2)"
   ]
  },
  {
   "cell_type": "code",
   "execution_count": 43,
   "id": "121002d4",
   "metadata": {},
   "outputs": [
    {
     "data": {
      "text/plain": [
       "tensor([[ 22,  28],\n",
       "        [ 49,  64],\n",
       "        [ 76, 100],\n",
       "        [103, 136]])"
      ]
     },
     "execution_count": 43,
     "metadata": {},
     "output_type": "execute_result"
    }
   ],
   "source": [
    "mat_result"
   ]
  },
  {
   "cell_type": "code",
   "execution_count": 44,
   "id": "a1fe26fa",
   "metadata": {},
   "outputs": [
    {
     "data": {
      "text/plain": [
       "torch.Size([4, 2])"
      ]
     },
     "execution_count": 44,
     "metadata": {},
     "output_type": "execute_result"
    }
   ],
   "source": [
    "mat_result.shape"
   ]
  },
  {
   "cell_type": "markdown",
   "id": "e1b286df",
   "metadata": {},
   "source": [
    "Aside matmul() method, you can also use mm() method which is a short for torch.matmul()"
   ]
  },
  {
   "cell_type": "code",
   "execution_count": 47,
   "id": "1afb7220",
   "metadata": {},
   "outputs": [
    {
     "data": {
      "text/plain": [
       "tensor([[ 22,  28],\n",
       "        [ 49,  64],\n",
       "        [ 76, 100],\n",
       "        [103, 136]])"
      ]
     },
     "execution_count": 47,
     "metadata": {},
     "output_type": "execute_result"
    }
   ],
   "source": [
    "torch.mm(matrix_4_by_3, matrix_3_by_2) # .shape"
   ]
  },
  {
   "cell_type": "markdown",
   "id": "8309b45d",
   "metadata": {},
   "source": [
    "Tensor can be transpose using matrix_name.T"
   ]
  },
  {
   "cell_type": "code",
   "execution_count": 48,
   "id": "58cce7c7",
   "metadata": {},
   "outputs": [
    {
     "data": {
      "text/plain": [
       "tensor([[ 1,  2,  3],\n",
       "        [ 4,  5,  6],\n",
       "        [ 7,  8,  9],\n",
       "        [10, 11, 12]])"
      ]
     },
     "execution_count": 48,
     "metadata": {},
     "output_type": "execute_result"
    }
   ],
   "source": [
    "matrix_4_by_3"
   ]
  },
  {
   "cell_type": "code",
   "execution_count": 49,
   "id": "33bf897b",
   "metadata": {},
   "outputs": [
    {
     "data": {
      "text/plain": [
       "tensor([[ 1,  4,  7, 10],\n",
       "        [ 2,  5,  8, 11],\n",
       "        [ 3,  6,  9, 12]])"
      ]
     },
     "execution_count": 49,
     "metadata": {},
     "output_type": "execute_result"
    }
   ],
   "source": [
    "matrix_4_by_3.T"
   ]
  },
  {
   "cell_type": "markdown",
   "id": "3796413f",
   "metadata": {},
   "source": [
    "Or use torch.t(matrix_name)"
   ]
  },
  {
   "cell_type": "code",
   "execution_count": 50,
   "id": "3d4aef9c",
   "metadata": {},
   "outputs": [
    {
     "data": {
      "text/plain": [
       "tensor([[ 1,  4,  7, 10],\n",
       "        [ 2,  5,  8, 11],\n",
       "        [ 3,  6,  9, 12]])"
      ]
     },
     "execution_count": 50,
     "metadata": {},
     "output_type": "execute_result"
    }
   ],
   "source": [
    "torch.t(matrix_4_by_3)"
   ]
  },
  {
   "cell_type": "markdown",
   "id": "e9fc8858",
   "metadata": {},
   "source": [
    "Extra Pytorch Operations Based on Tensor\n",
    "\n",
    "- Zeroes\n",
    "- Ones\n",
    "- Random\n",
    "- Full"
   ]
  },
  {
   "cell_type": "code",
   "execution_count": 51,
   "id": "e49d0575",
   "metadata": {},
   "outputs": [
    {
     "data": {
      "text/plain": [
       "tensor([[0., 0., 0.],\n",
       "        [0., 0., 0.],\n",
       "        [0., 0., 0.]])"
      ]
     },
     "execution_count": 51,
     "metadata": {},
     "output_type": "execute_result"
    }
   ],
   "source": [
    "# The following creates zero-elements matrix of specify dimension\n",
    "\n",
    "tensor_zeroes = torch.zeros((3, 3))\n",
    "\n",
    "tensor_zeroes"
   ]
  },
  {
   "cell_type": "code",
   "execution_count": 52,
   "id": "cc61071e",
   "metadata": {},
   "outputs": [
    {
     "data": {
      "text/plain": [
       "tensor([[1., 1., 1.],\n",
       "        [1., 1., 1.],\n",
       "        [1., 1., 1.]])"
      ]
     },
     "execution_count": 52,
     "metadata": {},
     "output_type": "execute_result"
    }
   ],
   "source": [
    "# The following creates one-elements matrix of the specify dimension\n",
    "\n",
    "tensor_ones = torch.ones((3, 3))\n",
    "\n",
    "tensor_ones"
   ]
  },
  {
   "cell_type": "code",
   "execution_count": 53,
   "id": "0b4545c2",
   "metadata": {},
   "outputs": [
    {
     "data": {
      "text/plain": [
       "tensor([[ 0.1837,  1.0460,  1.1349],\n",
       "        [ 0.0415, -0.2630,  1.2239],\n",
       "        [ 1.1065, -0.0370,  1.3403]])"
      ]
     },
     "execution_count": 53,
     "metadata": {},
     "output_type": "execute_result"
    }
   ],
   "source": [
    "# The following creates matrix numbers that are between the specified range and also if randn() method this produces both +ve and -ve but if rand() this only produces +ve numbers through out\n",
    "\n",
    "tensorRandomN = torch.randn((3, 3)) # Includes negative tensors\n",
    "\n",
    "tensorRandomN"
   ]
  },
  {
   "cell_type": "code",
   "execution_count": 54,
   "id": "824ecedd",
   "metadata": {},
   "outputs": [
    {
     "data": {
      "text/plain": [
       "tensor([[0.5579, 0.3702, 0.5271],\n",
       "        [0.9258, 0.8823, 0.6497],\n",
       "        [0.5287, 0.6978, 0.5248]])"
      ]
     },
     "execution_count": 54,
     "metadata": {},
     "output_type": "execute_result"
    }
   ],
   "source": [
    "tensorRandom = torch.rand((3, 3)) # Includes negative tensors\n",
    "\n",
    "tensorRandom"
   ]
  },
  {
   "cell_type": "code",
   "execution_count": 55,
   "id": "41a2b367",
   "metadata": {},
   "outputs": [
    {
     "data": {
      "text/plain": [
       "tensor([[5, 5, 5],\n",
       "        [5, 5, 5],\n",
       "        [5, 5, 5]])"
      ]
     },
     "execution_count": 55,
     "metadata": {},
     "output_type": "execute_result"
    }
   ],
   "source": [
    "customFill = torch.full((3, 3), 5)\n",
    "\n",
    "customFill"
   ]
  },
  {
   "cell_type": "code",
   "execution_count": 56,
   "id": "252e388e",
   "metadata": {},
   "outputs": [
    {
     "data": {
      "text/plain": [
       "tensor([[0.0100, 0.0100, 0.0100],\n",
       "        [0.0100, 0.0100, 0.0100],\n",
       "        [0.0100, 0.0100, 0.0100]])"
      ]
     },
     "execution_count": 56,
     "metadata": {},
     "output_type": "execute_result"
    }
   ],
   "source": [
    "initialFill = torch.full((3, 3), 0.01)\n",
    "\n",
    "initialFill"
   ]
  },
  {
   "cell_type": "markdown",
   "id": "4c412158",
   "metadata": {},
   "source": [
    "### Quickstart\n",
    "\n",
    "Install Torchvision, the torchvision package consists of popular datasets, model architectures, and common image transformations for computer vision.\n",
    "\n",
    "    pip install torchvision --no-deps"
   ]
  },
  {
   "cell_type": "code",
   "execution_count": 16,
   "id": "3c96835b",
   "metadata": {},
   "outputs": [],
   "source": [
    "# # install torchvision\n",
    "# !pip install torchvision\n",
    "# import library\n",
    "from torch.utils.data import DataLoader\n",
    "from torchvision import datasets\n",
    "from torchvision.transforms import ToTensor\n",
    "from torch import nn"
   ]
  },
  {
   "cell_type": "code",
   "execution_count": 17,
   "id": "2d688e89",
   "metadata": {},
   "outputs": [],
   "source": [
    "# Download training data from open datasets\n",
    "training_data = datasets.FashionMNIST(\n",
    "    root=\"data\",\n",
    "    train=True,\n",
    "    download=True,\n",
    "    transform=ToTensor(),\n",
    ")"
   ]
  },
  {
   "cell_type": "code",
   "execution_count": 18,
   "id": "ea88c376",
   "metadata": {},
   "outputs": [],
   "source": [
    "# dataload test data from open dataset\n",
    "\n",
    "test_data = datasets.FashionMNIST(\n",
    "    root=\"data\",\n",
    "    train=False,\n",
    "    download=True,\n",
    "    transform=ToTensor(),\n",
    ")"
   ]
  },
  {
   "cell_type": "code",
   "execution_count": 19,
   "id": "b4a6263a",
   "metadata": {},
   "outputs": [
    {
     "data": {
      "text/plain": [
       "(Dataset FashionMNIST\n",
       "     Number of datapoints: 60000\n",
       "     Root location: data\n",
       "     Split: Train\n",
       "     StandardTransform\n",
       " Transform: ToTensor(),\n",
       " Dataset FashionMNIST\n",
       "     Number of datapoints: 10000\n",
       "     Root location: data\n",
       "     Split: Test\n",
       "     StandardTransform\n",
       " Transform: ToTensor())"
      ]
     },
     "execution_count": 19,
     "metadata": {},
     "output_type": "execute_result"
    }
   ],
   "source": [
    "training_data, test_data"
   ]
  },
  {
   "cell_type": "code",
   "execution_count": 20,
   "id": "36d4c8f7",
   "metadata": {},
   "outputs": [
    {
     "data": {
      "text/plain": [
       "torchvision.datasets.mnist.FashionMNIST"
      ]
     },
     "execution_count": 20,
     "metadata": {},
     "output_type": "execute_result"
    }
   ],
   "source": [
    "type(training_data)"
   ]
  },
  {
   "cell_type": "markdown",
   "id": "d8e08c59",
   "metadata": {},
   "source": [
    "`Dataloader` wraps an iterable over our dataset, and supports automatic batching, sampling, shuffling and multiprocess data loading. Here we define a batch size of 64, i.e. each element in the dataloader iterable will return a batch of 64 features and labels."
   ]
  },
  {
   "cell_type": "code",
   "execution_count": 61,
   "id": "1affae44",
   "metadata": {},
   "outputs": [
    {
     "data": {
      "text/plain": [
       "Text(0.5, 0.98, 'Image samples')"
      ]
     },
     "execution_count": 61,
     "metadata": {},
     "output_type": "execute_result"
    },
    {
     "data": {
      "image/png": "[encoded data removed]",
      "text/plain": [
       "<Figure size 1200x1000 with 9 Axes>"
      ]
     },
     "metadata": {},
     "output_type": "display_data"
    }
   ],
   "source": [
    "import matplotlib.pyplot as plt\n",
    "import numpy as np, torch\n",
    "\n",
    "plt.figure(figsize=(12, 10))\n",
    "for i in np.arange(1, 10): # this generates an array of integers ranging from 1 - 9 excluding 10\n",
    "    plt.subplot(3, 3, i) # plt.subplot(number_of_row, number_of_column, index) this is the index of the current plot.\n",
    "    # Gets images from training_data\n",
    "    image, image_label = training_data[i]\n",
    "    plt.imshow(image[0], cmap='Blues')\n",
    "    plt.title(f'Image category {image_label}')\n",
    "plt.suptitle('Image samples')\n",
    "    "
   ]
  },
  {
   "cell_type": "code",
   "execution_count": 65,
   "id": "6c4a090b",
   "metadata": {},
   "outputs": [
    {
     "data": {
      "text/plain": [
       "938"
      ]
     },
     "execution_count": 65,
     "metadata": {},
     "output_type": "execute_result"
    }
   ],
   "source": [
    "batch_size = 64\n",
    "\n",
    "training = DataLoader(training_data, batch_size=batch_size)\n",
    "testing = DataLoader(test_data, batch_size=batch_size)\n",
    "\n",
    "len(training) "
   ]
  },
  {
   "cell_type": "code",
   "execution_count": 67,
   "id": "804bbb3f",
   "metadata": {},
   "outputs": [
    {
     "data": {
      "text/plain": [
       "60032"
      ]
     },
     "execution_count": 67,
     "metadata": {},
     "output_type": "execute_result"
    }
   ],
   "source": [
    "len(training) * batch_size"
   ]
  },
  {
   "cell_type": "code",
   "execution_count": 73,
   "id": "de282b9e",
   "metadata": {},
   "outputs": [
    {
     "data": {
      "text/plain": [
       "10048"
      ]
     },
     "execution_count": 73,
     "metadata": {},
     "output_type": "execute_result"
    }
   ],
   "source": [
    "len(testing) * batch_size"
   ]
  },
  {
   "cell_type": "code",
   "execution_count": 88,
   "id": "277d2f5d",
   "metadata": {},
   "outputs": [
    {
     "name": "stdout",
     "output_type": "stream",
     "text": [
      "Shape of X: torch.Size([64, 1, 28, 28])\n",
      "Shape of y: torch.Size([64])\n",
      "tensor(0.)\n",
      "tensor(1.)\n"
     ]
    }
   ],
   "source": [
    "for X, y in testing:\n",
    "    print(f'Shape of X: {X.shape}')\n",
    "    print(f'Shape of y: {y.shape}')\n",
    "    print(torch.min(X))\n",
    "    print(torch.max(X))\n",
    "    break"
   ]
  },
  {
   "cell_type": "code",
   "execution_count": 89,
   "id": "7a7ce5cf",
   "metadata": {},
   "outputs": [
    {
     "name": "stdout",
     "output_type": "stream",
     "text": [
      "Shape of X: torch.Size([64, 1, 28, 28])\n",
      "Shape of y: torch.Size([64])\n",
      "tensor(0.)\n",
      "tensor(1.)\n"
     ]
    }
   ],
   "source": [
    "for X, y in training:\n",
    "    print(f'Shape of X: {X.shape}')\n",
    "    print(f'Shape of y: {y.shape}')\n",
    "    print(torch.min(X))\n",
    "    print(torch.max(X))\n",
    "    break"
   ]
  },
  {
   "cell_type": "markdown",
   "id": "6fe4ea3e",
   "metadata": {},
   "source": [
    "Note: This is no need to scale because `DataLoader` does that already"
   ]
  },
  {
   "cell_type": "markdown",
   "id": "89594173",
   "metadata": {},
   "source": [
    "#### Now, let's build model\n",
    "\n",
    "Define a neural network class by subclassing `nn.Module`, and initialize the neural network layers in `__init__`. Every `nn.Module` subclass implements the operations on input data in the forward method."
   ]
  },
  {
   "cell_type": "code",
   "execution_count": null,
   "id": "eb61f542",
   "metadata": {},
   "outputs": [],
   "source": []
  }
 ],
 "metadata": {
  "kernelspec": {
   "display_name": "Python 3 (ipykernel)",
   "language": "python",
   "name": "python3"
  },
  "language_info": {
   "codemirror_mode": {
    "name": "ipython",
    "version": 3
   },
   "file_extension": ".py",
   "mimetype": "text/x-python",
   "name": "python",
   "nbconvert_exporter": "python",
   "pygments_lexer": "ipython3",
   "version": "3.11.4"
  }
 },
 "nbformat": 4,
 "nbformat_minor": 5
}
