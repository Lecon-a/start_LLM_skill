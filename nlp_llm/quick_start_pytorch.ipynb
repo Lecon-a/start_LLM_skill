{
  "cells": [
    {
      "cell_type": "code",
      "execution_count": 1,
      "id": "7f1483a7",
      "metadata": {
        "id": "7f1483a7"
      },
      "outputs": [],
      "source": [
        "import torch\n",
        "import numpy as np"
      ]
    },
    {
      "cell_type": "markdown",
      "id": "44d2e6e1",
      "metadata": {
        "id": "44d2e6e1"
      },
      "source": [
        "How to create tensor from list data"
      ]
    },
    {
      "cell_type": "code",
      "execution_count": 2,
      "id": "1ada3746",
      "metadata": {
        "id": "1ada3746"
      },
      "outputs": [],
      "source": [
        "data = [\n",
        "    [1, 2],\n",
        "    [3, 4]\n",
        "]\n",
        "\n",
        "tensors = torch.tensor(data)"
      ]
    },
    {
      "cell_type": "code",
      "execution_count": 3,
      "id": "d1da8b96",
      "metadata": {
        "colab": {
          "base_uri": "https://localhost:8080/"
        },
        "id": "d1da8b96",
        "outputId": "83305974-6f7e-4a0f-ab67-531767f0a40c"
      },
      "outputs": [
        {
          "output_type": "execute_result",
          "data": {
            "text/plain": [
              "torch.Tensor"
            ]
          },
          "metadata": {},
          "execution_count": 3
        }
      ],
      "source": [
        "type(tensors)"
      ]
    },
    {
      "cell_type": "markdown",
      "id": "499f4f95",
      "metadata": {
        "id": "499f4f95"
      },
      "source": [
        "This can also be created from numpy data"
      ]
    },
    {
      "cell_type": "code",
      "execution_count": 4,
      "id": "579ca6b7",
      "metadata": {
        "colab": {
          "base_uri": "https://localhost:8080/"
        },
        "id": "579ca6b7",
        "outputId": "ae172323-dfb3-44a1-c112-4824014f7744"
      },
      "outputs": [
        {
          "output_type": "execute_result",
          "data": {
            "text/plain": [
              "[array([0, 1, 2]), array([3, 4, 5])]"
            ]
          },
          "metadata": {},
          "execution_count": 4
        }
      ],
      "source": [
        "np_array = [\n",
        "    np.arange(3),\n",
        "    np.arange(3, 6)\n",
        "]\n",
        "\n",
        "np_array"
      ]
    },
    {
      "cell_type": "code",
      "execution_count": 5,
      "id": "f5a5e9c5",
      "metadata": {
        "colab": {
          "base_uri": "https://localhost:8080/"
        },
        "id": "f5a5e9c5",
        "outputId": "772fe41b-a7db-4c37-9b1d-c23d4fd014f1"
      },
      "outputs": [
        {
          "output_type": "stream",
          "name": "stderr",
          "text": [
            "<ipython-input-5-35ff2673bbf9>:1: UserWarning: Creating a tensor from a list of numpy.ndarrays is extremely slow. Please consider converting the list to a single numpy.ndarray with numpy.array() before converting to a tensor. (Triggered internally at ../torch/csrc/utils/tensor_new.cpp:245.)\n",
            "  tensor_np = torch.tensor(np_array)\n"
          ]
        },
        {
          "output_type": "execute_result",
          "data": {
            "text/plain": [
              "tensor([[0, 1, 2],\n",
              "        [3, 4, 5]])"
            ]
          },
          "metadata": {},
          "execution_count": 5
        }
      ],
      "source": [
        "tensor_np = torch.tensor(np_array)\n",
        "\n",
        "tensor_np"
      ]
    },
    {
      "cell_type": "markdown",
      "id": "c48f9af4",
      "metadata": {
        "id": "c48f9af4"
      },
      "source": [
        "Checking tensor's shape, dimension (ndim), and data type (dtype)"
      ]
    },
    {
      "cell_type": "code",
      "execution_count": 6,
      "id": "153ef3aa",
      "metadata": {
        "colab": {
          "base_uri": "https://localhost:8080/"
        },
        "id": "153ef3aa",
        "outputId": "f3897ac3-2047-4bf7-a4ac-56f5ca8598b4"
      },
      "outputs": [
        {
          "output_type": "execute_result",
          "data": {
            "text/plain": [
              "torch.Size([2, 3])"
            ]
          },
          "metadata": {},
          "execution_count": 6
        }
      ],
      "source": [
        "tensor_np.shape"
      ]
    },
    {
      "cell_type": "code",
      "execution_count": 7,
      "id": "f42b7703",
      "metadata": {
        "colab": {
          "base_uri": "https://localhost:8080/"
        },
        "id": "f42b7703",
        "outputId": "e1194c6e-f7d3-4058-a645-c3fcad16bd10"
      },
      "outputs": [
        {
          "output_type": "execute_result",
          "data": {
            "text/plain": [
              "2"
            ]
          },
          "metadata": {},
          "execution_count": 7
        }
      ],
      "source": [
        "tensor_np.ndim"
      ]
    },
    {
      "cell_type": "code",
      "execution_count": 8,
      "id": "bde7c2ad",
      "metadata": {
        "colab": {
          "base_uri": "https://localhost:8080/"
        },
        "id": "bde7c2ad",
        "outputId": "55a18ef8-d15e-4f60-c4c0-4b6002f73e29"
      },
      "outputs": [
        {
          "output_type": "execute_result",
          "data": {
            "text/plain": [
              "(torch.Tensor, torch.int64)"
            ]
          },
          "metadata": {},
          "execution_count": 8
        }
      ],
      "source": [
        "type(tensor_np), tensor_np.dtype"
      ]
    },
    {
      "cell_type": "markdown",
      "id": "d9752515",
      "metadata": {
        "id": "d9752515"
      },
      "source": [
        "Basic Operations on Tensor"
      ]
    },
    {
      "cell_type": "code",
      "execution_count": 9,
      "id": "19a850e4",
      "metadata": {
        "colab": {
          "base_uri": "https://localhost:8080/"
        },
        "id": "19a850e4",
        "outputId": "961fb384-4a7a-439a-c6e7-90fdb7a9cd0a"
      },
      "outputs": [
        {
          "output_type": "execute_result",
          "data": {
            "text/plain": [
              "tensor([5, 7, 9])"
            ]
          },
          "metadata": {},
          "execution_count": 9
        }
      ],
      "source": [
        "ten1 = torch.tensor(np.arange(1, 4))\n",
        "ten2 = torch.tensor(np.arange(4, 7))\n",
        "\n",
        "ten1 + ten2"
      ]
    },
    {
      "cell_type": "code",
      "execution_count": 10,
      "id": "cc60e259",
      "metadata": {
        "colab": {
          "base_uri": "https://localhost:8080/"
        },
        "id": "cc60e259",
        "outputId": "21048a8c-15d4-4fa3-dc75-227a0301f795"
      },
      "outputs": [
        {
          "output_type": "execute_result",
          "data": {
            "text/plain": [
              "tensor([5, 7, 9])"
            ]
          },
          "metadata": {},
          "execution_count": 10
        }
      ],
      "source": [
        "# add two tensors using add() method\n",
        "\n",
        "torch.add(ten1, ten2)"
      ]
    },
    {
      "cell_type": "code",
      "execution_count": 11,
      "id": "a769b043",
      "metadata": {
        "colab": {
          "base_uri": "https://localhost:8080/"
        },
        "id": "a769b043",
        "outputId": "d3a1df0d-6ecf-47f4-8969-8c93ca8b12f5"
      },
      "outputs": [
        {
          "output_type": "execute_result",
          "data": {
            "text/plain": [
              "tensor([-3, -3, -3])"
            ]
          },
          "metadata": {},
          "execution_count": 11
        }
      ],
      "source": [
        "# subtract ten2 from ten1 using sub()/subtract() method\n",
        "\n",
        "torch.sub(ten1, ten2)"
      ]
    },
    {
      "cell_type": "markdown",
      "id": "5bc5779e",
      "metadata": {
        "id": "5bc5779e"
      },
      "source": [
        "Multiplying scalar with vector"
      ]
    },
    {
      "cell_type": "code",
      "execution_count": 12,
      "id": "92c1dbf2",
      "metadata": {
        "colab": {
          "base_uri": "https://localhost:8080/"
        },
        "id": "92c1dbf2",
        "outputId": "6fcf6a78-16ef-4572-e6f3-a8a262ace8ff"
      },
      "outputs": [
        {
          "output_type": "execute_result",
          "data": {
            "text/plain": [
              "tensor([10, 20, 30])"
            ]
          },
          "metadata": {},
          "execution_count": 12
        }
      ],
      "source": [
        "10 * ten1"
      ]
    },
    {
      "cell_type": "markdown",
      "id": "4c2776e4",
      "metadata": {
        "id": "4c2776e4"
      },
      "source": [
        "The following are very important operation in Deep Learning - Matrix Multiplication\n",
        "\n",
        "~ Rules of Matrix Multiplication\n",
        "\n",
        "- When multiplying two tensors or Matrices together, the column of the first tensor must be equal to the row of the second tensor\n",
        "\n",
        "Note: (3, 2) * (3, 2) is wrong,\n",
        "      (4, 3) * (3, 2) gives (4, 2)"
      ]
    },
    {
      "cell_type": "code",
      "execution_count": 13,
      "id": "37f0084e",
      "metadata": {
        "colab": {
          "base_uri": "https://localhost:8080/"
        },
        "id": "37f0084e",
        "outputId": "1c9db924-30f8-4041-8d1b-df399748432c"
      },
      "outputs": [
        {
          "output_type": "execute_result",
          "data": {
            "text/plain": [
              "tensor(32)"
            ]
          },
          "metadata": {},
          "execution_count": 13
        }
      ],
      "source": [
        "torch.matmul(ten1, ten2) # this results to scalar"
      ]
    },
    {
      "cell_type": "code",
      "execution_count": 14,
      "id": "422a6f61",
      "metadata": {
        "id": "422a6f61"
      },
      "outputs": [],
      "source": [
        "matrix_4_by_3 = torch.tensor([\n",
        "    [1, 2, 3],\n",
        "    [4, 5, 6],\n",
        "    [7, 8, 9],\n",
        "    [10, 11, 12]\n",
        "])"
      ]
    },
    {
      "cell_type": "code",
      "execution_count": 15,
      "id": "ae29bad1",
      "metadata": {
        "colab": {
          "base_uri": "https://localhost:8080/"
        },
        "id": "ae29bad1",
        "outputId": "bee87046-19af-4659-fc56-9b6b28967783"
      },
      "outputs": [
        {
          "output_type": "execute_result",
          "data": {
            "text/plain": [
              "torch.Size([4, 3])"
            ]
          },
          "metadata": {},
          "execution_count": 15
        }
      ],
      "source": [
        "matrix_4_by_3.shape"
      ]
    },
    {
      "cell_type": "code",
      "execution_count": 16,
      "id": "9f789075",
      "metadata": {
        "id": "9f789075"
      },
      "outputs": [],
      "source": [
        "matrix_3_by_2 = torch.tensor([\n",
        "    [1, 2],\n",
        "    [3, 4],\n",
        "    [5, 6]\n",
        "])"
      ]
    },
    {
      "cell_type": "code",
      "execution_count": 17,
      "id": "6ebc0728",
      "metadata": {
        "colab": {
          "base_uri": "https://localhost:8080/"
        },
        "id": "6ebc0728",
        "outputId": "ed687778-e426-47d0-97f2-9fd50b132a1a"
      },
      "outputs": [
        {
          "output_type": "execute_result",
          "data": {
            "text/plain": [
              "torch.Size([3, 2])"
            ]
          },
          "metadata": {},
          "execution_count": 17
        }
      ],
      "source": [
        "matrix_3_by_2.shape"
      ]
    },
    {
      "cell_type": "markdown",
      "id": "72f6b063",
      "metadata": {
        "id": "72f6b063"
      },
      "source": [
        "Checking out the above rule for matrices multiplication"
      ]
    },
    {
      "cell_type": "code",
      "execution_count": 18,
      "id": "7941d2e3",
      "metadata": {
        "id": "7941d2e3"
      },
      "outputs": [],
      "source": [
        "mat_result = torch.matmul(matrix_4_by_3, matrix_3_by_2)"
      ]
    },
    {
      "cell_type": "code",
      "execution_count": 19,
      "id": "121002d4",
      "metadata": {
        "colab": {
          "base_uri": "https://localhost:8080/"
        },
        "id": "121002d4",
        "outputId": "feed89a7-8573-4806-ffc4-92aaa0419345"
      },
      "outputs": [
        {
          "output_type": "execute_result",
          "data": {
            "text/plain": [
              "tensor([[ 22,  28],\n",
              "        [ 49,  64],\n",
              "        [ 76, 100],\n",
              "        [103, 136]])"
            ]
          },
          "metadata": {},
          "execution_count": 19
        }
      ],
      "source": [
        "mat_result"
      ]
    },
    {
      "cell_type": "code",
      "execution_count": 20,
      "id": "a1fe26fa",
      "metadata": {
        "colab": {
          "base_uri": "https://localhost:8080/"
        },
        "id": "a1fe26fa",
        "outputId": "32f29606-3342-4537-8f97-13b5acfe1f7c"
      },
      "outputs": [
        {
          "output_type": "execute_result",
          "data": {
            "text/plain": [
              "torch.Size([4, 2])"
            ]
          },
          "metadata": {},
          "execution_count": 20
        }
      ],
      "source": [
        "mat_result.shape"
      ]
    },
    {
      "cell_type": "markdown",
      "id": "e1b286df",
      "metadata": {
        "id": "e1b286df"
      },
      "source": [
        "Aside matmul() method, you can also use mm() method which is a short for torch.matmul()"
      ]
    },
    {
      "cell_type": "code",
      "execution_count": 21,
      "id": "1afb7220",
      "metadata": {
        "colab": {
          "base_uri": "https://localhost:8080/"
        },
        "id": "1afb7220",
        "outputId": "794f1141-1264-451a-9712-301ed798dd13"
      },
      "outputs": [
        {
          "output_type": "execute_result",
          "data": {
            "text/plain": [
              "tensor([[ 22,  28],\n",
              "        [ 49,  64],\n",
              "        [ 76, 100],\n",
              "        [103, 136]])"
            ]
          },
          "metadata": {},
          "execution_count": 21
        }
      ],
      "source": [
        "torch.mm(matrix_4_by_3, matrix_3_by_2) # .shape"
      ]
    },
    {
      "cell_type": "markdown",
      "id": "8309b45d",
      "metadata": {
        "id": "8309b45d"
      },
      "source": [
        "Tensor can be transpose using matrix_name.T"
      ]
    },
    {
      "cell_type": "code",
      "execution_count": 22,
      "id": "58cce7c7",
      "metadata": {
        "colab": {
          "base_uri": "https://localhost:8080/"
        },
        "id": "58cce7c7",
        "outputId": "b1c86d3c-a9ee-40b6-8b9e-07b1ec1ef3af"
      },
      "outputs": [
        {
          "output_type": "execute_result",
          "data": {
            "text/plain": [
              "tensor([[ 1,  2,  3],\n",
              "        [ 4,  5,  6],\n",
              "        [ 7,  8,  9],\n",
              "        [10, 11, 12]])"
            ]
          },
          "metadata": {},
          "execution_count": 22
        }
      ],
      "source": [
        "matrix_4_by_3"
      ]
    },
    {
      "cell_type": "code",
      "execution_count": 23,
      "id": "33bf897b",
      "metadata": {
        "colab": {
          "base_uri": "https://localhost:8080/"
        },
        "id": "33bf897b",
        "outputId": "4a60e1b6-dfc8-4c3a-c82b-1a03d3e6ba25"
      },
      "outputs": [
        {
          "output_type": "execute_result",
          "data": {
            "text/plain": [
              "tensor([[ 1,  4,  7, 10],\n",
              "        [ 2,  5,  8, 11],\n",
              "        [ 3,  6,  9, 12]])"
            ]
          },
          "metadata": {},
          "execution_count": 23
        }
      ],
      "source": [
        "matrix_4_by_3.T"
      ]
    },
    {
      "cell_type": "markdown",
      "id": "3796413f",
      "metadata": {
        "id": "3796413f"
      },
      "source": [
        "Or use torch.t(matrix_name)"
      ]
    },
    {
      "cell_type": "code",
      "execution_count": 24,
      "id": "3d4aef9c",
      "metadata": {
        "colab": {
          "base_uri": "https://localhost:8080/"
        },
        "id": "3d4aef9c",
        "outputId": "1401bb1b-081c-4a3c-abc3-07106425fc53"
      },
      "outputs": [
        {
          "output_type": "execute_result",
          "data": {
            "text/plain": [
              "tensor([[ 1,  4,  7, 10],\n",
              "        [ 2,  5,  8, 11],\n",
              "        [ 3,  6,  9, 12]])"
            ]
          },
          "metadata": {},
          "execution_count": 24
        }
      ],
      "source": [
        "torch.t(matrix_4_by_3)"
      ]
    },
    {
      "cell_type": "markdown",
      "id": "e9fc8858",
      "metadata": {
        "id": "e9fc8858"
      },
      "source": [
        "Extra Pytorch Operations Based on Tensor\n",
        "\n",
        "- Zeroes\n",
        "- Ones\n",
        "- Random\n",
        "- Full"
      ]
    },
    {
      "cell_type": "code",
      "execution_count": 25,
      "id": "e49d0575",
      "metadata": {
        "colab": {
          "base_uri": "https://localhost:8080/"
        },
        "id": "e49d0575",
        "outputId": "e1dce7cf-ffdb-4e36-b7e1-c1214120e9ea"
      },
      "outputs": [
        {
          "output_type": "execute_result",
          "data": {
            "text/plain": [
              "tensor([[0., 0., 0.],\n",
              "        [0., 0., 0.],\n",
              "        [0., 0., 0.]])"
            ]
          },
          "metadata": {},
          "execution_count": 25
        }
      ],
      "source": [
        "# The following creates zero-elements matrix of specify dimension\n",
        "\n",
        "tensor_zeroes = torch.zeros((3, 3))\n",
        "\n",
        "tensor_zeroes"
      ]
    },
    {
      "cell_type": "code",
      "execution_count": 26,
      "id": "cc61071e",
      "metadata": {
        "colab": {
          "base_uri": "https://localhost:8080/"
        },
        "id": "cc61071e",
        "outputId": "9152eac1-28b7-4bf8-9d08-9cdb8687b446"
      },
      "outputs": [
        {
          "output_type": "execute_result",
          "data": {
            "text/plain": [
              "tensor([[1., 1., 1.],\n",
              "        [1., 1., 1.],\n",
              "        [1., 1., 1.]])"
            ]
          },
          "metadata": {},
          "execution_count": 26
        }
      ],
      "source": [
        "# The following creates one-elements matrix of the specify dimension\n",
        "\n",
        "tensor_ones = torch.ones((3, 3))\n",
        "\n",
        "tensor_ones"
      ]
    },
    {
      "cell_type": "code",
      "execution_count": 27,
      "id": "0b4545c2",
      "metadata": {
        "colab": {
          "base_uri": "https://localhost:8080/"
        },
        "id": "0b4545c2",
        "outputId": "c3805d8a-4e45-40a9-c457-6ee1cda2ad68"
      },
      "outputs": [
        {
          "output_type": "execute_result",
          "data": {
            "text/plain": [
              "tensor([[-0.9182,  0.1372,  0.1066],\n",
              "        [-0.3896,  0.7063, -1.8128],\n",
              "        [ 0.3600,  0.5815, -0.2851]])"
            ]
          },
          "metadata": {},
          "execution_count": 27
        }
      ],
      "source": [
        "# The following creates matrix numbers that are between the specified range and also if randn() method this produces both +ve and -ve but if rand() this only produces +ve numbers through out\n",
        "\n",
        "tensorRandomN = torch.randn((3, 3)) # Includes negative tensors\n",
        "\n",
        "tensorRandomN"
      ]
    },
    {
      "cell_type": "code",
      "execution_count": 28,
      "id": "824ecedd",
      "metadata": {
        "colab": {
          "base_uri": "https://localhost:8080/"
        },
        "id": "824ecedd",
        "outputId": "5927ecfa-0d3d-4438-d5a4-4be2d4d71d8f"
      },
      "outputs": [
        {
          "output_type": "execute_result",
          "data": {
            "text/plain": [
              "tensor([[0.9532, 0.9731, 0.9857],\n",
              "        [0.6586, 0.0211, 0.5251],\n",
              "        [0.4487, 0.8198, 0.4509]])"
            ]
          },
          "metadata": {},
          "execution_count": 28
        }
      ],
      "source": [
        "tensorRandom = torch.rand((3, 3)) # Includes negative tensors\n",
        "\n",
        "tensorRandom"
      ]
    },
    {
      "cell_type": "code",
      "execution_count": 29,
      "id": "41a2b367",
      "metadata": {
        "colab": {
          "base_uri": "https://localhost:8080/"
        },
        "id": "41a2b367",
        "outputId": "15949801-72f0-4228-991b-8800f5c64a81"
      },
      "outputs": [
        {
          "output_type": "execute_result",
          "data": {
            "text/plain": [
              "tensor([[5, 5, 5],\n",
              "        [5, 5, 5],\n",
              "        [5, 5, 5]])"
            ]
          },
          "metadata": {},
          "execution_count": 29
        }
      ],
      "source": [
        "customFill = torch.full((3, 3), 5)\n",
        "\n",
        "customFill"
      ]
    },
    {
      "cell_type": "code",
      "execution_count": 30,
      "id": "252e388e",
      "metadata": {
        "colab": {
          "base_uri": "https://localhost:8080/"
        },
        "id": "252e388e",
        "outputId": "64530501-cd05-4a0f-dc85-1139c957acf3"
      },
      "outputs": [
        {
          "output_type": "execute_result",
          "data": {
            "text/plain": [
              "tensor([[0.0100, 0.0100, 0.0100],\n",
              "        [0.0100, 0.0100, 0.0100],\n",
              "        [0.0100, 0.0100, 0.0100]])"
            ]
          },
          "metadata": {},
          "execution_count": 30
        }
      ],
      "source": [
        "initialFill = torch.full((3, 3), 0.01)\n",
        "\n",
        "initialFill"
      ]
    },
    {
      "cell_type": "markdown",
      "id": "4c412158",
      "metadata": {
        "id": "4c412158"
      },
      "source": [
        "### Quickstart\n",
        "\n",
        "Install Torchvision, the torchvision package consists of popular datasets, model architectures, and common image transformations for computer vision.\n",
        "\n",
        "    pip install torchvision --no-deps"
      ]
    },
    {
      "cell_type": "code",
      "execution_count": 31,
      "id": "3c96835b",
      "metadata": {
        "id": "3c96835b"
      },
      "outputs": [],
      "source": [
        "# # install torchvision\n",
        "# !pip install torchvision\n",
        "# import library\n",
        "from torch.utils.data import DataLoader\n",
        "from torchvision import datasets\n",
        "from torchvision.transforms import ToTensor\n",
        "from torch import nn"
      ]
    },
    {
      "cell_type": "code",
      "execution_count": 32,
      "id": "2d688e89",
      "metadata": {
        "colab": {
          "base_uri": "https://localhost:8080/"
        },
        "id": "2d688e89",
        "outputId": "497e9681-79f7-4c93-a65d-419b912f2551"
      },
      "outputs": [
        {
          "output_type": "stream",
          "name": "stdout",
          "text": [
            "Downloading http://fashion-mnist.s3-website.eu-central-1.amazonaws.com/train-images-idx3-ubyte.gz\n",
            "Downloading http://fashion-mnist.s3-website.eu-central-1.amazonaws.com/train-images-idx3-ubyte.gz to data/FashionMNIST/raw/train-images-idx3-ubyte.gz\n"
          ]
        },
        {
          "output_type": "stream",
          "name": "stderr",
          "text": [
            "100%|██████████| 26421880/26421880 [00:01<00:00, 16302231.65it/s]\n"
          ]
        },
        {
          "output_type": "stream",
          "name": "stdout",
          "text": [
            "Extracting data/FashionMNIST/raw/train-images-idx3-ubyte.gz to data/FashionMNIST/raw\n",
            "\n",
            "Downloading http://fashion-mnist.s3-website.eu-central-1.amazonaws.com/train-labels-idx1-ubyte.gz\n",
            "Downloading http://fashion-mnist.s3-website.eu-central-1.amazonaws.com/train-labels-idx1-ubyte.gz to data/FashionMNIST/raw/train-labels-idx1-ubyte.gz\n"
          ]
        },
        {
          "output_type": "stream",
          "name": "stderr",
          "text": [
            "100%|██████████| 29515/29515 [00:00<00:00, 302360.57it/s]\n"
          ]
        },
        {
          "output_type": "stream",
          "name": "stdout",
          "text": [
            "Extracting data/FashionMNIST/raw/train-labels-idx1-ubyte.gz to data/FashionMNIST/raw\n",
            "\n",
            "Downloading http://fashion-mnist.s3-website.eu-central-1.amazonaws.com/t10k-images-idx3-ubyte.gz\n",
            "Downloading http://fashion-mnist.s3-website.eu-central-1.amazonaws.com/t10k-images-idx3-ubyte.gz to data/FashionMNIST/raw/t10k-images-idx3-ubyte.gz\n"
          ]
        },
        {
          "output_type": "stream",
          "name": "stderr",
          "text": [
            "100%|██████████| 4422102/4422102 [00:00<00:00, 5504054.56it/s]\n"
          ]
        },
        {
          "output_type": "stream",
          "name": "stdout",
          "text": [
            "Extracting data/FashionMNIST/raw/t10k-images-idx3-ubyte.gz to data/FashionMNIST/raw\n",
            "\n",
            "Downloading http://fashion-mnist.s3-website.eu-central-1.amazonaws.com/t10k-labels-idx1-ubyte.gz\n",
            "Downloading http://fashion-mnist.s3-website.eu-central-1.amazonaws.com/t10k-labels-idx1-ubyte.gz to data/FashionMNIST/raw/t10k-labels-idx1-ubyte.gz\n"
          ]
        },
        {
          "output_type": "stream",
          "name": "stderr",
          "text": [
            "100%|██████████| 5148/5148 [00:00<00:00, 12649254.24it/s]"
          ]
        },
        {
          "output_type": "stream",
          "name": "stdout",
          "text": [
            "Extracting data/FashionMNIST/raw/t10k-labels-idx1-ubyte.gz to data/FashionMNIST/raw\n",
            "\n"
          ]
        },
        {
          "output_type": "stream",
          "name": "stderr",
          "text": [
            "\n"
          ]
        }
      ],
      "source": [
        "# Download training data from open datasets\n",
        "training_data = datasets.FashionMNIST(\n",
        "    root=\"data\",\n",
        "    train=True,\n",
        "    download=True,\n",
        "    transform=ToTensor(),\n",
        ")"
      ]
    },
    {
      "cell_type": "code",
      "execution_count": 33,
      "id": "ea88c376",
      "metadata": {
        "id": "ea88c376"
      },
      "outputs": [],
      "source": [
        "# dataload test data from open dataset\n",
        "\n",
        "test_data = datasets.FashionMNIST(\n",
        "    root=\"data\",\n",
        "    train=False,\n",
        "    download=True,\n",
        "    transform=ToTensor(),\n",
        ")"
      ]
    },
    {
      "cell_type": "code",
      "execution_count": 34,
      "id": "b4a6263a",
      "metadata": {
        "colab": {
          "base_uri": "https://localhost:8080/"
        },
        "id": "b4a6263a",
        "outputId": "f65d9e57-2c73-4459-a7d3-5b78d58c1243"
      },
      "outputs": [
        {
          "output_type": "execute_result",
          "data": {
            "text/plain": [
              "(Dataset FashionMNIST\n",
              "     Number of datapoints: 60000\n",
              "     Root location: data\n",
              "     Split: Train\n",
              "     StandardTransform\n",
              " Transform: ToTensor(),\n",
              " Dataset FashionMNIST\n",
              "     Number of datapoints: 10000\n",
              "     Root location: data\n",
              "     Split: Test\n",
              "     StandardTransform\n",
              " Transform: ToTensor())"
            ]
          },
          "metadata": {},
          "execution_count": 34
        }
      ],
      "source": [
        "training_data, test_data"
      ]
    },
    {
      "cell_type": "code",
      "execution_count": 35,
      "id": "36d4c8f7",
      "metadata": {
        "colab": {
          "base_uri": "https://localhost:8080/"
        },
        "id": "36d4c8f7",
        "outputId": "7083e436-0598-49ac-df33-b2e339e3ca82"
      },
      "outputs": [
        {
          "output_type": "execute_result",
          "data": {
            "text/plain": [
              "torchvision.datasets.mnist.FashionMNIST"
            ]
          },
          "metadata": {},
          "execution_count": 35
        }
      ],
      "source": [
        "type(training_data)"
      ]
    },
    {
      "cell_type": "markdown",
      "id": "d8e08c59",
      "metadata": {
        "id": "d8e08c59"
      },
      "source": [
        "`Dataloader` wraps an iterable over our dataset, and supports automatic batching, sampling, shuffling and multiprocess data loading. Here we define a batch size of 64, i.e. each element in the dataloader iterable will return a batch of 64 features and labels."
      ]
    },
    {
      "cell_type": "code",
      "execution_count": 36,
      "id": "1affae44",
      "metadata": {
        "colab": {
          "base_uri": "https://localhost:8080/",
          "height": 947
        },
        "id": "1affae44",
        "outputId": "8f3fc2a8-791f-4efd-9482-2985fba2c8ce"
      },
      "outputs": [
        {
          "output_type": "execute_result",
          "data": {
            "text/plain": [
              "Text(0.5, 0.98, 'Image samples')"
            ]
          },
          "metadata": {},
          "execution_count": 36
        },
        {
          "output_type": "display_data",
          "data": {
            "text/plain": [
              "<Figure size 1200x1000 with 9 Axes>"
            ],
            "image/png": "[encoded data removed]"
          },
          "metadata": {}
        }
      ],
      "source": [
        "import matplotlib.pyplot as plt\n",
        "import numpy as np, torch\n",
        "\n",
        "plt.figure(figsize=(12, 10))\n",
        "for i in np.arange(1, 10): # this generates an array of integers ranging from 1 - 9 excluding 10\n",
        "    plt.subplot(3, 3, i) # plt.subplot(number_of_row, number_of_column, index) this is the index of the current plot.\n",
        "    # Gets images from training_data\n",
        "    image, image_label = training_data[i]\n",
        "    plt.imshow(image[0], cmap='Blues')\n",
        "    plt.title(f'Image category {image_label}')\n",
        "plt.suptitle('Image samples')\n",
        ""
      ]
    },
    {
      "cell_type": "code",
      "execution_count": 37,
      "id": "6c4a090b",
      "metadata": {
        "colab": {
          "base_uri": "https://localhost:8080/"
        },
        "id": "6c4a090b",
        "outputId": "77a08ee7-e599-4fa5-c1d5-29048b8772f6"
      },
      "outputs": [
        {
          "output_type": "execute_result",
          "data": {
            "text/plain": [
              "938"
            ]
          },
          "metadata": {},
          "execution_count": 37
        }
      ],
      "source": [
        "batch_size = 64\n",
        "\n",
        "training = DataLoader(training_data, batch_size=batch_size)\n",
        "testing = DataLoader(test_data, batch_size=batch_size)\n",
        "\n",
        "len(training)"
      ]
    },
    {
      "cell_type": "code",
      "execution_count": 38,
      "id": "804bbb3f",
      "metadata": {
        "colab": {
          "base_uri": "https://localhost:8080/"
        },
        "id": "804bbb3f",
        "outputId": "e07a13b4-00f8-454d-dba4-f62544a3e3c5"
      },
      "outputs": [
        {
          "output_type": "execute_result",
          "data": {
            "text/plain": [
              "60032"
            ]
          },
          "metadata": {},
          "execution_count": 38
        }
      ],
      "source": [
        "len(training) * batch_size"
      ]
    },
    {
      "cell_type": "code",
      "execution_count": 39,
      "id": "de282b9e",
      "metadata": {
        "colab": {
          "base_uri": "https://localhost:8080/"
        },
        "id": "de282b9e",
        "outputId": "843eb4fe-ec36-46e6-e3f7-78409c4855ee"
      },
      "outputs": [
        {
          "output_type": "execute_result",
          "data": {
            "text/plain": [
              "10048"
            ]
          },
          "metadata": {},
          "execution_count": 39
        }
      ],
      "source": [
        "len(testing) * batch_size"
      ]
    },
    {
      "cell_type": "code",
      "execution_count": 40,
      "id": "277d2f5d",
      "metadata": {
        "colab": {
          "base_uri": "https://localhost:8080/"
        },
        "id": "277d2f5d",
        "outputId": "8e5eafe4-a663-4d57-c203-f8ae93dbcac0"
      },
      "outputs": [
        {
          "output_type": "stream",
          "name": "stdout",
          "text": [
            "Shape of X: torch.Size([64, 1, 28, 28])\n",
            "Shape of y: torch.Size([64])\n",
            "tensor(0.)\n",
            "tensor(1.)\n"
          ]
        }
      ],
      "source": [
        "for X, y in testing:\n",
        "    print(f'Shape of X: {X.shape}')\n",
        "    print(f'Shape of y: {y.shape}')\n",
        "    print(torch.min(X))\n",
        "    print(torch.max(X))\n",
        "    break"
      ]
    },
    {
      "cell_type": "code",
      "execution_count": 41,
      "id": "7a7ce5cf",
      "metadata": {
        "colab": {
          "base_uri": "https://localhost:8080/"
        },
        "id": "7a7ce5cf",
        "outputId": "57e933b8-2cef-4744-901c-689e3de23460"
      },
      "outputs": [
        {
          "output_type": "stream",
          "name": "stdout",
          "text": [
            "Shape of X: torch.Size([64, 1, 28, 28])\n",
            "Shape of y: torch.Size([64])\n",
            "tensor(0.)\n",
            "tensor(1.)\n"
          ]
        }
      ],
      "source": [
        "for X, y in training:\n",
        "    print(f'Shape of X: {X.shape}')\n",
        "    print(f'Shape of y: {y.shape}')\n",
        "    print(torch.min(X))\n",
        "    print(torch.max(X))\n",
        "    break"
      ]
    },
    {
      "cell_type": "markdown",
      "id": "6fe4ea3e",
      "metadata": {
        "id": "6fe4ea3e"
      },
      "source": [
        "Note: This is no need to scale because `DataLoader` does that already"
      ]
    },
    {
      "cell_type": "markdown",
      "id": "89594173",
      "metadata": {
        "id": "89594173"
      },
      "source": [
        "#### Now, let's build model\n",
        "\n",
        "Define a neural network class by subclassing `nn.Module`, and initialize the neural network layers in `__init__`. Every `nn.Module` subclass implements the operations on input data in the forward method."
      ]
    },
    {
      "cell_type": "code",
      "execution_count": 51,
      "id": "eb61f542",
      "metadata": {
        "id": "eb61f542"
      },
      "outputs": [],
      "source": [
        "class PractiseNN(nn.Module):\n",
        "  def __init__(self):\n",
        "    super(PractiseNN, self).__init__()\n",
        "    # Flatten layer is used to make the multidimensional input\n",
        "    # 1-dimensional, commonly used in the transition from the convolution\n",
        "    # layer to the full connected layer.\n",
        "    self.flatten = nn.Flatten()\n",
        "    # A sequential model is appropriate for a plain stack of layers where\n",
        "    # each layer has exactly one input tensor and one output tensor.\n",
        "    self.build_model = nn.Sequential(\n",
        "        nn.Linear(28*28, 512), #28*28 is input shape\n",
        "        # step function: this activation func is responsible for transforming\n",
        "        # the summed weighted input from the node into the activation of the\n",
        "        # node or output for that input.\n",
        "        nn.ReLU(),\n",
        "        nn.Linear(512, 512), #hidden layer\n",
        "        nn.ReLU(),\n",
        "        nn.Linear(512, 10) #output layer\n",
        "    )\n",
        "\n",
        "  def forward(self, x):\n",
        "    x = self.flatten(x)\n",
        "    dnn = self.build_model(x)\n",
        "    return dnn"
      ]
    },
    {
      "cell_type": "code",
      "source": [
        "nNet_model = PractiseNN()"
      ],
      "metadata": {
        "id": "TrbPdphD0mnk"
      },
      "id": "TrbPdphD0mnk",
      "execution_count": 52,
      "outputs": []
    },
    {
      "cell_type": "code",
      "source": [
        "# compile model - Loss Function and Optimizer\n",
        "\n",
        "loss_fn = nn.CrossEntropyLoss()\n",
        "# Optimizer is an algorithm or func that adapts the neural network\n",
        "# attributes, like learning rate and weights. Hence, it assists in improving\n",
        "# the accuracy and reduces the total loss.\n",
        "optimizer = torch.optim.Adam(nNet_model.parameters(), lr=1e-5)"
      ],
      "metadata": {
        "id": "M-4gh8b21HdA"
      },
      "id": "M-4gh8b21HdA",
      "execution_count": 54,
      "outputs": []
    },
    {
      "cell_type": "code",
      "source": [
        "def train(dataloader, model, loss_fn, optimizer):\n",
        "  size = len(dataloader.dataset)\n",
        "  model.train()\n",
        "  for batch, (X, y) in enumerate(dataloader):\n",
        "    # Compute prediction error\n",
        "    pred = model(X)\n",
        "    train_loss = loss_fn(pred, y)\n",
        "\n",
        "    # Backpropagation\n",
        "    optimizer.zero_grad()\n",
        "    train_loss.backward()\n",
        "    optimizer.step()\n",
        "\n",
        "    if batch % 100 == 0:\n",
        "      loss, current = train_loss.item(), batch * len(X)\n",
        "      print(f\"Loss: {loss:>7f} [{current:>5d}/{size:>5d}]\")"
      ],
      "metadata": {
        "id": "Ow2d4vci1vJW"
      },
      "id": "Ow2d4vci1vJW",
      "execution_count": 56,
      "outputs": []
    },
    {
      "cell_type": "code",
      "source": [
        "def test(dataloader, model, loss_fn):\n",
        "  size = len(dataloader.dataset)\n",
        "  num_batches = len(dataloader)\n",
        "  model.eval()\n",
        "  test_loss, correct = 0, 0\n",
        "  with torch.no_grad():\n",
        "    for X, y in dataloader:\n",
        "      pred = model(X)\n",
        "      test_loss += loss_fn(pred, y).item()\n",
        "      correct += (pred.argmax(1) == y).type(torch.float).sum().item()\n",
        "  test_loss /= num_batches\n",
        "  correct /= size\n",
        "  print(f\"Test Error: \\n Accuracy: {(100*correct):>0.1f}%, Avg loss: {test_loss:>8f} \\n\")"
      ],
      "metadata": {
        "id": "ASuti93w6GCF"
      },
      "id": "ASuti93w6GCF",
      "execution_count": 58,
      "outputs": []
    },
    {
      "cell_type": "code",
      "source": [
        "for epoch in range(5):\n",
        "  print(f\"Epochs {epoch+1}\")\n",
        "  train(training, nNet_model, loss_fn, optimizer)\n",
        "  test(testing, nNet_model, loss_fn)"
      ],
      "metadata": {
        "colab": {
          "base_uri": "https://localhost:8080/"
        },
        "id": "tCSGrX058d1o",
        "outputId": "420eea42-1c9f-4d06-aa25-37336681ded0"
      },
      "id": "tCSGrX058d1o",
      "execution_count": 60,
      "outputs": [
        {
          "output_type": "stream",
          "name": "stdout",
          "text": [
            "Epochs 1\n",
            "Loss: 0.456873 [    0/60000]\n",
            "Loss: 0.559278 [ 6400/60000]\n",
            "Loss: 0.376405 [12800/60000]\n",
            "Loss: 0.625479 [19200/60000]\n",
            "Loss: 0.501809 [25600/60000]\n",
            "Loss: 0.522090 [32000/60000]\n",
            "Loss: 0.510293 [38400/60000]\n",
            "Loss: 0.645902 [44800/60000]\n",
            "Loss: 0.604996 [51200/60000]\n",
            "Loss: 0.505648 [57600/60000]\n",
            "Test Error: \n",
            " Accuracy: 81.7%, Avg loss: 0.521888 \n",
            "\n",
            "Epochs 2\n",
            "Loss: 0.424617 [    0/60000]\n",
            "Loss: 0.531114 [ 6400/60000]\n",
            "Loss: 0.356097 [12800/60000]\n",
            "Loss: 0.598243 [19200/60000]\n",
            "Loss: 0.478712 [25600/60000]\n",
            "Loss: 0.499525 [32000/60000]\n",
            "Loss: 0.486213 [38400/60000]\n",
            "Loss: 0.641533 [44800/60000]\n",
            "Loss: 0.598325 [51200/60000]\n",
            "Loss: 0.480576 [57600/60000]\n",
            "Test Error: \n",
            " Accuracy: 82.3%, Avg loss: 0.506166 \n",
            "\n",
            "Epochs 3\n",
            "Loss: 0.397606 [    0/60000]\n",
            "Loss: 0.510199 [ 6400/60000]\n",
            "Loss: 0.340039 [12800/60000]\n",
            "Loss: 0.575881 [19200/60000]\n",
            "Loss: 0.459584 [25600/60000]\n",
            "Loss: 0.479973 [32000/60000]\n",
            "Loss: 0.467331 [38400/60000]\n",
            "Loss: 0.636908 [44800/60000]\n",
            "Loss: 0.591942 [51200/60000]\n",
            "Loss: 0.460314 [57600/60000]\n",
            "Test Error: \n",
            " Accuracy: 82.7%, Avg loss: 0.493769 \n",
            "\n",
            "Epochs 4\n",
            "Loss: 0.375346 [    0/60000]\n",
            "Loss: 0.494061 [ 6400/60000]\n",
            "Loss: 0.327002 [12800/60000]\n",
            "Loss: 0.557533 [19200/60000]\n",
            "Loss: 0.443451 [25600/60000]\n",
            "Loss: 0.463487 [32000/60000]\n",
            "Loss: 0.452746 [38400/60000]\n",
            "Loss: 0.631798 [44800/60000]\n",
            "Loss: 0.585565 [51200/60000]\n",
            "Loss: 0.444461 [57600/60000]\n",
            "Test Error: \n",
            " Accuracy: 83.0%, Avg loss: 0.483714 \n",
            "\n",
            "Epochs 5\n",
            "Loss: 0.356605 [    0/60000]\n",
            "Loss: 0.481064 [ 6400/60000]\n",
            "Loss: 0.316384 [12800/60000]\n",
            "Loss: 0.542136 [19200/60000]\n",
            "Loss: 0.429934 [25600/60000]\n",
            "Loss: 0.449556 [32000/60000]\n",
            "Loss: 0.441134 [38400/60000]\n",
            "Loss: 0.625822 [44800/60000]\n",
            "Loss: 0.579435 [51200/60000]\n",
            "Loss: 0.432098 [57600/60000]\n",
            "Test Error: \n",
            " Accuracy: 83.2%, Avg loss: 0.475344 \n",
            "\n"
          ]
        }
      ]
    },
    {
      "cell_type": "markdown",
      "source": [
        "## Further reading:\n",
        "\n",
        "### Book:\n",
        "- [Deep learning with Pytorch(GitHub)](https://github.com/deep-learning-with-pytorch/dlwpt-code)\n",
        "\n",
        "### Tutorial:\n",
        "- [PyTorch](https://pytorch.org/tutorials/beginner/deep_learning_60min_blitz.html)\n",
        "- [Zero to Mastery Learn PyTorch for Deep Learning](https://www.learnpytorch.io/)\n",
        "\n",
        "### Reference:\n",
        "- [Official documentation](https://pytorch.org/tutorials/beginner/basics/intro.html)\n",
        "\n",
        "- [AI Planet LLM Bootcamp](https://aiplanet.com/learn/llm-bootcamp/module-1/2321/notebook-quickstart-guide-to-pytorch-basics)\n",
        "\n",
        "### Practitioner:\n",
        "\n",
        "- [Sunday P. Afolabi](https://github.com/Lecon-a)\n",
        "\n",
        "✈"
      ],
      "metadata": {
        "id": "Orz09EYB97bQ"
      },
      "id": "Orz09EYB97bQ"
    }
  ],
  "metadata": {
    "kernelspec": {
      "display_name": "Python 3 (ipykernel)",
      "language": "python",
      "name": "python3"
    },
    "language_info": {
      "codemirror_mode": {
        "name": "ipython",
        "version": 3
      },
      "file_extension": ".py",
      "mimetype": "text/x-python",
      "name": "python",
      "nbconvert_exporter": "python",
      "pygments_lexer": "ipython3",
      "version": "3.11.4"
    },
    "colab": {
      "provenance": [],
      "history_visible": true
    }
  },
  "nbformat": 4,
  "nbformat_minor": 5
}