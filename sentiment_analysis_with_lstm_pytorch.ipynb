{
  "cells": [
    {
      "cell_type": "markdown",
      "metadata": {
        "id": "view-in-github",
        "colab_type": "text"
      },
      "source": [
        "<a href=\"https://colab.research.google.com/github/Lecon-a/start_LLM_skill/blob/main/sentiment_analysis_with_lstm_pytorch.ipynb\" target=\"_parent\"><img src=\"https://colab.research.google.com/assets/colab-badge.svg\" alt=\"Open In Colab\"/></a>"
      ]
    },
    {
      "cell_type": "markdown",
      "metadata": {
        "id": "yYPkpsJ5zhua"
      },
      "source": [
        "## IMDb Sentiment Analysis using LSTM PyTorch"
      ]
    },
    {
      "cell_type": "code",
      "execution_count": 1,
      "metadata": {
        "colab": {
          "base_uri": "https://localhost:8080/"
        },
        "id": "wZxv-vOLzwwl",
        "outputId": "b3848662-4cee-4c49-b071-771c942b17f1"
      },
      "outputs": [
        {
          "output_type": "stream",
          "name": "stdout",
          "text": [
            "Collecting datasets\n",
            "  Downloading datasets-2.14.4-py3-none-any.whl (519 kB)\n",
            "\u001b[?25l     \u001b[90m━━━━━━━━━━━━━━━━━━━━━━━━━━━━━━━━━━━━━━━━\u001b[0m \u001b[32m0.0/519.3 kB\u001b[0m \u001b[31m?\u001b[0m eta \u001b[36m-:--:--\u001b[0m\r\u001b[2K     \u001b[91m━━━━━━━━━━━━━━━\u001b[0m\u001b[90m╺\u001b[0m\u001b[90m━━━━━━━━━━━━━━━━━━━━━━━\u001b[0m \u001b[32m204.8/519.3 kB\u001b[0m \u001b[31m6.1 MB/s\u001b[0m eta \u001b[36m0:00:01\u001b[0m\r\u001b[2K     \u001b[90m━━━━━━━━━━━━━━━━━━━━━━━━━━━━━━━━━━━━━━━\u001b[0m \u001b[32m519.3/519.3 kB\u001b[0m \u001b[31m8.1 MB/s\u001b[0m eta \u001b[36m0:00:00\u001b[0m\n",
            "\u001b[?25hRequirement already satisfied: numpy>=1.17 in /usr/local/lib/python3.10/dist-packages (from datasets) (1.23.5)\n",
            "Requirement already satisfied: pyarrow>=8.0.0 in /usr/local/lib/python3.10/dist-packages (from datasets) (9.0.0)\n",
            "Collecting dill<0.3.8,>=0.3.0 (from datasets)\n",
            "  Downloading dill-0.3.7-py3-none-any.whl (115 kB)\n",
            "\u001b[2K     \u001b[90m━━━━━━━━━━━━━━━━━━━━━━━━━━━━━━━━━━━━━━━\u001b[0m \u001b[32m115.3/115.3 kB\u001b[0m \u001b[31m5.5 MB/s\u001b[0m eta \u001b[36m0:00:00\u001b[0m\n",
            "\u001b[?25hRequirement already satisfied: pandas in /usr/local/lib/python3.10/dist-packages (from datasets) (1.5.3)\n",
            "Requirement already satisfied: requests>=2.19.0 in /usr/local/lib/python3.10/dist-packages (from datasets) (2.31.0)\n",
            "Requirement already satisfied: tqdm>=4.62.1 in /usr/local/lib/python3.10/dist-packages (from datasets) (4.66.1)\n",
            "Collecting xxhash (from datasets)\n",
            "  Downloading xxhash-3.3.0-cp310-cp310-manylinux_2_17_x86_64.manylinux2014_x86_64.whl (194 kB)\n",
            "\u001b[2K     \u001b[90m━━━━━━━━━━━━━━━━━━━━━━━━━━━━━━━━━━━━━━\u001b[0m \u001b[32m194.1/194.1 kB\u001b[0m \u001b[31m11.6 MB/s\u001b[0m eta \u001b[36m0:00:00\u001b[0m\n",
            "\u001b[?25hCollecting multiprocess (from datasets)\n",
            "  Downloading multiprocess-0.70.15-py310-none-any.whl (134 kB)\n",
            "\u001b[2K     \u001b[90m━━━━━━━━━━━━━━━━━━━━━━━━━━━━━━━━━━━━━━\u001b[0m \u001b[32m134.8/134.8 kB\u001b[0m \u001b[31m11.0 MB/s\u001b[0m eta \u001b[36m0:00:00\u001b[0m\n",
            "\u001b[?25hRequirement already satisfied: fsspec[http]>=2021.11.1 in /usr/local/lib/python3.10/dist-packages (from datasets) (2023.6.0)\n",
            "Requirement already satisfied: aiohttp in /usr/local/lib/python3.10/dist-packages (from datasets) (3.8.5)\n",
            "Collecting huggingface-hub<1.0.0,>=0.14.0 (from datasets)\n",
            "  Downloading huggingface_hub-0.16.4-py3-none-any.whl (268 kB)\n",
            "\u001b[2K     \u001b[90m━━━━━━━━━━━━━━━━━━━━━━━━━━━━━━━━━━━━━━\u001b[0m \u001b[32m268.8/268.8 kB\u001b[0m \u001b[31m15.0 MB/s\u001b[0m eta \u001b[36m0:00:00\u001b[0m\n",
            "\u001b[?25hRequirement already satisfied: packaging in /usr/local/lib/python3.10/dist-packages (from datasets) (23.1)\n",
            "Requirement already satisfied: pyyaml>=5.1 in /usr/local/lib/python3.10/dist-packages (from datasets) (6.0.1)\n",
            "Requirement already satisfied: attrs>=17.3.0 in /usr/local/lib/python3.10/dist-packages (from aiohttp->datasets) (23.1.0)\n",
            "Requirement already satisfied: charset-normalizer<4.0,>=2.0 in /usr/local/lib/python3.10/dist-packages (from aiohttp->datasets) (3.2.0)\n",
            "Requirement already satisfied: multidict<7.0,>=4.5 in /usr/local/lib/python3.10/dist-packages (from aiohttp->datasets) (6.0.4)\n",
            "Requirement already satisfied: async-timeout<5.0,>=4.0.0a3 in /usr/local/lib/python3.10/dist-packages (from aiohttp->datasets) (4.0.3)\n",
            "Requirement already satisfied: yarl<2.0,>=1.0 in /usr/local/lib/python3.10/dist-packages (from aiohttp->datasets) (1.9.2)\n",
            "Requirement already satisfied: frozenlist>=1.1.1 in /usr/local/lib/python3.10/dist-packages (from aiohttp->datasets) (1.4.0)\n",
            "Requirement already satisfied: aiosignal>=1.1.2 in /usr/local/lib/python3.10/dist-packages (from aiohttp->datasets) (1.3.1)\n",
            "Requirement already satisfied: filelock in /usr/local/lib/python3.10/dist-packages (from huggingface-hub<1.0.0,>=0.14.0->datasets) (3.12.2)\n",
            "Requirement already satisfied: typing-extensions>=3.7.4.3 in /usr/local/lib/python3.10/dist-packages (from huggingface-hub<1.0.0,>=0.14.0->datasets) (4.7.1)\n",
            "Requirement already satisfied: idna<4,>=2.5 in /usr/local/lib/python3.10/dist-packages (from requests>=2.19.0->datasets) (3.4)\n",
            "Requirement already satisfied: urllib3<3,>=1.21.1 in /usr/local/lib/python3.10/dist-packages (from requests>=2.19.0->datasets) (2.0.4)\n",
            "Requirement already satisfied: certifi>=2017.4.17 in /usr/local/lib/python3.10/dist-packages (from requests>=2.19.0->datasets) (2023.7.22)\n",
            "Requirement already satisfied: python-dateutil>=2.8.1 in /usr/local/lib/python3.10/dist-packages (from pandas->datasets) (2.8.2)\n",
            "Requirement already satisfied: pytz>=2020.1 in /usr/local/lib/python3.10/dist-packages (from pandas->datasets) (2023.3)\n",
            "Requirement already satisfied: six>=1.5 in /usr/local/lib/python3.10/dist-packages (from python-dateutil>=2.8.1->pandas->datasets) (1.16.0)\n",
            "Installing collected packages: xxhash, dill, multiprocess, huggingface-hub, datasets\n",
            "Successfully installed datasets-2.14.4 dill-0.3.7 huggingface-hub-0.16.4 multiprocess-0.70.15 xxhash-3.3.0\n"
          ]
        }
      ],
      "source": [
        "# download dataset\n",
        "!pip install datasets"
      ]
    },
    {
      "cell_type": "markdown",
      "metadata": {
        "id": "yJKTHDEo1YDz"
      },
      "source": [
        "## Import Required Modules"
      ]
    },
    {
      "cell_type": "code",
      "execution_count": 2,
      "metadata": {
        "id": "ipJZmU5t1qBr"
      },
      "outputs": [],
      "source": [
        "import torch\n",
        "import torch.nn as nn\n",
        "import torch.optim as optim\n",
        "import torchtext\n",
        "import tqdm\n",
        "\n",
        "import functools\n",
        "import sys\n",
        "\n",
        "import datasets\n",
        "import matplotlib.pyplot as plt\n",
        "import numpy as np"
      ]
    },
    {
      "cell_type": "markdown",
      "metadata": {
        "id": "gRDTrWmu2aF_"
      },
      "source": [
        "### Set Seed and enable GPU"
      ]
    },
    {
      "cell_type": "code",
      "execution_count": 3,
      "metadata": {
        "colab": {
          "base_uri": "https://localhost:8080/"
        },
        "id": "ykN85gnF2ZY9",
        "outputId": "4544eee9-df94-420b-b909-2ffffe1be175"
      },
      "outputs": [
        {
          "output_type": "execute_result",
          "data": {
            "text/plain": [
              "<torch._C.Generator at 0x7c0cc00f0b50>"
            ]
          },
          "metadata": {},
          "execution_count": 3
        }
      ],
      "source": [
        "torch.manual_seed(42) # This helps to control randomness in PyTorch"
      ]
    },
    {
      "cell_type": "markdown",
      "metadata": {
        "id": "Tc0Xz9bu3Ps9"
      },
      "source": [
        "#### Important point to note\n",
        "\n",
        "To switch to CUDA (GPU), follow the below steps:\n",
        "- Click on Runtime\n",
        "- Click on `Change Runtime type`\n",
        "- Select Hardware Accelerator as `T4 GPU`"
      ]
    },
    {
      "cell_type": "code",
      "execution_count": 4,
      "metadata": {
        "id": "8mXJhc4w3Oe8"
      },
      "outputs": [],
      "source": [
        "device = torch.device('cuda' if torch.cuda.is_available() else 'cpu')"
      ]
    },
    {
      "cell_type": "code",
      "execution_count": 5,
      "metadata": {
        "colab": {
          "base_uri": "https://localhost:8080/"
        },
        "id": "WF40UDPG4jal",
        "outputId": "24bcf9b1-2acc-442a-fe4a-33c41326667b"
      },
      "outputs": [
        {
          "output_type": "execute_result",
          "data": {
            "text/plain": [
              "device(type='cuda')"
            ]
          },
          "metadata": {},
          "execution_count": 5
        }
      ],
      "source": [
        "device"
      ]
    },
    {
      "cell_type": "markdown",
      "metadata": {
        "id": "djIK4dOB45hd"
      },
      "source": [
        "Download the Dataset using datasets library by HuggingFace"
      ]
    },
    {
      "cell_type": "code",
      "execution_count": 6,
      "metadata": {
        "colab": {
          "base_uri": "https://localhost:8080/",
          "height": 241,
          "referenced_widgets": [
            "0d372a1a9d2947c6aa351515f0080152",
            "5d2cd3e5eec9412cb56e5bd2328781d9",
            "c824ec83484b485ba8fc994f345b89b5",
            "1b1d4baf88a34dc193ad8b8a085a6001",
            "b3f625dba703487ebde30cd658c6388d",
            "058cfbf3c664462d83e461ed12b14768",
            "86be7a56bbb646c6b39c154b6dcdf3be",
            "26a96795081a4e94bb428b4d5b074972",
            "8a03cf8468c3426cbdafc476d5e43efe",
            "935d46b080aa4d599728c822987230bd",
            "d96b0ad70cb54eb6abc94fb799d77ea1",
            "838c59961339472f84e5d84cd80ab87b",
            "ae6eddc810814db8b6a172d4f2454f6a",
            "460398473a464e0c8cb34b1da1ce7e68",
            "a80cf9a74c35441dafa55c6d24aec7e5",
            "332a63c39d1246ee9f3bc810f8c0e391",
            "ffc91adf910846118f701b77ab955035",
            "649a77b803784f778a5bdc7b3d1afa49",
            "8c2c6623e34b492199488f4c1ef8f021",
            "9c6e65220b54433dbfcde398ad2e6712",
            "63360de3fd434e3aaa81a7e05c7aa12b",
            "f14aee7fb30a4296944f08749930ae49",
            "80560b96828141b2a656780a1346c256",
            "80e70d7177d0485c865669a6765a0b17",
            "57eac8add3424dc597e93b47ef6c73d1",
            "873b766e7509497d9a0688e6e71e75c3",
            "d888956660804f1b86069256d2d62e91",
            "2562755108bd4f448793154e7554734f",
            "334b0124c6e643029a18636bf8e0ab82",
            "382a9b28b5ec44148a37288fdb526d75",
            "9bf695a8f61448148de29172b0ee287b",
            "a0dc61cb0b9547a88348e6d27bd58f1d",
            "6267bfc692164e5997b64a5578ea60e3",
            "9a15a34088cc4761884b6905c109e6b6",
            "68b80c17a2ed4362a9b6c5cfc0a6d48e",
            "b48f34ddc18044f9bf114038f3e14667",
            "4adb43638504428588cab6a675f0f4b5",
            "5faec4d68cdd4d4f91098bb3d06df78b",
            "e4fffc115ba84acc9d9a7123cc0c697b",
            "49db21c46f304a12bcc4928c4fd3c77b",
            "4903154a40994ae78930b7236c94ae62",
            "b01d1c530c5e481c9081b390f7f84250",
            "1bff0b1d9cc348a0b14d8267cc00c8f4",
            "84d03f3ecb8645268ea82877c60808f7",
            "1c2fa05be72944c0a806f23a3b07bf2e",
            "84b14f68a3ea4e9699bc7017093ed0ac",
            "dfca998137a34ce5964532990fbff0ff",
            "03ac7661be6d45cc89d9e632bce264a2",
            "9c5dea4340c44bbf8fa91a7680bbc72e",
            "78f04b58157b448e82ba74ba8202a327",
            "d775c87e1cb04ca6be513f4bc2aca83b",
            "1f0c17ebadce441d8f019dbfea70e58b",
            "1e7820f538404b2bba5fe8456a87e7fe",
            "e93f5af9fa134fdba68fcc1e01c3e413",
            "846f759ba5114fd1b258381c0c33bfcd",
            "3e38d02739e142828517e20835005167",
            "c83255666cd7447e8278168cd17f4f45",
            "38c2be6ea0b24177b2c9a7649a36ab1b",
            "d555b73714e946598c232b33b888a61b",
            "2f6aff721fb4455990cd974c5dacc8e9",
            "4b4c1a6f32d54a85ae3f524642e4bc1f",
            "5ea03a60878242fa90e1c507ca66482f",
            "c2d947fe73cf40dea4e4d98efa5b63c3",
            "9d2f60d670d54f658b53bf3ee3ac7637",
            "91459853c80647eda777cc9c349aee02",
            "b68edf2d428c48ad8675583c2b529c9c",
            "02f3d5f477f948c697013698629cf6d7",
            "ad2d6e9fda814aecb7c4c7ffe2725d5d",
            "255fa85c534c4b7f886b3e554992c9c2",
            "5210e8594f394aa68a5e6078efdb251a",
            "5b99176dca70441caa22521ced621edf",
            "ddf79870eccb48dd9459545a7df44a99",
            "2c9804eb53c746e2bc87b2308199da75",
            "1e9004cfe56b4f2d9ac81d856f82893c",
            "551506b9f25244a8a598087cd5122aca",
            "9903fdfc3e29442f896bce94e765f064",
            "7a90291c17a748ccb598d088f6d983e2"
          ]
        },
        "id": "IW0roVEH4mFP",
        "outputId": "31abcb77-1884-439b-a6fa-e05060694586"
      },
      "outputs": [
        {
          "output_type": "display_data",
          "data": {
            "text/plain": [
              "Downloading builder script:   0%|          | 0.00/4.31k [00:00<?, ?B/s]"
            ],
            "application/vnd.jupyter.widget-view+json": {
              "version_major": 2,
              "version_minor": 0,
              "model_id": "0d372a1a9d2947c6aa351515f0080152"
            }
          },
          "metadata": {}
        },
        {
          "output_type": "display_data",
          "data": {
            "text/plain": [
              "Downloading metadata:   0%|          | 0.00/2.17k [00:00<?, ?B/s]"
            ],
            "application/vnd.jupyter.widget-view+json": {
              "version_major": 2,
              "version_minor": 0,
              "model_id": "838c59961339472f84e5d84cd80ab87b"
            }
          },
          "metadata": {}
        },
        {
          "output_type": "display_data",
          "data": {
            "text/plain": [
              "Downloading readme:   0%|          | 0.00/7.59k [00:00<?, ?B/s]"
            ],
            "application/vnd.jupyter.widget-view+json": {
              "version_major": 2,
              "version_minor": 0,
              "model_id": "80560b96828141b2a656780a1346c256"
            }
          },
          "metadata": {}
        },
        {
          "output_type": "display_data",
          "data": {
            "text/plain": [
              "Downloading data:   0%|          | 0.00/84.1M [00:00<?, ?B/s]"
            ],
            "application/vnd.jupyter.widget-view+json": {
              "version_major": 2,
              "version_minor": 0,
              "model_id": "9a15a34088cc4761884b6905c109e6b6"
            }
          },
          "metadata": {}
        },
        {
          "output_type": "display_data",
          "data": {
            "text/plain": [
              "Generating train split:   0%|          | 0/25000 [00:00<?, ? examples/s]"
            ],
            "application/vnd.jupyter.widget-view+json": {
              "version_major": 2,
              "version_minor": 0,
              "model_id": "1c2fa05be72944c0a806f23a3b07bf2e"
            }
          },
          "metadata": {}
        },
        {
          "output_type": "display_data",
          "data": {
            "text/plain": [
              "Generating test split:   0%|          | 0/25000 [00:00<?, ? examples/s]"
            ],
            "application/vnd.jupyter.widget-view+json": {
              "version_major": 2,
              "version_minor": 0,
              "model_id": "3e38d02739e142828517e20835005167"
            }
          },
          "metadata": {}
        },
        {
          "output_type": "display_data",
          "data": {
            "text/plain": [
              "Generating unsupervised split:   0%|          | 0/50000 [00:00<?, ? examples/s]"
            ],
            "application/vnd.jupyter.widget-view+json": {
              "version_major": 2,
              "version_minor": 0,
              "model_id": "02f3d5f477f948c697013698629cf6d7"
            }
          },
          "metadata": {}
        }
      ],
      "source": [
        "train_data, test_data = datasets.load_dataset('imdb', split=['train', 'test'])"
      ]
    },
    {
      "cell_type": "markdown",
      "metadata": {
        "id": "j5MvDIlH5Tki"
      },
      "source": [
        "## Torchtext\n",
        "\n",
        "Torchtext is a library made for NLP lovers. This contains most of the pre-processing required for Text data\n",
        "\n",
        "## Tokenize the sequences"
      ]
    },
    {
      "cell_type": "code",
      "execution_count": 7,
      "metadata": {
        "id": "dJMBuHrc60pT"
      },
      "outputs": [],
      "source": [
        "tokenizer = torchtext.data.utils.get_tokenizer('basic_english')"
      ]
    },
    {
      "cell_type": "code",
      "execution_count": 9,
      "metadata": {
        "id": "MV-9Vh0H62cf"
      },
      "outputs": [],
      "source": [
        "def tokenize_data(example, tokenizer, max_length):\n",
        "  # print(example)\n",
        "  tokens = tokenizer(example['text'])[:max_length] # why do we have to set the max length\n",
        "  length = len(tokens)\n",
        "  return {'tokens': tokens, 'length': length}"
      ]
    },
    {
      "cell_type": "code",
      "execution_count": 10,
      "metadata": {
        "colab": {
          "base_uri": "https://localhost:8080/",
          "height": 81,
          "referenced_widgets": [
            "5c6d47b2498049bf990de65443670f79",
            "30bfde707b1b49978fe05f9466bb9911",
            "d0883a9b4c30406b8f5e9ead21e0ce95",
            "17fec87d1de54135a967becb05d8f97f",
            "92135038614b4306a450a598f6f4fe8f",
            "6fc51f16dddf45b7bfa5c38bd7ff9f74",
            "bee3bc878d56451e96099550cea159d1",
            "928904f079a844b2b6e867a031f65dc3",
            "ff2c21cb0f1f4f74b69ef1fcf2d13370",
            "43c637f0bcc541e3b3cc3f640b5bf8b7",
            "dbca6908b5d64a6aa3c70b19e93e6e90",
            "643cf2d84e974ce3983b37cb1df2d7bd",
            "61fd9763338a470da9db512d0c54c423",
            "7ed1303f558f414e899962b39652d97f",
            "de6cbb99a91a48d4bd2e630dad48157d",
            "970549f055b64774a32d0198619fc63f",
            "bfbe7787b7254115830ac9c7de401ce0",
            "282de1a12d9a440d90879072dd48547a",
            "8f450e696d0b49d7879ba60d90c0b9b8",
            "319f273614ff40248110a6a0a8d5170d",
            "18f49b180c6d484686f0e31950bf58e8",
            "eecff7b81cc244f5ba1332932a141433"
          ]
        },
        "id": "C0f-WlKX7nb8",
        "outputId": "cdf6db92-9dd1-4f68-df87-51f9b8b61d0a"
      },
      "outputs": [
        {
          "output_type": "display_data",
          "data": {
            "text/plain": [
              "Map:   0%|          | 0/25000 [00:00<?, ? examples/s]"
            ],
            "application/vnd.jupyter.widget-view+json": {
              "version_major": 2,
              "version_minor": 0,
              "model_id": "5c6d47b2498049bf990de65443670f79"
            }
          },
          "metadata": {}
        },
        {
          "output_type": "display_data",
          "data": {
            "text/plain": [
              "Map:   0%|          | 0/25000 [00:00<?, ? examples/s]"
            ],
            "application/vnd.jupyter.widget-view+json": {
              "version_major": 2,
              "version_minor": 0,
              "model_id": "643cf2d84e974ce3983b37cb1df2d7bd"
            }
          },
          "metadata": {}
        }
      ],
      "source": [
        "max_length = 256\n",
        "train_token = train_data.map(tokenize_data, fn_kwargs={'tokenizer': tokenizer, 'max_length': max_length})\n",
        "test_token = test_data.map(tokenize_data, fn_kwargs={'tokenizer': tokenizer, 'max_length': max_length})"
      ]
    },
    {
      "cell_type": "markdown",
      "metadata": {
        "id": "mQzYlqLK9IUp"
      },
      "source": [
        "## Before Tokenization\n",
        "\n",
        "The dataset contains only text and label"
      ]
    },
    {
      "cell_type": "code",
      "execution_count": 12,
      "metadata": {
        "colab": {
          "base_uri": "https://localhost:8080/"
        },
        "id": "tt4MC91i9HiU",
        "outputId": "a7306a6c-766e-48d9-f3de-1b9222572be0"
      },
      "outputs": [
        {
          "output_type": "execute_result",
          "data": {
            "text/plain": [
              "Dataset({\n",
              "    features: ['text', 'label'],\n",
              "    num_rows: 25000\n",
              "})"
            ]
          },
          "metadata": {},
          "execution_count": 12
        }
      ],
      "source": [
        "train_data"
      ]
    },
    {
      "cell_type": "markdown",
      "source": [
        "## After Tokenization\n",
        "\n",
        "Notice two other keys have been added to it train data: tokens and length"
      ],
      "metadata": {
        "id": "otvQ90h8YeXH"
      }
    },
    {
      "cell_type": "code",
      "source": [
        "train_token"
      ],
      "metadata": {
        "colab": {
          "base_uri": "https://localhost:8080/"
        },
        "id": "Un_ioajDY0zn",
        "outputId": "7a52ae0d-b6c9-4d7e-cd20-9505e96789ab"
      },
      "execution_count": 13,
      "outputs": [
        {
          "output_type": "execute_result",
          "data": {
            "text/plain": [
              "Dataset({\n",
              "    features: ['text', 'label', 'tokens', 'length'],\n",
              "    num_rows: 25000\n",
              "})"
            ]
          },
          "metadata": {},
          "execution_count": 13
        }
      ]
    },
    {
      "cell_type": "code",
      "source": [
        "# display the first twenty text\n",
        "\n",
        "print(train_token['text'][:20])"
      ],
      "metadata": {
        "colab": {
          "base_uri": "https://localhost:8080/"
        },
        "id": "aik1XiFOY4Ro",
        "outputId": "07d7ed2a-68ec-4d2d-8161-766b69e22712"
      },
      "execution_count": 19,
      "outputs": [
        {
          "output_type": "stream",
          "name": "stdout",
          "text": [
            "['I rented I AM CURIOUS-YELLOW from my video store because of all the controversy that surrounded it when it was first released in 1967. I also heard that at first it was seized by U.S. customs if it ever tried to enter this country, therefore being a fan of films considered \"controversial\" I really had to see this for myself.<br /><br />The plot is centered around a young Swedish drama student named Lena who wants to learn everything she can about life. In particular she wants to focus her attentions to making some sort of documentary on what the average Swede thought about certain political issues such as the Vietnam War and race issues in the United States. In between asking politicians and ordinary denizens of Stockholm about their opinions on politics, she has sex with her drama teacher, classmates, and married men.<br /><br />What kills me about I AM CURIOUS-YELLOW is that 40 years ago, this was considered pornographic. Really, the sex and nudity scenes are few and far between, even then it\\'s not shot like some cheaply made porno. While my countrymen mind find it shocking, in reality sex and nudity are a major staple in Swedish cinema. Even Ingmar Bergman, arguably their answer to good old boy John Ford, had sex scenes in his films.<br /><br />I do commend the filmmakers for the fact that any sex shown in the film is shown for artistic purposes rather than just to shock people and make money to be shown in pornographic theaters in America. I AM CURIOUS-YELLOW is a good film for anyone wanting to study the meat and potatoes (no pun intended) of Swedish cinema. But really, this film doesn\\'t have much of a plot.', '\"I Am Curious: Yellow\" is a risible and pretentious steaming pile. It doesn\\'t matter what one\\'s political views are because this film can hardly be taken seriously on any level. As for the claim that frontal male nudity is an automatic NC-17, that isn\\'t true. I\\'ve seen R-rated films with male nudity. Granted, they only offer some fleeting views, but where are the R-rated films with gaping vulvas and flapping labia? Nowhere, because they don\\'t exist. The same goes for those crappy cable shows: schlongs swinging in the breeze but not a clitoris in sight. And those pretentious indie movies like The Brown Bunny, in which we\\'re treated to the site of Vincent Gallo\\'s throbbing johnson, but not a trace of pink visible on Chloe Sevigny. Before crying (or implying) \"double-standard\" in matters of nudity, the mentally obtuse should take into account one unavoidably obvious anatomical difference between men and women: there are no genitals on display when actresses appears nude, and the same cannot be said for a man. In fact, you generally won\\'t see female genitals in an American film in anything short of porn or explicit erotica. This alleged double-standard is less a double standard than an admittedly depressing ability to come to terms culturally with the insides of women\\'s bodies.', \"If only to avoid making this type of film in the future. This film is interesting as an experiment but tells no cogent story.<br /><br />One might feel virtuous for sitting thru it because it touches on so many IMPORTANT issues but it does so without any discernable motive. The viewer comes away with no new perspectives (unless one comes up with one while one's mind wanders, as it will invariably do during this pointless film).<br /><br />One might better spend one's time staring out a window at a tree growing.<br /><br />\", \"This film was probably inspired by Godard's Masculin, féminin and I urge you to see that film instead.<br /><br />The film has two strong elements and those are, (1) the realistic acting (2) the impressive, undeservedly good, photo. Apart from that, what strikes me most is the endless stream of silliness. Lena Nyman has to be most annoying actress in the world. She acts so stupid and with all the nudity in this film,...it's unattractive. Comparing to Godard's film, intellectuality has been replaced with stupidity. Without going too far on this subject, I would say that follows from the difference in ideals between the French and the Swedish society.<br /><br />A movie of its time, and place. 2/10.\", 'Oh, brother...after hearing about this ridiculous film for umpteen years all I can think of is that old Peggy Lee song..<br /><br />\"Is that all there is??\" ...I was just an early teen when this smoked fish hit the U.S. I was too young to get in the theater (although I did manage to sneak into \"Goodbye Columbus\"). Then a screening at a local film museum beckoned - Finally I could see this film, except now I was as old as my parents were when they schlepped to see it!!<br /><br />The ONLY reason this film was not condemned to the anonymous sands of time was because of the obscenity case sparked by its U.S. release. MILLIONS of people flocked to this stinker, thinking they were going to see a sex film...Instead, they got lots of closeups of gnarly, repulsive Swedes, on-street interviews in bland shopping malls, asinie political pretension...and feeble who-cares simulated sex scenes with saggy, pale actors.<br /><br />Cultural icon, holy grail, historic artifact..whatever this thing was, shred it, burn it, then stuff the ashes in a lead box!<br /><br />Elite esthetes still scrape to find value in its boring pseudo revolutionary political spewings..But if it weren\\'t for the censorship scandal, it would have been ignored, then forgotten.<br /><br />Instead, the \"I Am Blank, Blank\" rhythymed title was repeated endlessly for years as a titilation for porno films (I am Curious, Lavender - for gay films, I Am Curious, Black - for blaxploitation films, etc..) and every ten years or so the thing rises from the dead, to be viewed by a new generation of suckers who want to see that \"naughty sex film\" that \"revolutionized the film industry\"...<br /><br />Yeesh, avoid like the plague..Or if you MUST see it - rent the video and fast forward to the \"dirty\" parts, just to get it over with.<br /><br />', \"I would put this at the top of my list of films in the category of unwatchable trash! There are films that are bad, but the worst kind are the ones that are unwatchable but you are suppose to like them because they are supposed to be good for you! The sex sequences, so shocking in its day, couldn't even arouse a rabbit. The so called controversial politics is strictly high school sophomore amateur night Marxism. The film is self-consciously arty in the worst sense of the term. The photography is in a harsh grainy black and white. Some scenes are out of focus or taken from the wrong angle. Even the sound is bad! And some people call this art?<br /><br />\", \"Whoever wrote the screenplay for this movie obviously never consulted any books about Lucille Ball, especially her autobiography. I've never seen so many mistakes in a biopic, ranging from her early years in Celoron and Jamestown to her later years with Desi. I could write a whole list of factual errors, but it would go on for pages. In all, I believe that Lucille Ball is one of those inimitable people who simply cannot be portrayed by anyone other than themselves. If I were Lucie Arnaz and Desi, Jr., I would be irate at how many mistakes were made in this film. The filmmakers tried hard, but the movie seems awfully sloppy to me.\", 'When I first saw a glimpse of this movie, I quickly noticed the actress who was playing the role of Lucille Ball. Rachel York\\'s portrayal of Lucy is absolutely awful. Lucille Ball was an astounding comedian with incredible talent. To think about a legend like Lucille Ball being portrayed the way she was in the movie is horrendous. I cannot believe out of all the actresses in the world who could play a much better Lucy, the producers decided to get Rachel York. She might be a good actress in other roles but to play the role of Lucille Ball is tough. It is pretty hard to find someone who could resemble Lucille Ball, but they could at least find someone a bit similar in looks and talent. If you noticed York\\'s portrayal of Lucy in episodes of I Love Lucy like the chocolate factory or vitavetavegamin, nothing is similar in any way-her expression, voice, or movement.<br /><br />To top it all off, Danny Pino playing Desi Arnaz is horrible. Pino does not qualify to play as Ricky. He\\'s small and skinny, his accent is unreal, and once again, his acting is unbelievable. Although Fred and Ethel were not similar either, they were not as bad as the characters of Lucy and Ricky.<br /><br />Overall, extremely horrible casting and the story is badly told. If people want to understand the real life situation of Lucille Ball, I suggest watching A&E Biography of Lucy and Desi, read the book from Lucille Ball herself, or PBS\\' American Masters: Finding Lucy. If you want to see a docudrama, \"Before the Laughter\" would be a better choice. The casting of Lucille Ball and Desi Arnaz in \"Before the Laughter\" is much better compared to this. At least, a similar aspect is shown rather than nothing.', 'Who are these \"They\"- the actors? the filmmakers? Certainly couldn\\'t be the audience- this is among the most air-puffed productions in existence. It\\'s the kind of movie that looks like it was a lot of fun to shoot\\x97 TOO much fun, nobody is getting any actual work done, and that almost always makes for a movie that\\'s no fun to watch.<br /><br />Ritter dons glasses so as to hammer home his character\\'s status as a sort of doppleganger of the bespectacled Bogdanovich; the scenes with the breezy Ms. Stratten are sweet, but have an embarrassing, look-guys-I\\'m-dating-the-prom-queen feel to them. Ben Gazzara sports his usual cat\\'s-got-canary grin in a futile attempt to elevate the meager plot, which requires him to pursue Audrey Hepburn with all the interest of a narcoleptic at an insomnia clinic. In the meantime, the budding couple\\'s respective children (nepotism alert: Bogdanovich\\'s daughters) spew cute and pick up some fairly disturbing pointers on \\'love\\' while observing their parents. (Ms. Hepburn, drawing on her dignity, manages to rise above the proceedings- but she has the monumental challenge of playing herself, ostensibly.) Everybody looks great, but so what? It\\'s a movie and we can expect that much, if that\\'s what you\\'re looking for you\\'d be better off picking up a copy of Vogue.<br /><br />Oh- and it has to be mentioned that Colleen Camp thoroughly annoys, even apart from her singing, which, while competent, is wholly unconvincing... the country and western numbers are woefully mismatched with the standards on the soundtrack. Surely this is NOT what Gershwin (who wrote the song from which the movie\\'s title is derived) had in mind; his stage musicals of the 20\\'s may have been slight, but at least they were long on charm. \"They All Laughed\" tries to coast on its good intentions, but nobody- least of all Peter Bogdanovich - has the good sense to put on the brakes.<br /><br />Due in no small part to the tragic death of Dorothy Stratten, this movie has a special place in the heart of Mr. Bogdanovich- he even bought it back from its producers, then distributed it on his own and went bankrupt when it didn\\'t prove popular. His rise and fall is among the more sympathetic and tragic of Hollywood stories, so there\\'s no joy in criticizing the film... there _is_ real emotional investment in Ms. Stratten\\'s scenes. But \"Laughed\" is a faint echo of \"The Last Picture Show\", \"Paper Moon\" or \"What\\'s Up, Doc\"- following \"Daisy Miller\" and \"At Long Last Love\", it was a thundering confirmation of the phase from which P.B. has never emerged.<br /><br />All in all, though, the movie is harmless, only a waste of rental. I want to watch people having a good time, I\\'ll go to the park on a sunny day. For filmic expressions of joy and love, I\\'ll stick to Ernest Lubitsch and Jaques Demy...', \"This is said to be a personal film for Peter Bogdonavitch. He based it on his life but changed things around to fit the characters, who are detectives. These detectives date beautiful models and have no problem getting them. Sounds more like a millionaire playboy filmmaker than a detective, doesn't it? This entire movie was written by Peter, and it shows how out of touch with real people he was. You're supposed to write what you know, and he did that, indeed. And leaves the audience bored and confused, and jealous, for that matter. This is a curio for people who want to see Dorothy Stratten, who was murdered right after filming. But Patti Hanson, who would, in real life, marry Keith Richards, was also a model, like Stratten, but is a lot better and has a more ample part. In fact, Stratten's part seemed forced; added. She doesn't have a lot to do with the story, which is pretty convoluted to begin with. All in all, every character in this film is somebody that very few people can relate with, unless you're millionaire from Manhattan with beautiful supermodels at your beckon call. For the rest of us, it's an irritating snore fest. That's what happens when you're out of touch. You entertain your few friends with inside jokes, and bore all the rest.\", 'It was great to see some of my favorite stars of 30 years ago including John Ritter, Ben Gazarra and Audrey Hepburn. They looked quite wonderful. But that was it. They were not given any characters or good lines to work with. I neither understood or cared what the characters were doing.<br /><br />Some of the smaller female roles were fine, Patty Henson and Colleen Camp were quite competent and confident in their small sidekick parts. They showed some talent and it is sad they didn\\'t go on to star in more and better films. Sadly, I didn\\'t think Dorothy Stratten got a chance to act in this her only important film role.<br /><br />The film appears to have some fans, and I was very open-minded when I started watching it. I am a big Peter Bogdanovich fan and I enjoyed his last movie, \"Cat\\'s Meow\" and all his early ones from \"Targets\" to \"Nickleodeon\". So, it really surprised me that I was barely able to keep awake watching this one.<br /><br />It is ironic that this movie is about a detective agency where the detectives and clients get romantically involved with each other. Five years later, Bogdanovich\\'s ex-girlfriend, Cybil Shepherd had a hit television series called \"Moonlighting\" stealing the story idea from Bogdanovich. Of course, there was a great difference in that the series relied on tons of witty dialogue, while this tries to make do with slapstick and a few screwball lines.<br /><br />Bottom line: It ain\\'t no \"Paper Moon\" and only a very pale version of \"What\\'s Up, Doc\".', \"I can't believe that those praising this movie herein aren't thinking of some other film. I was prepared for the possibility that this would be awful, but the script (or lack thereof) makes for a film that's also pointless. On the plus side, the general level of craft on the part of the actors and technical crew is quite competent, but when you've got a sow's ear to work with you can't make a silk purse. Ben G fans should stick with just about any other movie he's been in. Dorothy S fans should stick to Galaxina. Peter B fans should stick to Last Picture Show and Target. Fans of cheap laughs at the expense of those who seem to be asking for it should stick to Peter B's amazingly awful book, Killing of the Unicorn.\", 'Never cast models and Playboy bunnies in your films! Bob Fosse\\'s \"Star 80\" about Dorothy Stratten, of whom Bogdanovich was obsessed enough to have married her SISTER after her murder at the hands of her low-life husband, is a zillion times more interesting than Dorothy herself on the silver screen. Patty Hansen is no actress either..I expected to see some sort of lost masterpiece a la Orson Welles but instead got Audrey Hepburn cavorting in jeans and a god-awful \"poodlesque\" hair-do....Very disappointing....\"Paper Moon\" and \"The Last Picture Show\" I could watch again and again. This clunker I could barely sit through once. This movie was reputedly not released because of the brouhaha surrounding Ms. Stratten\\'s tawdry death; I think the real reason was because it was so bad!', \"Its not the cast. A finer group of actors, you could not find. Its not the setting. The director is in love with New York City, and by the end of the film, so are we all! Woody Allen could not improve upon what Bogdonovich has done here. If you are going to fall in love, or find love, Manhattan is the place to go. No, the problem with the movie is the script. There is none. The actors fall in love at first sight, words are unnecessary. In the director's own experience in Hollywood that is what happens when they go to work on the set. It is reality to him, and his peers, but it is a fantasy to most of us in the real world. So, in the end, the movie is hollow, and shallow, and message-less.\", 'Today I found \"They All Laughed\" on VHS on sale in a rental. It was a really old and very used VHS, I had no information about this movie, but I liked the references listed on its cover: the names of Peter Bogdanovich, Audrey Hepburn, John Ritter and specially Dorothy Stratten attracted me, the price was very low and I decided to risk and buy it. I searched IMDb, and the User Rating of 6.0 was an excellent reference. I looked in \"Mick Martin & Marsha Porter Video & DVD Guide 2003\" and \\x96 wow \\x96 four stars! So, I decided that I could not waste more time and immediately see it. Indeed, I have just finished watching \"They All Laughed\" and I found it a very boring overrated movie. The characters are badly developed, and I spent lots of minutes to understand their roles in the story. The plot is supposed to be funny (private eyes who fall in love for the women they are chasing), but I have not laughed along the whole story. The coincidences, in a huge city like New York, are ridiculous. Ben Gazarra as an attractive and very seductive man, with the women falling for him as if her were a Brad Pitt, Antonio Banderas or George Clooney, is quite ridiculous. In the end, the greater attractions certainly are the presence of the Playboy centerfold and playmate of the year Dorothy Stratten, murdered by her husband pretty after the release of this movie, and whose life was showed in \"Star 80\" and \"Death of a Centerfold: The Dorothy Stratten Story\"; the amazing beauty of the sexy Patti Hansen, the future Mrs. Keith Richards; the always wonderful, even being fifty-two years old, Audrey Hepburn; and the song \"Amigo\", from Roberto Carlos. Although I do not like him, Roberto Carlos has been the most popular Brazilian singer since the end of the 60\\'s and is called by his fans as \"The King\". I will keep this movie in my collection only because of these attractions (manly Dorothy Stratten). My vote is four.<br /><br />Title (Brazil): \"Muito Riso e Muita Alegria\" (\"Many Laughs and Lots of Happiness\")', \"This film is just plain horrible. John Ritter doing pratt falls, 75% of the actors delivering their lines as if they were reading them from cue cards, poor editing, horrible sound mixing (dialogue is tough to pick up in places over the background noise), and a plot that really goes nowhere. I didn't think I'd ever say this, but Dorothy Stratten is not the worst actress in this film. There are at least 3 others that suck more. Patti Hansen delivers her lines with the passion of Ben Stein. I started to wonder if she wasn't dead inside. Even Bogdanovich's kids are awful (the oldest one is definitely reading her lines from a cue card). This movie is seriously horrible. There's a reason Bogdanovich couldn't get another project until 4 years later. Please don't watch it. If you see it in your television listings, cancel your cable. If a friend suggests it to you, reconsider your friendship. If your spouse wants to watch it, you're better off finding another soulmate. I'd rather gouge my eyes out with lawn darts than sit through this piece of garbage again. If I could sum this film up in one word, that word would be: Suckotrocity\", \"My interest in Dorothy Stratten caused me to purchase this video. Although it had great actors/actresses, there were just too many subplots going on to retain interest. Plus it just wasn't that interesting. Dialogue was stiff and confusing and the story just flipped around too much to be believable. I was pretty disappointed in what I believe was one of Audrey Hepburn's last movies. I'll always love John Ritter best in slapstick. He was just too pathetic here.\", \"I have this film out of the library right now and I haven't finished watching it. It is so bad I am in disbelief. Audrey Hepburn had totally lost her talent by then, although she'd pretty much finished with it in 'Robin and Marian.' This is the worst thing about this appallingly stupid film. It's really only of interest because it was her last feature film and because of the Dorothy Stratten appearance just prior to her homicide.<br /><br />There is nothing but idiocy between Gazzara and his cronies. Little signals and little bows and nods to real screwball comedy of which this is the faintest, palest shadow.<br /><br />Who could believe that there are even some of the same Manhattan environs that Hepburn inhabited so magically and even mythically in 'Breakfast at Tiffany's' twenty years earlier? The soundtrack of old Sinatra songs and the Gershwin song from which the title is taken is too loud and obvious--you sure don't have to wait for the credits to find out that something was subtly woven into the cine-musique of the picture to know when the songs blasted out at you.<br /><br />'Reverting to type' means going back up as well as going back down, I guess. In this case, Audrey Hepburn's chic European lady is all you see of someone who was formerly occasionally an actress and always a star. Here she has even lost her talent as a star. If someone whose talent was continuing to grow in the period, like Ann-Margret, had played the role, there would have been some life in it, even given the unbelievably bad material and Mongoloid-level situations.<br /><br />Hepburn was a great person, of course, greater than most movie stars ever dreamed of being, and she was once one of the most charming and beautiful of film actors. After this dreadful performance, she went on to make an atrocious TV movie with Robert Wagner called 'Love Among Thieves.' In 'They all Laughed' it is as though she were still playing an ingenue in her 50's. Even much vainer and obviously less intelligent actresses who insisted upon doing this like Lana Turner were infinitely more effective than is Hepburn. Turner took acting seriously even when she was bad. Hepburn doesn't take it seriously at all, couldn't be bothered with it; even her hair and clothes look tacky. Her last really good work was in 'Two for the Road,' perhaps her most perfect, if possibly not her best in many ways.<br /><br />And that girl who plays the country singer is just sickening. John Ritter is horrible, there is simply nothing to recommend this film except to see Dorothy Stratten, who was truly pretty. Otherwise, critic David Thomson's oft-used phrase 'losing his/her talent' never has made more sense.<br /><br />Ben Gazarra had lost all sex appeal by then, and so we have 2 films with Gazarra and Hepburn--who could ask for anything less? Sandra Dee's last, pitiful film 'Lost,' from 2 years later, a low-budget nothing, had more to it than this. At least Ms. Dee spoke in her own voice; by 1981, Audrey Hepburn's accent just sounded silly; she'd go on to do the PBS 'Gardens of the World with Audrey Hepburn' and there her somewhat irritating accent works as she walks through English gardens with aristocrats or waxes effusively about 'what I like most is when flowers go back to nature!' as in naturalized daffodils, but in an actual fictional movie, she just sounds ridiculous.<br /><br />To think that 'Breakfast at Tiffany's' was such a profound sort of light poetic thing with Audrey Hepburn one of the most beautiful women in the world--she was surely one of the most beautiful screen presences in 'My Fair Lady', matching Garbo in several things and Delphine Seyrig in 'Last Year at Marienbad.' And then this! And her final brief role as the angel 'Hap' in the Spielberg film 'Always' was just more of the lady stuff--corny, witless and stifling.<br /><br />I went to her memorial service at the Fifth Avenue Presbyterian Church, a beautiful service which included a boys' choir singing the Shaker hymn 'Simple Gifts.' The only thing not listed in the program was the sudden playing of Hepburn's singing 'Moon River' on the fire escape in 'Breakfast at Tiffany's,' and this brought much emotion and some real tears out in the congregation.<br /><br />A great lady who was once a fine actress (as in 'The Nun's Story') and one of the greatest and most beautiful of film stars in many movies of the 50's and 60's who became a truly bad one--that's not all that common. And perhaps it is only a great human being who, in making such things as film performances trivial, nevertheless has the largeness of mind to want to have the flaws pointed out mercilessly--which all of her late film work contained in abundance. Most of the talk about Hepburn's miscasting is about 'My Fair Lady.' But the one that should have had the original actress in it was 'Wait Until Dark,' which had starred Lee Remick on Broadway. Never as celebrated as Hepburn, she was a better actress in many ways (Hepburn was completely incapable of playing anything really sordid), although Hepburn was at least adequate enough in that part. After that, all of her acting went downhill.\", \"I think I will make a movie next weekend. Oh wait, I'm working..oh I'm sure I can fit it in. It looks like whoever made this film fit it in. I hope the makers of this crap have day jobs because this film sucked!!! It looks like someones home movie and I don't think more than $100 was spent making it!!! Total crap!!! Who let's this stuff be released?!?!?!\", \"Pros: Nothing<br /><br />Cons: Everything<br /><br />Plot summary: A female reporter runs into a hitchhiker that tells her stories about the deaths of people that were killed by zombies.<br /><br />Review: Never in my life have I come across a movie as bad The Zombie Chronicles. Filmed on a budget of what looks to be about 20 bucks, TZC is a completely horrible horror movie that relies on lame, forgetable actors whom couldn't act to save their lives and gore that's more gross than frightening. How does a movie like this even get made? Simply put, avoid TZC like a sexually-transmitted disease.<br /><br />My last 2 cents: Humorously enough, this movie was made by a movie company called Brain Damage Films. They're brains must have really been damaged to come up with a craptacular movie like this.<br /><br />My rating: 1 out of 10(If it were up to me, this movie would get the rating of negative bajillion)\"]\n"
          ]
        }
      ]
    },
    {
      "cell_type": "code",
      "source": [
        "print(train_token['label'][:20])"
      ],
      "metadata": {
        "colab": {
          "base_uri": "https://localhost:8080/"
        },
        "id": "jX9nsNtkZk7F",
        "outputId": "c6b16fc0-87e6-4382-cc33-0ccebe16ebcc"
      },
      "execution_count": 20,
      "outputs": [
        {
          "output_type": "stream",
          "name": "stdout",
          "text": [
            "[0, 0, 0, 0, 0, 0, 0, 0, 0, 0, 0, 0, 0, 0, 0, 0, 0, 0, 0, 0]\n"
          ]
        }
      ]
    },
    {
      "cell_type": "code",
      "source": [
        "print(train_token['tokens'][:20])"
      ],
      "metadata": {
        "colab": {
          "base_uri": "https://localhost:8080/"
        },
        "id": "IJkSYaJeZ0_s",
        "outputId": "1daae3f4-050a-4815-a1a2-a8aacd06d118"
      },
      "execution_count": 23,
      "outputs": [
        {
          "output_type": "stream",
          "name": "stdout",
          "text": [
            "[['i', 'rented', 'i', 'am', 'curious-yellow', 'from', 'my', 'video', 'store', 'because', 'of', 'all', 'the', 'controversy', 'that', 'surrounded', 'it', 'when', 'it', 'was', 'first', 'released', 'in', '1967', '.', 'i', 'also', 'heard', 'that', 'at', 'first', 'it', 'was', 'seized', 'by', 'u', '.', 's', '.', 'customs', 'if', 'it', 'ever', 'tried', 'to', 'enter', 'this', 'country', ',', 'therefore', 'being', 'a', 'fan', 'of', 'films', 'considered', 'controversial', 'i', 'really', 'had', 'to', 'see', 'this', 'for', 'myself', '.', 'the', 'plot', 'is', 'centered', 'around', 'a', 'young', 'swedish', 'drama', 'student', 'named', 'lena', 'who', 'wants', 'to', 'learn', 'everything', 'she', 'can', 'about', 'life', '.', 'in', 'particular', 'she', 'wants', 'to', 'focus', 'her', 'attentions', 'to', 'making', 'some', 'sort', 'of', 'documentary', 'on', 'what', 'the', 'average', 'swede', 'thought', 'about', 'certain', 'political', 'issues', 'such', 'as', 'the', 'vietnam', 'war', 'and', 'race', 'issues', 'in', 'the', 'united', 'states', '.', 'in', 'between', 'asking', 'politicians', 'and', 'ordinary', 'denizens', 'of', 'stockholm', 'about', 'their', 'opinions', 'on', 'politics', ',', 'she', 'has', 'sex', 'with', 'her', 'drama', 'teacher', ',', 'classmates', ',', 'and', 'married', 'men', '.', 'what', 'kills', 'me', 'about', 'i', 'am', 'curious-yellow', 'is', 'that', '40', 'years', 'ago', ',', 'this', 'was', 'considered', 'pornographic', '.', 'really', ',', 'the', 'sex', 'and', 'nudity', 'scenes', 'are', 'few', 'and', 'far', 'between', ',', 'even', 'then', 'it', \"'\", 's', 'not', 'shot', 'like', 'some', 'cheaply', 'made', 'porno', '.', 'while', 'my', 'countrymen', 'mind', 'find', 'it', 'shocking', ',', 'in', 'reality', 'sex', 'and', 'nudity', 'are', 'a', 'major', 'staple', 'in', 'swedish', 'cinema', '.', 'even', 'ingmar', 'bergman', ',', 'arguably', 'their', 'answer', 'to', 'good', 'old', 'boy', 'john', 'ford', ',', 'had', 'sex', 'scenes', 'in', 'his', 'films', '.', 'i', 'do', 'commend', 'the', 'filmmakers', 'for', 'the', 'fact', 'that', 'any', 'sex', 'shown', 'in', 'the', 'film', 'is'], ['i', 'am', 'curious', 'yellow', 'is', 'a', 'risible', 'and', 'pretentious', 'steaming', 'pile', '.', 'it', 'doesn', \"'\", 't', 'matter', 'what', 'one', \"'\", 's', 'political', 'views', 'are', 'because', 'this', 'film', 'can', 'hardly', 'be', 'taken', 'seriously', 'on', 'any', 'level', '.', 'as', 'for', 'the', 'claim', 'that', 'frontal', 'male', 'nudity', 'is', 'an', 'automatic', 'nc-17', ',', 'that', 'isn', \"'\", 't', 'true', '.', 'i', \"'\", 've', 'seen', 'r-rated', 'films', 'with', 'male', 'nudity', '.', 'granted', ',', 'they', 'only', 'offer', 'some', 'fleeting', 'views', ',', 'but', 'where', 'are', 'the', 'r-rated', 'films', 'with', 'gaping', 'vulvas', 'and', 'flapping', 'labia', '?', 'nowhere', ',', 'because', 'they', 'don', \"'\", 't', 'exist', '.', 'the', 'same', 'goes', 'for', 'those', 'crappy', 'cable', 'shows', 'schlongs', 'swinging', 'in', 'the', 'breeze', 'but', 'not', 'a', 'clitoris', 'in', 'sight', '.', 'and', 'those', 'pretentious', 'indie', 'movies', 'like', 'the', 'brown', 'bunny', ',', 'in', 'which', 'we', \"'\", 're', 'treated', 'to', 'the', 'site', 'of', 'vincent', 'gallo', \"'\", 's', 'throbbing', 'johnson', ',', 'but', 'not', 'a', 'trace', 'of', 'pink', 'visible', 'on', 'chloe', 'sevigny', '.', 'before', 'crying', '(', 'or', 'implying', ')', 'double-standard', 'in', 'matters', 'of', 'nudity', ',', 'the', 'mentally', 'obtuse', 'should', 'take', 'into', 'account', 'one', 'unavoidably', 'obvious', 'anatomical', 'difference', 'between', 'men', 'and', 'women', 'there', 'are', 'no', 'genitals', 'on', 'display', 'when', 'actresses', 'appears', 'nude', ',', 'and', 'the', 'same', 'cannot', 'be', 'said', 'for', 'a', 'man', '.', 'in', 'fact', ',', 'you', 'generally', 'won', \"'\", 't', 'see', 'female', 'genitals', 'in', 'an', 'american', 'film', 'in', 'anything', 'short', 'of', 'porn', 'or', 'explicit', 'erotica', '.', 'this', 'alleged', 'double-standard', 'is', 'less', 'a', 'double', 'standard', 'than', 'an', 'admittedly', 'depressing', 'ability', 'to', 'come', 'to', 'terms', 'culturally', 'with', 'the', 'insides', 'of', 'women', \"'\", 's', 'bodies', '.'], ['if', 'only', 'to', 'avoid', 'making', 'this', 'type', 'of', 'film', 'in', 'the', 'future', '.', 'this', 'film', 'is', 'interesting', 'as', 'an', 'experiment', 'but', 'tells', 'no', 'cogent', 'story', '.', 'one', 'might', 'feel', 'virtuous', 'for', 'sitting', 'thru', 'it', 'because', 'it', 'touches', 'on', 'so', 'many', 'important', 'issues', 'but', 'it', 'does', 'so', 'without', 'any', 'discernable', 'motive', '.', 'the', 'viewer', 'comes', 'away', 'with', 'no', 'new', 'perspectives', '(', 'unless', 'one', 'comes', 'up', 'with', 'one', 'while', 'one', \"'\", 's', 'mind', 'wanders', ',', 'as', 'it', 'will', 'invariably', 'do', 'during', 'this', 'pointless', 'film', ')', '.', 'one', 'might', 'better', 'spend', 'one', \"'\", 's', 'time', 'staring', 'out', 'a', 'window', 'at', 'a', 'tree', 'growing', '.'], ['this', 'film', 'was', 'probably', 'inspired', 'by', 'godard', \"'\", 's', 'masculin', ',', 'féminin', 'and', 'i', 'urge', 'you', 'to', 'see', 'that', 'film', 'instead', '.', 'the', 'film', 'has', 'two', 'strong', 'elements', 'and', 'those', 'are', ',', '(', '1', ')', 'the', 'realistic', 'acting', '(', '2', ')', 'the', 'impressive', ',', 'undeservedly', 'good', ',', 'photo', '.', 'apart', 'from', 'that', ',', 'what', 'strikes', 'me', 'most', 'is', 'the', 'endless', 'stream', 'of', 'silliness', '.', 'lena', 'nyman', 'has', 'to', 'be', 'most', 'annoying', 'actress', 'in', 'the', 'world', '.', 'she', 'acts', 'so', 'stupid', 'and', 'with', 'all', 'the', 'nudity', 'in', 'this', 'film', ',', '.', '.', '.', 'it', \"'\", 's', 'unattractive', '.', 'comparing', 'to', 'godard', \"'\", 's', 'film', ',', 'intellectuality', 'has', 'been', 'replaced', 'with', 'stupidity', '.', 'without', 'going', 'too', 'far', 'on', 'this', 'subject', ',', 'i', 'would', 'say', 'that', 'follows', 'from', 'the', 'difference', 'in', 'ideals', 'between', 'the', 'french', 'and', 'the', 'swedish', 'society', '.', 'a', 'movie', 'of', 'its', 'time', ',', 'and', 'place', '.', '2/10', '.'], ['oh', ',', 'brother', '.', '.', '.', 'after', 'hearing', 'about', 'this', 'ridiculous', 'film', 'for', 'umpteen', 'years', 'all', 'i', 'can', 'think', 'of', 'is', 'that', 'old', 'peggy', 'lee', 'song', '.', '.', 'is', 'that', 'all', 'there', 'is', '?', '?', '.', '.', '.', 'i', 'was', 'just', 'an', 'early', 'teen', 'when', 'this', 'smoked', 'fish', 'hit', 'the', 'u', '.', 's', '.', 'i', 'was', 'too', 'young', 'to', 'get', 'in', 'the', 'theater', '(', 'although', 'i', 'did', 'manage', 'to', 'sneak', 'into', 'goodbye', 'columbus', ')', '.', 'then', 'a', 'screening', 'at', 'a', 'local', 'film', 'museum', 'beckoned', '-', 'finally', 'i', 'could', 'see', 'this', 'film', ',', 'except', 'now', 'i', 'was', 'as', 'old', 'as', 'my', 'parents', 'were', 'when', 'they', 'schlepped', 'to', 'see', 'it', '!', '!', 'the', 'only', 'reason', 'this', 'film', 'was', 'not', 'condemned', 'to', 'the', 'anonymous', 'sands', 'of', 'time', 'was', 'because', 'of', 'the', 'obscenity', 'case', 'sparked', 'by', 'its', 'u', '.', 's', '.', 'release', '.', 'millions', 'of', 'people', 'flocked', 'to', 'this', 'stinker', ',', 'thinking', 'they', 'were', 'going', 'to', 'see', 'a', 'sex', 'film', '.', '.', '.', 'instead', ',', 'they', 'got', 'lots', 'of', 'closeups', 'of', 'gnarly', ',', 'repulsive', 'swedes', ',', 'on-street', 'interviews', 'in', 'bland', 'shopping', 'malls', ',', 'asinie', 'political', 'pretension', '.', '.', '.', 'and', 'feeble', 'who-cares', 'simulated', 'sex', 'scenes', 'with', 'saggy', ',', 'pale', 'actors', '.', 'cultural', 'icon', ',', 'holy', 'grail', ',', 'historic', 'artifact', '.', '.', 'whatever', 'this', 'thing', 'was', ',', 'shred', 'it', ',', 'burn', 'it', ',', 'then', 'stuff', 'the', 'ashes', 'in', 'a', 'lead', 'box', '!', 'elite', 'esthetes', 'still', 'scrape', 'to', 'find', 'value', 'in', 'its', 'boring', 'pseudo', 'revolutionary', 'political', 'spewings', '.', '.', 'but', 'if', 'it', 'weren', \"'\", 't', 'for', 'the', 'censorship', 'scandal', ',', 'it', 'would'], ['i', 'would', 'put', 'this', 'at', 'the', 'top', 'of', 'my', 'list', 'of', 'films', 'in', 'the', 'category', 'of', 'unwatchable', 'trash', '!', 'there', 'are', 'films', 'that', 'are', 'bad', ',', 'but', 'the', 'worst', 'kind', 'are', 'the', 'ones', 'that', 'are', 'unwatchable', 'but', 'you', 'are', 'suppose', 'to', 'like', 'them', 'because', 'they', 'are', 'supposed', 'to', 'be', 'good', 'for', 'you', '!', 'the', 'sex', 'sequences', ',', 'so', 'shocking', 'in', 'its', 'day', ',', 'couldn', \"'\", 't', 'even', 'arouse', 'a', 'rabbit', '.', 'the', 'so', 'called', 'controversial', 'politics', 'is', 'strictly', 'high', 'school', 'sophomore', 'amateur', 'night', 'marxism', '.', 'the', 'film', 'is', 'self-consciously', 'arty', 'in', 'the', 'worst', 'sense', 'of', 'the', 'term', '.', 'the', 'photography', 'is', 'in', 'a', 'harsh', 'grainy', 'black', 'and', 'white', '.', 'some', 'scenes', 'are', 'out', 'of', 'focus', 'or', 'taken', 'from', 'the', 'wrong', 'angle', '.', 'even', 'the', 'sound', 'is', 'bad', '!', 'and', 'some', 'people', 'call', 'this', 'art', '?'], ['whoever', 'wrote', 'the', 'screenplay', 'for', 'this', 'movie', 'obviously', 'never', 'consulted', 'any', 'books', 'about', 'lucille', 'ball', ',', 'especially', 'her', 'autobiography', '.', 'i', \"'\", 've', 'never', 'seen', 'so', 'many', 'mistakes', 'in', 'a', 'biopic', ',', 'ranging', 'from', 'her', 'early', 'years', 'in', 'celoron', 'and', 'jamestown', 'to', 'her', 'later', 'years', 'with', 'desi', '.', 'i', 'could', 'write', 'a', 'whole', 'list', 'of', 'factual', 'errors', ',', 'but', 'it', 'would', 'go', 'on', 'for', 'pages', '.', 'in', 'all', ',', 'i', 'believe', 'that', 'lucille', 'ball', 'is', 'one', 'of', 'those', 'inimitable', 'people', 'who', 'simply', 'cannot', 'be', 'portrayed', 'by', 'anyone', 'other', 'than', 'themselves', '.', 'if', 'i', 'were', 'lucie', 'arnaz', 'and', 'desi', ',', 'jr', '.', ',', 'i', 'would', 'be', 'irate', 'at', 'how', 'many', 'mistakes', 'were', 'made', 'in', 'this', 'film', '.', 'the', 'filmmakers', 'tried', 'hard', ',', 'but', 'the', 'movie', 'seems', 'awfully', 'sloppy', 'to', 'me', '.'], ['when', 'i', 'first', 'saw', 'a', 'glimpse', 'of', 'this', 'movie', ',', 'i', 'quickly', 'noticed', 'the', 'actress', 'who', 'was', 'playing', 'the', 'role', 'of', 'lucille', 'ball', '.', 'rachel', 'york', \"'\", 's', 'portrayal', 'of', 'lucy', 'is', 'absolutely', 'awful', '.', 'lucille', 'ball', 'was', 'an', 'astounding', 'comedian', 'with', 'incredible', 'talent', '.', 'to', 'think', 'about', 'a', 'legend', 'like', 'lucille', 'ball', 'being', 'portrayed', 'the', 'way', 'she', 'was', 'in', 'the', 'movie', 'is', 'horrendous', '.', 'i', 'cannot', 'believe', 'out', 'of', 'all', 'the', 'actresses', 'in', 'the', 'world', 'who', 'could', 'play', 'a', 'much', 'better', 'lucy', ',', 'the', 'producers', 'decided', 'to', 'get', 'rachel', 'york', '.', 'she', 'might', 'be', 'a', 'good', 'actress', 'in', 'other', 'roles', 'but', 'to', 'play', 'the', 'role', 'of', 'lucille', 'ball', 'is', 'tough', '.', 'it', 'is', 'pretty', 'hard', 'to', 'find', 'someone', 'who', 'could', 'resemble', 'lucille', 'ball', ',', 'but', 'they', 'could', 'at', 'least', 'find', 'someone', 'a', 'bit', 'similar', 'in', 'looks', 'and', 'talent', '.', 'if', 'you', 'noticed', 'york', \"'\", 's', 'portrayal', 'of', 'lucy', 'in', 'episodes', 'of', 'i', 'love', 'lucy', 'like', 'the', 'chocolate', 'factory', 'or', 'vitavetavegamin', ',', 'nothing', 'is', 'similar', 'in', 'any', 'way-her', 'expression', ',', 'voice', ',', 'or', 'movement', '.', 'to', 'top', 'it', 'all', 'off', ',', 'danny', 'pino', 'playing', 'desi', 'arnaz', 'is', 'horrible', '.', 'pino', 'does', 'not', 'qualify', 'to', 'play', 'as', 'ricky', '.', 'he', \"'\", 's', 'small', 'and', 'skinny', ',', 'his', 'accent', 'is', 'unreal', ',', 'and', 'once', 'again', ',', 'his', 'acting', 'is', 'unbelievable', '.', 'although', 'fred', 'and', 'ethel', 'were', 'not', 'similar', 'either', ',', 'they', 'were', 'not', 'as', 'bad', 'as', 'the', 'characters', 'of', 'lucy', 'and', 'ricky', '.', 'overall', ',', 'extremely', 'horrible', 'casting', 'and', 'the', 'story', 'is', 'badly', 'told', '.', 'if', 'people', 'want'], ['who', 'are', 'these', 'they-', 'the', 'actors', '?', 'the', 'filmmakers', '?', 'certainly', 'couldn', \"'\", 't', 'be', 'the', 'audience-', 'this', 'is', 'among', 'the', 'most', 'air-puffed', 'productions', 'in', 'existence', '.', 'it', \"'\", 's', 'the', 'kind', 'of', 'movie', 'that', 'looks', 'like', 'it', 'was', 'a', 'lot', 'of', 'fun', 'to', 'shoot\\x97', 'too', 'much', 'fun', ',', 'nobody', 'is', 'getting', 'any', 'actual', 'work', 'done', ',', 'and', 'that', 'almost', 'always', 'makes', 'for', 'a', 'movie', 'that', \"'\", 's', 'no', 'fun', 'to', 'watch', '.', 'ritter', 'dons', 'glasses', 'so', 'as', 'to', 'hammer', 'home', 'his', 'character', \"'\", 's', 'status', 'as', 'a', 'sort', 'of', 'doppleganger', 'of', 'the', 'bespectacled', 'bogdanovich', 'the', 'scenes', 'with', 'the', 'breezy', 'ms', '.', 'stratten', 'are', 'sweet', ',', 'but', 'have', 'an', 'embarrassing', ',', 'look-guys-i', \"'\", 'm-dating-the-prom-queen', 'feel', 'to', 'them', '.', 'ben', 'gazzara', 'sports', 'his', 'usual', 'cat', \"'\", 's-got-canary', 'grin', 'in', 'a', 'futile', 'attempt', 'to', 'elevate', 'the', 'meager', 'plot', ',', 'which', 'requires', 'him', 'to', 'pursue', 'audrey', 'hepburn', 'with', 'all', 'the', 'interest', 'of', 'a', 'narcoleptic', 'at', 'an', 'insomnia', 'clinic', '.', 'in', 'the', 'meantime', ',', 'the', 'budding', 'couple', \"'\", 's', 'respective', 'children', '(', 'nepotism', 'alert', 'bogdanovich', \"'\", 's', 'daughters', ')', 'spew', 'cute', 'and', 'pick', 'up', 'some', 'fairly', 'disturbing', 'pointers', 'on', \"'\", 'love', \"'\", 'while', 'observing', 'their', 'parents', '.', '(', 'ms', '.', 'hepburn', ',', 'drawing', 'on', 'her', 'dignity', ',', 'manages', 'to', 'rise', 'above', 'the', 'proceedings-', 'but', 'she', 'has', 'the', 'monumental', 'challenge', 'of', 'playing', 'herself', ',', 'ostensibly', '.', ')', 'everybody', 'looks', 'great', ',', 'but', 'so', 'what', '?', 'it', \"'\", 's', 'a', 'movie', 'and', 'we', 'can', 'expect', 'that', 'much', ',', 'if', 'that', \"'\", 's', 'what', 'you', \"'\", 're', 'looking', 'for', 'you', \"'\", 'd', 'be'], ['this', 'is', 'said', 'to', 'be', 'a', 'personal', 'film', 'for', 'peter', 'bogdonavitch', '.', 'he', 'based', 'it', 'on', 'his', 'life', 'but', 'changed', 'things', 'around', 'to', 'fit', 'the', 'characters', ',', 'who', 'are', 'detectives', '.', 'these', 'detectives', 'date', 'beautiful', 'models', 'and', 'have', 'no', 'problem', 'getting', 'them', '.', 'sounds', 'more', 'like', 'a', 'millionaire', 'playboy', 'filmmaker', 'than', 'a', 'detective', ',', 'doesn', \"'\", 't', 'it', '?', 'this', 'entire', 'movie', 'was', 'written', 'by', 'peter', ',', 'and', 'it', 'shows', 'how', 'out', 'of', 'touch', 'with', 'real', 'people', 'he', 'was', '.', 'you', \"'\", 're', 'supposed', 'to', 'write', 'what', 'you', 'know', ',', 'and', 'he', 'did', 'that', ',', 'indeed', '.', 'and', 'leaves', 'the', 'audience', 'bored', 'and', 'confused', ',', 'and', 'jealous', ',', 'for', 'that', 'matter', '.', 'this', 'is', 'a', 'curio', 'for', 'people', 'who', 'want', 'to', 'see', 'dorothy', 'stratten', ',', 'who', 'was', 'murdered', 'right', 'after', 'filming', '.', 'but', 'patti', 'hanson', ',', 'who', 'would', ',', 'in', 'real', 'life', ',', 'marry', 'keith', 'richards', ',', 'was', 'also', 'a', 'model', ',', 'like', 'stratten', ',', 'but', 'is', 'a', 'lot', 'better', 'and', 'has', 'a', 'more', 'ample', 'part', '.', 'in', 'fact', ',', 'stratten', \"'\", 's', 'part', 'seemed', 'forced', 'added', '.', 'she', 'doesn', \"'\", 't', 'have', 'a', 'lot', 'to', 'do', 'with', 'the', 'story', ',', 'which', 'is', 'pretty', 'convoluted', 'to', 'begin', 'with', '.', 'all', 'in', 'all', ',', 'every', 'character', 'in', 'this', 'film', 'is', 'somebody', 'that', 'very', 'few', 'people', 'can', 'relate', 'with', ',', 'unless', 'you', \"'\", 're', 'millionaire', 'from', 'manhattan', 'with', 'beautiful', 'supermodels', 'at', 'your', 'beckon', 'call', '.', 'for', 'the', 'rest', 'of', 'us', ',', 'it', \"'\", 's', 'an', 'irritating', 'snore', 'fest', '.', 'that', \"'\", 's', 'what', 'happens', 'when', 'you', \"'\", 're'], ['it', 'was', 'great', 'to', 'see', 'some', 'of', 'my', 'favorite', 'stars', 'of', '30', 'years', 'ago', 'including', 'john', 'ritter', ',', 'ben', 'gazarra', 'and', 'audrey', 'hepburn', '.', 'they', 'looked', 'quite', 'wonderful', '.', 'but', 'that', 'was', 'it', '.', 'they', 'were', 'not', 'given', 'any', 'characters', 'or', 'good', 'lines', 'to', 'work', 'with', '.', 'i', 'neither', 'understood', 'or', 'cared', 'what', 'the', 'characters', 'were', 'doing', '.', 'some', 'of', 'the', 'smaller', 'female', 'roles', 'were', 'fine', ',', 'patty', 'henson', 'and', 'colleen', 'camp', 'were', 'quite', 'competent', 'and', 'confident', 'in', 'their', 'small', 'sidekick', 'parts', '.', 'they', 'showed', 'some', 'talent', 'and', 'it', 'is', 'sad', 'they', 'didn', \"'\", 't', 'go', 'on', 'to', 'star', 'in', 'more', 'and', 'better', 'films', '.', 'sadly', ',', 'i', 'didn', \"'\", 't', 'think', 'dorothy', 'stratten', 'got', 'a', 'chance', 'to', 'act', 'in', 'this', 'her', 'only', 'important', 'film', 'role', '.', 'the', 'film', 'appears', 'to', 'have', 'some', 'fans', ',', 'and', 'i', 'was', 'very', 'open-minded', 'when', 'i', 'started', 'watching', 'it', '.', 'i', 'am', 'a', 'big', 'peter', 'bogdanovich', 'fan', 'and', 'i', 'enjoyed', 'his', 'last', 'movie', ',', 'cat', \"'\", 's', 'meow', 'and', 'all', 'his', 'early', 'ones', 'from', 'targets', 'to', 'nickleodeon', '.', 'so', ',', 'it', 'really', 'surprised', 'me', 'that', 'i', 'was', 'barely', 'able', 'to', 'keep', 'awake', 'watching', 'this', 'one', '.', 'it', 'is', 'ironic', 'that', 'this', 'movie', 'is', 'about', 'a', 'detective', 'agency', 'where', 'the', 'detectives', 'and', 'clients', 'get', 'romantically', 'involved', 'with', 'each', 'other', '.', 'five', 'years', 'later', ',', 'bogdanovich', \"'\", 's', 'ex-girlfriend', ',', 'cybil', 'shepherd', 'had', 'a', 'hit', 'television', 'series', 'called', 'moonlighting', 'stealing', 'the', 'story', 'idea', 'from', 'bogdanovich', '.', 'of', 'course', ',', 'there', 'was', 'a', 'great', 'difference', 'in', 'that', 'the', 'series', 'relied', 'on', 'tons', 'of'], ['i', 'can', \"'\", 't', 'believe', 'that', 'those', 'praising', 'this', 'movie', 'herein', 'aren', \"'\", 't', 'thinking', 'of', 'some', 'other', 'film', '.', 'i', 'was', 'prepared', 'for', 'the', 'possibility', 'that', 'this', 'would', 'be', 'awful', ',', 'but', 'the', 'script', '(', 'or', 'lack', 'thereof', ')', 'makes', 'for', 'a', 'film', 'that', \"'\", 's', 'also', 'pointless', '.', 'on', 'the', 'plus', 'side', ',', 'the', 'general', 'level', 'of', 'craft', 'on', 'the', 'part', 'of', 'the', 'actors', 'and', 'technical', 'crew', 'is', 'quite', 'competent', ',', 'but', 'when', 'you', \"'\", 've', 'got', 'a', 'sow', \"'\", 's', 'ear', 'to', 'work', 'with', 'you', 'can', \"'\", 't', 'make', 'a', 'silk', 'purse', '.', 'ben', 'g', 'fans', 'should', 'stick', 'with', 'just', 'about', 'any', 'other', 'movie', 'he', \"'\", 's', 'been', 'in', '.', 'dorothy', 's', 'fans', 'should', 'stick', 'to', 'galaxina', '.', 'peter', 'b', 'fans', 'should', 'stick', 'to', 'last', 'picture', 'show', 'and', 'target', '.', 'fans', 'of', 'cheap', 'laughs', 'at', 'the', 'expense', 'of', 'those', 'who', 'seem', 'to', 'be', 'asking', 'for', 'it', 'should', 'stick', 'to', 'peter', 'b', \"'\", 's', 'amazingly', 'awful', 'book', ',', 'killing', 'of', 'the', 'unicorn', '.'], ['never', 'cast', 'models', 'and', 'playboy', 'bunnies', 'in', 'your', 'films', '!', 'bob', 'fosse', \"'\", 's', 'star', '80', 'about', 'dorothy', 'stratten', ',', 'of', 'whom', 'bogdanovich', 'was', 'obsessed', 'enough', 'to', 'have', 'married', 'her', 'sister', 'after', 'her', 'murder', 'at', 'the', 'hands', 'of', 'her', 'low-life', 'husband', ',', 'is', 'a', 'zillion', 'times', 'more', 'interesting', 'than', 'dorothy', 'herself', 'on', 'the', 'silver', 'screen', '.', 'patty', 'hansen', 'is', 'no', 'actress', 'either', '.', '.', 'i', 'expected', 'to', 'see', 'some', 'sort', 'of', 'lost', 'masterpiece', 'a', 'la', 'orson', 'welles', 'but', 'instead', 'got', 'audrey', 'hepburn', 'cavorting', 'in', 'jeans', 'and', 'a', 'god-awful', 'poodlesque', 'hair-do', '.', '.', '.', '.', 'very', 'disappointing', '.', '.', '.', '.', 'paper', 'moon', 'and', 'the', 'last', 'picture', 'show', 'i', 'could', 'watch', 'again', 'and', 'again', '.', 'this', 'clunker', 'i', 'could', 'barely', 'sit', 'through', 'once', '.', 'this', 'movie', 'was', 'reputedly', 'not', 'released', 'because', 'of', 'the', 'brouhaha', 'surrounding', 'ms', '.', 'stratten', \"'\", 's', 'tawdry', 'death', 'i', 'think', 'the', 'real', 'reason', 'was', 'because', 'it', 'was', 'so', 'bad', '!'], ['its', 'not', 'the', 'cast', '.', 'a', 'finer', 'group', 'of', 'actors', ',', 'you', 'could', 'not', 'find', '.', 'its', 'not', 'the', 'setting', '.', 'the', 'director', 'is', 'in', 'love', 'with', 'new', 'york', 'city', ',', 'and', 'by', 'the', 'end', 'of', 'the', 'film', ',', 'so', 'are', 'we', 'all', '!', 'woody', 'allen', 'could', 'not', 'improve', 'upon', 'what', 'bogdonovich', 'has', 'done', 'here', '.', 'if', 'you', 'are', 'going', 'to', 'fall', 'in', 'love', ',', 'or', 'find', 'love', ',', 'manhattan', 'is', 'the', 'place', 'to', 'go', '.', 'no', ',', 'the', 'problem', 'with', 'the', 'movie', 'is', 'the', 'script', '.', 'there', 'is', 'none', '.', 'the', 'actors', 'fall', 'in', 'love', 'at', 'first', 'sight', ',', 'words', 'are', 'unnecessary', '.', 'in', 'the', 'director', \"'\", 's', 'own', 'experience', 'in', 'hollywood', 'that', 'is', 'what', 'happens', 'when', 'they', 'go', 'to', 'work', 'on', 'the', 'set', '.', 'it', 'is', 'reality', 'to', 'him', ',', 'and', 'his', 'peers', ',', 'but', 'it', 'is', 'a', 'fantasy', 'to', 'most', 'of', 'us', 'in', 'the', 'real', 'world', '.', 'so', ',', 'in', 'the', 'end', ',', 'the', 'movie', 'is', 'hollow', ',', 'and', 'shallow', ',', 'and', 'message-less', '.'], ['today', 'i', 'found', 'they', 'all', 'laughed', 'on', 'vhs', 'on', 'sale', 'in', 'a', 'rental', '.', 'it', 'was', 'a', 'really', 'old', 'and', 'very', 'used', 'vhs', ',', 'i', 'had', 'no', 'information', 'about', 'this', 'movie', ',', 'but', 'i', 'liked', 'the', 'references', 'listed', 'on', 'its', 'cover', 'the', 'names', 'of', 'peter', 'bogdanovich', ',', 'audrey', 'hepburn', ',', 'john', 'ritter', 'and', 'specially', 'dorothy', 'stratten', 'attracted', 'me', ',', 'the', 'price', 'was', 'very', 'low', 'and', 'i', 'decided', 'to', 'risk', 'and', 'buy', 'it', '.', 'i', 'searched', 'imdb', ',', 'and', 'the', 'user', 'rating', 'of', '6', '.', '0', 'was', 'an', 'excellent', 'reference', '.', 'i', 'looked', 'in', 'mick', 'martin', '&', 'marsha', 'porter', 'video', '&', 'dvd', 'guide', '2003', 'and', '\\x96', 'wow', '\\x96', 'four', 'stars', '!', 'so', ',', 'i', 'decided', 'that', 'i', 'could', 'not', 'waste', 'more', 'time', 'and', 'immediately', 'see', 'it', '.', 'indeed', ',', 'i', 'have', 'just', 'finished', 'watching', 'they', 'all', 'laughed', 'and', 'i', 'found', 'it', 'a', 'very', 'boring', 'overrated', 'movie', '.', 'the', 'characters', 'are', 'badly', 'developed', ',', 'and', 'i', 'spent', 'lots', 'of', 'minutes', 'to', 'understand', 'their', 'roles', 'in', 'the', 'story', '.', 'the', 'plot', 'is', 'supposed', 'to', 'be', 'funny', '(', 'private', 'eyes', 'who', 'fall', 'in', 'love', 'for', 'the', 'women', 'they', 'are', 'chasing', ')', ',', 'but', 'i', 'have', 'not', 'laughed', 'along', 'the', 'whole', 'story', '.', 'the', 'coincidences', ',', 'in', 'a', 'huge', 'city', 'like', 'new', 'york', ',', 'are', 'ridiculous', '.', 'ben', 'gazarra', 'as', 'an', 'attractive', 'and', 'very', 'seductive', 'man', ',', 'with', 'the', 'women', 'falling', 'for', 'him', 'as', 'if', 'her', 'were', 'a', 'brad', 'pitt', ',', 'antonio', 'banderas', 'or', 'george', 'clooney', ',', 'is', 'quite', 'ridiculous', '.', 'in', 'the', 'end', ',', 'the', 'greater', 'attractions', 'certainly', 'are', 'the'], ['this', 'film', 'is', 'just', 'plain', 'horrible', '.', 'john', 'ritter', 'doing', 'pratt', 'falls', ',', '75%', 'of', 'the', 'actors', 'delivering', 'their', 'lines', 'as', 'if', 'they', 'were', 'reading', 'them', 'from', 'cue', 'cards', ',', 'poor', 'editing', ',', 'horrible', 'sound', 'mixing', '(', 'dialogue', 'is', 'tough', 'to', 'pick', 'up', 'in', 'places', 'over', 'the', 'background', 'noise', ')', ',', 'and', 'a', 'plot', 'that', 'really', 'goes', 'nowhere', '.', 'i', 'didn', \"'\", 't', 'think', 'i', \"'\", 'd', 'ever', 'say', 'this', ',', 'but', 'dorothy', 'stratten', 'is', 'not', 'the', 'worst', 'actress', 'in', 'this', 'film', '.', 'there', 'are', 'at', 'least', '3', 'others', 'that', 'suck', 'more', '.', 'patti', 'hansen', 'delivers', 'her', 'lines', 'with', 'the', 'passion', 'of', 'ben', 'stein', '.', 'i', 'started', 'to', 'wonder', 'if', 'she', 'wasn', \"'\", 't', 'dead', 'inside', '.', 'even', 'bogdanovich', \"'\", 's', 'kids', 'are', 'awful', '(', 'the', 'oldest', 'one', 'is', 'definitely', 'reading', 'her', 'lines', 'from', 'a', 'cue', 'card', ')', '.', 'this', 'movie', 'is', 'seriously', 'horrible', '.', 'there', \"'\", 's', 'a', 'reason', 'bogdanovich', 'couldn', \"'\", 't', 'get', 'another', 'project', 'until', '4', 'years', 'later', '.', 'please', 'don', \"'\", 't', 'watch', 'it', '.', 'if', 'you', 'see', 'it', 'in', 'your', 'television', 'listings', ',', 'cancel', 'your', 'cable', '.', 'if', 'a', 'friend', 'suggests', 'it', 'to', 'you', ',', 'reconsider', 'your', 'friendship', '.', 'if', 'your', 'spouse', 'wants', 'to', 'watch', 'it', ',', 'you', \"'\", 're', 'better', 'off', 'finding', 'another', 'soulmate', '.', 'i', \"'\", 'd', 'rather', 'gouge', 'my', 'eyes', 'out', 'with', 'lawn', 'darts', 'than', 'sit', 'through', 'this', 'piece', 'of', 'garbage', 'again', '.', 'if', 'i', 'could', 'sum', 'this', 'film', 'up', 'in', 'one', 'word', ',', 'that', 'word', 'would', 'be', 'suckotrocity'], ['my', 'interest', 'in', 'dorothy', 'stratten', 'caused', 'me', 'to', 'purchase', 'this', 'video', '.', 'although', 'it', 'had', 'great', 'actors/actresses', ',', 'there', 'were', 'just', 'too', 'many', 'subplots', 'going', 'on', 'to', 'retain', 'interest', '.', 'plus', 'it', 'just', 'wasn', \"'\", 't', 'that', 'interesting', '.', 'dialogue', 'was', 'stiff', 'and', 'confusing', 'and', 'the', 'story', 'just', 'flipped', 'around', 'too', 'much', 'to', 'be', 'believable', '.', 'i', 'was', 'pretty', 'disappointed', 'in', 'what', 'i', 'believe', 'was', 'one', 'of', 'audrey', 'hepburn', \"'\", 's', 'last', 'movies', '.', 'i', \"'\", 'll', 'always', 'love', 'john', 'ritter', 'best', 'in', 'slapstick', '.', 'he', 'was', 'just', 'too', 'pathetic', 'here', '.'], ['i', 'have', 'this', 'film', 'out', 'of', 'the', 'library', 'right', 'now', 'and', 'i', 'haven', \"'\", 't', 'finished', 'watching', 'it', '.', 'it', 'is', 'so', 'bad', 'i', 'am', 'in', 'disbelief', '.', 'audrey', 'hepburn', 'had', 'totally', 'lost', 'her', 'talent', 'by', 'then', ',', 'although', 'she', \"'\", 'd', 'pretty', 'much', 'finished', 'with', 'it', 'in', \"'\", 'robin', 'and', 'marian', '.', \"'\", 'this', 'is', 'the', 'worst', 'thing', 'about', 'this', 'appallingly', 'stupid', 'film', '.', 'it', \"'\", 's', 'really', 'only', 'of', 'interest', 'because', 'it', 'was', 'her', 'last', 'feature', 'film', 'and', 'because', 'of', 'the', 'dorothy', 'stratten', 'appearance', 'just', 'prior', 'to', 'her', 'homicide', '.', 'there', 'is', 'nothing', 'but', 'idiocy', 'between', 'gazzara', 'and', 'his', 'cronies', '.', 'little', 'signals', 'and', 'little', 'bows', 'and', 'nods', 'to', 'real', 'screwball', 'comedy', 'of', 'which', 'this', 'is', 'the', 'faintest', ',', 'palest', 'shadow', '.', 'who', 'could', 'believe', 'that', 'there', 'are', 'even', 'some', 'of', 'the', 'same', 'manhattan', 'environs', 'that', 'hepburn', 'inhabited', 'so', 'magically', 'and', 'even', 'mythically', 'in', \"'\", 'breakfast', 'at', 'tiffany', \"'\", 's', \"'\", 'twenty', 'years', 'earlier', '?', 'the', 'soundtrack', 'of', 'old', 'sinatra', 'songs', 'and', 'the', 'gershwin', 'song', 'from', 'which', 'the', 'title', 'is', 'taken', 'is', 'too', 'loud', 'and', 'obvious--you', 'sure', 'don', \"'\", 't', 'have', 'to', 'wait', 'for', 'the', 'credits', 'to', 'find', 'out', 'that', 'something', 'was', 'subtly', 'woven', 'into', 'the', 'cine-musique', 'of', 'the', 'picture', 'to', 'know', 'when', 'the', 'songs', 'blasted', 'out', 'at', 'you', '.', \"'\", 'reverting', 'to', 'type', \"'\", 'means', 'going', 'back', 'up', 'as', 'well', 'as', 'going', 'back', 'down', ',', 'i', 'guess', '.', 'in', 'this', 'case', ',', 'audrey', 'hepburn', \"'\", 's', 'chic', 'european', 'lady', 'is', 'all', 'you', 'see', 'of', 'someone', 'who', 'was', 'formerly', 'occasionally', 'an', 'actress', 'and', 'always'], ['i', 'think', 'i', 'will', 'make', 'a', 'movie', 'next', 'weekend', '.', 'oh', 'wait', ',', 'i', \"'\", 'm', 'working', '.', '.', 'oh', 'i', \"'\", 'm', 'sure', 'i', 'can', 'fit', 'it', 'in', '.', 'it', 'looks', 'like', 'whoever', 'made', 'this', 'film', 'fit', 'it', 'in', '.', 'i', 'hope', 'the', 'makers', 'of', 'this', 'crap', 'have', 'day', 'jobs', 'because', 'this', 'film', 'sucked', '!', '!', '!', 'it', 'looks', 'like', 'someones', 'home', 'movie', 'and', 'i', 'don', \"'\", 't', 'think', 'more', 'than', '$100', 'was', 'spent', 'making', 'it', '!', '!', '!', 'total', 'crap', '!', '!', '!', 'who', 'let', \"'\", 's', 'this', 'stuff', 'be', 'released', '?', '!', '?', '!', '?', '!'], ['pros', 'nothing', 'cons', 'everything', 'plot', 'summary', 'a', 'female', 'reporter', 'runs', 'into', 'a', 'hitchhiker', 'that', 'tells', 'her', 'stories', 'about', 'the', 'deaths', 'of', 'people', 'that', 'were', 'killed', 'by', 'zombies', '.', 'review', 'never', 'in', 'my', 'life', 'have', 'i', 'come', 'across', 'a', 'movie', 'as', 'bad', 'the', 'zombie', 'chronicles', '.', 'filmed', 'on', 'a', 'budget', 'of', 'what', 'looks', 'to', 'be', 'about', '20', 'bucks', ',', 'tzc', 'is', 'a', 'completely', 'horrible', 'horror', 'movie', 'that', 'relies', 'on', 'lame', ',', 'forgetable', 'actors', 'whom', 'couldn', \"'\", 't', 'act', 'to', 'save', 'their', 'lives', 'and', 'gore', 'that', \"'\", 's', 'more', 'gross', 'than', 'frightening', '.', 'how', 'does', 'a', 'movie', 'like', 'this', 'even', 'get', 'made', '?', 'simply', 'put', ',', 'avoid', 'tzc', 'like', 'a', 'sexually-transmitted', 'disease', '.', 'my', 'last', '2', 'cents', 'humorously', 'enough', ',', 'this', 'movie', 'was', 'made', 'by', 'a', 'movie', 'company', 'called', 'brain', 'damage', 'films', '.', 'they', \"'\", 're', 'brains', 'must', 'have', 'really', 'been', 'damaged', 'to', 'come', 'up', 'with', 'a', 'craptacular', 'movie', 'like', 'this', '.', 'my', 'rating', '1', 'out', 'of', '10', '(', 'if', 'it', 'were', 'up', 'to', 'me', ',', 'this', 'movie', 'would', 'get', 'the', 'rating', 'of', 'negative', 'bajillion', ')']]\n"
          ]
        }
      ]
    },
    {
      "cell_type": "markdown",
      "source": [
        "Split the train data after the tokenization to avoid data leakage"
      ],
      "metadata": {
        "id": "npEkvSbzaT-Q"
      }
    },
    {
      "cell_type": "code",
      "source": [
        "train_valid_data = train_token.train_test_split(test_size=0.2)"
      ],
      "metadata": {
        "id": "rsxhizKzacPQ"
      },
      "execution_count": 24,
      "outputs": []
    },
    {
      "cell_type": "code",
      "source": [
        "train_valid_data"
      ],
      "metadata": {
        "colab": {
          "base_uri": "https://localhost:8080/"
        },
        "id": "gkAYicu2aqWq",
        "outputId": "2c6ee216-63bb-41bc-9cd7-fc7f1f5ab45a"
      },
      "execution_count": 25,
      "outputs": [
        {
          "output_type": "execute_result",
          "data": {
            "text/plain": [
              "DatasetDict({\n",
              "    train: Dataset({\n",
              "        features: ['text', 'label', 'tokens', 'length'],\n",
              "        num_rows: 20000\n",
              "    })\n",
              "    test: Dataset({\n",
              "        features: ['text', 'label', 'tokens', 'length'],\n",
              "        num_rows: 5000\n",
              "    })\n",
              "})"
            ]
          },
          "metadata": {},
          "execution_count": 25
        }
      ]
    },
    {
      "cell_type": "code",
      "source": [
        "train_data = train_valid_data['train']\n",
        "valid_data = train_valid_data['test']\n",
        "\n",
        "train_data.shape, valid_data.shape"
      ],
      "metadata": {
        "colab": {
          "base_uri": "https://localhost:8080/"
        },
        "id": "OOTm4urwbBpW",
        "outputId": "2620e11a-007a-4fd3-e11e-608e9ae4a035"
      },
      "execution_count": 28,
      "outputs": [
        {
          "output_type": "execute_result",
          "data": {
            "text/plain": [
              "((20000, 4), (5000, 4))"
            ]
          },
          "metadata": {},
          "execution_count": 28
        }
      ]
    },
    {
      "cell_type": "markdown",
      "source": [
        "Build vocabulary"
      ],
      "metadata": {
        "id": "gBBCNTlWbn9X"
      }
    },
    {
      "cell_type": "code",
      "source": [
        "vocab = torchtext.vocab.build_vocab_from_iterator(\n",
        "    train_data['tokens'],\n",
        "    specials=['<UNK>', '<PAD>'],\n",
        "    min_freq=10\n",
        ")"
      ],
      "metadata": {
        "id": "wyC4HlWZbh40"
      },
      "execution_count": 30,
      "outputs": []
    },
    {
      "cell_type": "code",
      "source": [
        "vocab['<UNK>']"
      ],
      "metadata": {
        "colab": {
          "base_uri": "https://localhost:8080/"
        },
        "id": "X4iNQAnwc2EJ",
        "outputId": "b51db630-f046-421c-bb26-b7aae6b7d694"
      },
      "execution_count": 34,
      "outputs": [
        {
          "output_type": "execute_result",
          "data": {
            "text/plain": [
              "0"
            ]
          },
          "metadata": {},
          "execution_count": 34
        }
      ]
    },
    {
      "cell_type": "code",
      "source": [
        "vocab.set_default_index(0)"
      ],
      "metadata": {
        "id": "wbRJ7J4ad1H0"
      },
      "execution_count": 35,
      "outputs": []
    },
    {
      "cell_type": "markdown",
      "source": [
        "## Note: Why do we need UNK and PAD?\n",
        "\n",
        "Let's say we have a large corpus of text data. During tokenization we usually fit in all the train data. When we have a new text, if the model encounters a new word, it will assign it as UNK, which stands for unknown.\n",
        "\n",
        "Let's take a few sample movie reviews:\n",
        "\n",
        "- I love this movie\n",
        "- Amazing\n",
        "- Impressive storyline\n",
        "- Terrible experience not recommended to watch\n",
        "\n",
        "If you look at the above statements, all have different word sizes. To ensure we pass the model with the same size, we pad all the sentences to be in the same size. We set the max length to be some value if the sequence has more than the threshold it truncates the padding. If it is less than sequence, it pad and fill the sequence with zero."
      ],
      "metadata": {
        "id": "5Gwbc0RKeA_x"
      }
    },
    {
      "cell_type": "markdown",
      "source": [
        "## Prepare the dataset for the model"
      ],
      "metadata": {
        "id": "IxQM9FhAf9Up"
      }
    },
    {
      "cell_type": "code",
      "source": [
        "def convert_into_tokens(example, vocab):\n",
        "  ids = [vocab[token] for token in example['tokens']]\n",
        "  return {'ids': ids}"
      ],
      "metadata": {
        "id": "DZGTUNfsd9Cv"
      },
      "execution_count": 37,
      "outputs": []
    },
    {
      "cell_type": "code",
      "source": [
        "# this data will be used for training\n",
        "train_data = train_data.map(convert_into_tokens, fn_kwargs={'vocab': vocab})\n",
        "# this data will be used for evaluation\n",
        "valid_data = valid_data.map(convert_into_tokens, fn_kwargs={'vocab': vocab})\n",
        "# this is the data we use for generalizaiton [new unseen data for testing]\n",
        "test_data = test_token.map(convert_into_tokens, fn_kwargs={'vocab': vocab})"
      ],
      "metadata": {
        "colab": {
          "base_uri": "https://localhost:8080/",
          "height": 113,
          "referenced_widgets": [
            "47f50c9eeefb4036b97f3f5ec8ad0805",
            "0d5af47b0c2a45818cfc842346d62be9",
            "72220979ff4e4732886db09df01b7b61",
            "5758ee4dfd3646499be87704576726b0",
            "dcd8b44965ad43689241119d3f847154",
            "b60d5873340c4e0c95a9406f8ca31dab",
            "790cc48c57d04d2a81e21aacc1041c41",
            "c8f33d9a711c483cbf02c958abc53510",
            "14853ae815a04f9fa52c56fb2b5f0324",
            "06d62e5119dd48e5b9e978412f91c3ce",
            "0c6492b242f14c5785a1562ab6703a59",
            "4b7b62f840754751877389a3b7639ab1",
            "a627b12aa446454ca44877800f75db11",
            "6153190ad9214f30a741b9ba126ce862",
            "57c5c963025b425e91b270e402ca9904",
            "449dfe12cd074f8e9dffe58c5d0cec14",
            "e07425785ca04630bb00c2c3878c0858",
            "933c51268c5941e4b36f9d7fa31a7a10",
            "f730255d0c944125a41305f968d7935e",
            "c1edb0c0fc804007a248e608191a3701",
            "279b0a5de4b54b74a4a5414067e3955e",
            "9e102295893443539209042903f7a4f7",
            "e95bcfef09154769b18ae34f2c19d112",
            "978f363e134d46fa8ad15b1c15bdf04a",
            "ca1e1d0917f24e9383787aa53e95727f",
            "8948e14be69d4d18ad5b7dc10846fa0e",
            "3548965db1ad4bed896258218de8d06c",
            "3732a50da1624972bd5de0703efb9a91",
            "9e47e390a2424e37a9d2f244521d1869",
            "9c88eb25f81a4e7db9aed48032ccefd7",
            "5cf4c3fceb0540bebdcc64aecdf23a8d",
            "1d025c22d1914973b9aca64c539f458f",
            "0248e99662e5411cb8de30ce7f92bbba"
          ]
        },
        "id": "3JQFuliIgmqb",
        "outputId": "b30744f8-fcd0-4762-d822-242a09fcc8be"
      },
      "execution_count": 38,
      "outputs": [
        {
          "output_type": "display_data",
          "data": {
            "text/plain": [
              "Map:   0%|          | 0/20000 [00:00<?, ? examples/s]"
            ],
            "application/vnd.jupyter.widget-view+json": {
              "version_major": 2,
              "version_minor": 0,
              "model_id": "47f50c9eeefb4036b97f3f5ec8ad0805"
            }
          },
          "metadata": {}
        },
        {
          "output_type": "display_data",
          "data": {
            "text/plain": [
              "Map:   0%|          | 0/5000 [00:00<?, ? examples/s]"
            ],
            "application/vnd.jupyter.widget-view+json": {
              "version_major": 2,
              "version_minor": 0,
              "model_id": "4b7b62f840754751877389a3b7639ab1"
            }
          },
          "metadata": {}
        },
        {
          "output_type": "display_data",
          "data": {
            "text/plain": [
              "Map:   0%|          | 0/25000 [00:00<?, ? examples/s]"
            ],
            "application/vnd.jupyter.widget-view+json": {
              "version_major": 2,
              "version_minor": 0,
              "model_id": "e95bcfef09154769b18ae34f2c19d112"
            }
          },
          "metadata": {}
        }
      ]
    },
    {
      "cell_type": "code",
      "source": [
        "print(train_data['ids'][:2])"
      ],
      "metadata": {
        "colab": {
          "base_uri": "https://localhost:8080/"
        },
        "id": "gVbi5z6fh6Xn",
        "outputId": "92e3f08c-1cb2-47c2-dfcd-40b40c51c333"
      },
      "execution_count": 45,
      "outputs": [
        {
          "output_type": "stream",
          "name": "stdout",
          "text": [
            "[[12, 254, 2, 10275, 19, 187, 7, 0, 0, 9, 5626, 1158, 2087, 25, 1678, 5513, 1742, 1173, 5303, 24, 28, 274, 3, 12, 108, 11, 10, 5, 58, 56, 23, 3, 14, 18, 6550, 5, 176, 7, 64, 96, 5, 58, 348, 65, 3, 26, 31, 6523, 4, 747, 229, 4, 9903, 4, 8673, 4, 919, 0, 4, 8069, 4, 6, 579, 4, 37, 13, 34, 1612, 36, 2, 481, 154, 93, 5, 3032, 291, 3, 6, 4, 12, 246, 2, 0, 8809, 114, 8, 35, 818, 6, 213, 3, 191, 4, 2, 711, 180, 4, 3818, 2, 9903, 4, 1467, 5, 4067, 247, 4, 624, 60, 1670, 8, 1693, 403, 20, 62, 83, 48, 5, 170, 721, 3, 432, 39, 358, 159, 9903, 4, 325, 7, 154, 3, 5, 381, 7, 2, 111, 4, 13, 833, 4, 75, 4596, 818, 3, 2, 612, 676, 10, 388, 9821, 4, 21, 2, 206, 4, 2, 14466, 4, 6, 21, 773, 2, 64, 863, 3, 12, 246, 2, 229, 5, 159, 1602, 3, 12, 1816, 13, 2, 636, 891, 15, 2, 18, 2589, 2, 229, 7, 2, 1585, 4, 12, 0, 106, 22, 4, 397, 9, 27, 173, 235, 3, 3, 3, 13, 110, 417, 4, 712, 1081, 3, 5731, 42, 1051, 4, 1028, 6, 2495, 13, 14, 18, 389, 2, 307, 43, 86, 25, 7, 5, 11631, 1014, 136, 831, 8, 3465, 150, 5817, 6, 0, 6, 4, 5, 126, 361, 85, 7, 288, 24, 15, 33, 1051, 4, 1028, 6, 2495, 13, 2226, 20, 2], [12, 495, 14, 18, 5, 300, 89, 11, 937, 8, 35, 6719, 21, 100, 584, 812, 6, 154, 6, 61, 560, 2, 0, 36, 2, 161, 10, 12, 91, 9, 27, 192, 8, 383, 255, 235, 47, 2, 115, 49, 64, 89, 11, 95, 2614, 2, 18, 3, 22, 12, 95, 392, 15, 26, 148, 786, 8, 132, 8176, 0, 220, 160, 6, 769, 11, 36, 25, 91, 9, 27, 940, 3680, 36, 24]]\n"
          ]
        }
      ]
    },
    {
      "cell_type": "markdown",
      "source": [
        "## Look now we have ids as the next data appended\n",
        "\n",
        "Token is the individual representation of the word and the ids is equivalent numerial value to that token."
      ],
      "metadata": {
        "id": "hcA5ll_UjKr-"
      }
    },
    {
      "cell_type": "code",
      "source": [
        "train_data = train_data.with_format(type='torch', columns=['ids', 'label', 'length'])\n",
        "valid_data = valid_data.with_format(type='torch', columns=['ids', 'label', 'length'])\n",
        "test_data = test_data.with_format(type='torch', columns=['ids', 'label', 'length'])"
      ],
      "metadata": {
        "id": "LRdLnv7Kip0E"
      },
      "execution_count": 46,
      "outputs": []
    },
    {
      "cell_type": "markdown",
      "source": [
        "Model building - LSTM"
      ],
      "metadata": {
        "id": "nSXgSAAFkf82"
      }
    },
    {
      "cell_type": "code",
      "source": [
        "class LSTMmodel(nn.Module):\n",
        "  def __init__(self, vocab_size,\n",
        "               embedding_dim, hidden_dim,\n",
        "               output_dim, n_layers,\n",
        "               dropout_rate, pad_index\n",
        "               ) -> None:\n",
        "    super().__init__()\n",
        "    # layer 1 - Pass the ids to the embedding layer\n",
        "    self.embedding = nn.Embedding(\n",
        "        vocab_size,\n",
        "        embedding_dim,\n",
        "        padding_idx=pad_index\n",
        "        )\n",
        "    # layer 2 - LSTM [If n_layers = 2, then layer 3 is also LSTM]\n",
        "    self.lstm = nn.LSTM(\n",
        "        embedding_dim,\n",
        "        hidden_dim,\n",
        "        n_layers,\n",
        "        dropout=dropout_rate,\n",
        "        batch_first=True\n",
        "        )\n",
        "    self.fc = nn.Linear(hidden_dim, output_dim)\n",
        "    self.dropout = nn.Dropout(dropout_rate) # to avoid overfitting\n",
        "\n",
        "  def forward(self, ids, batch_size):\n",
        "    # token to embeddings\n",
        "    embedded = self.dropout(self.embedding(ids))\n",
        "    embdedded = nn.utils.rnn.pack_padded_sequence(\n",
        "        embedded,\n",
        "        batch_size,\n",
        "        batch_first=True,\n",
        "        enforce_sorted=False\n",
        "        )\n",
        "    # embedding sequence (batch_size, seq_length, emd_dim) to LSTM\n",
        "\n",
        "    outputs, (hidden, cell) = self.lstm(embdedded)\n",
        "\n",
        "    output, output_length = nn.utils.rnn.pad_packed_sequence(outputs)\n",
        "    hidden = self.dropout(hidden[-1])\n",
        "\n",
        "    prediction = self.fc(hidden)\n",
        "\n",
        "    return prediction"
      ],
      "metadata": {
        "id": "3ngGbwMgkkR9"
      },
      "execution_count": 48,
      "outputs": []
    },
    {
      "cell_type": "code",
      "source": [
        "vocab_size = len(vocab) # why do we need to know the length of the vocab\n",
        "embedding_dim = 128\n",
        "hidden_dim = 64\n",
        "output_dim = len(train_data.unique('label')) # either 0 or 1 = 2(length)\n",
        "n_layers = 2\n",
        "dropout_rate = 0.5\n",
        "\n",
        "model = LSTMmodel(\n",
        "    vocab_size,\n",
        "    embedding_dim,\n",
        "    hidden_dim,\n",
        "    output_dim,\n",
        "    n_layers,\n",
        "    dropout_rate,\n",
        "    vocab['<PAD>']\n",
        "    )\n",
        "\n",
        "# switch out modeling training in Graphic Processing Unit\n",
        "model = model.to(device)\n"
      ],
      "metadata": {
        "id": "8KlGb2lkogKl"
      },
      "execution_count": 49,
      "outputs": []
    },
    {
      "cell_type": "code",
      "source": [
        "sum(p.numel() for p in model.parameters() if p.requires_grad) # total parameters"
      ],
      "metadata": {
        "colab": {
          "base_uri": "https://localhost:8080/"
        },
        "id": "NIonc7VSq_M_",
        "outputId": "6af92e79-18aa-4aab-db5b-5a3c0bc85676"
      },
      "execution_count": 51,
      "outputs": [
        {
          "output_type": "execute_result",
          "data": {
            "text/plain": [
              "1947778"
            ]
          },
          "metadata": {},
          "execution_count": 51
        }
      ]
    },
    {
      "cell_type": "code",
      "source": [
        "def initialize_weights(m):\n",
        "  if isinstance(m, nn.Linear):\n",
        "    nn.init.xavier_normal_(m.weight)\n",
        "    nn.init.zeros_(m.bias)\n",
        "  elif isinstance(m, nn.LSTM):\n",
        "    for name, param in m.named_parameters():\n",
        "      if 'bias' in name:\n",
        "        nn.init.zeros_(param)\n",
        "      elif 'weight' in name:\n",
        "        nn.init.orthogonal_(param)"
      ],
      "metadata": {
        "id": "e2n12t2xrWMq"
      },
      "execution_count": 54,
      "outputs": []
    },
    {
      "cell_type": "code",
      "source": [
        "model.apply(initialize_weights)"
      ],
      "metadata": {
        "colab": {
          "base_uri": "https://localhost:8080/"
        },
        "id": "8YQ4RPKJso8I",
        "outputId": "5f7cd265-12fd-4b3e-ca12-d6ecfefc883a"
      },
      "execution_count": 55,
      "outputs": [
        {
          "output_type": "execute_result",
          "data": {
            "text/plain": [
              "LSTMmodel(\n",
              "  (embedding): Embedding(14568, 128, padding_idx=1)\n",
              "  (lstm): LSTM(128, 64, num_layers=2, batch_first=True, dropout=0.5)\n",
              "  (fc): Linear(in_features=64, out_features=2, bias=True)\n",
              "  (dropout): Dropout(p=0.5, inplace=False)\n",
              ")"
            ]
          },
          "metadata": {},
          "execution_count": 55
        }
      ]
    },
    {
      "cell_type": "markdown",
      "source": [
        "## Using Pre-trained embeddings\n",
        "\n",
        "Few of the most used Pre-trained embedding are:\n",
        "\n",
        "- GloVe\n",
        "- Word2Vec\n",
        "- FastText"
      ],
      "metadata": {
        "id": "acXwsmGFtR0b"
      }
    },
    {
      "cell_type": "code",
      "source": [
        "vectors = torchtext.vocab.GloVe() # extra pre-trained embedding"
      ],
      "metadata": {
        "colab": {
          "base_uri": "https://localhost:8080/"
        },
        "id": "x9dDidUltF-_",
        "outputId": "487db7a2-c36c-419d-a4fd-c259cda18a88"
      },
      "execution_count": 56,
      "outputs": [
        {
          "output_type": "stream",
          "name": "stderr",
          "text": [
            ".vector_cache/glove.840B.300d.zip: 2.18GB [06:49, 5.31MB/s]                            \n",
            "100%|█████████▉| 2196016/2196017 [04:54<00:00, 7463.75it/s]\n"
          ]
        }
      ]
    },
    {
      "cell_type": "code",
      "source": [
        "pretrained_embedding = vectors.get_vecs_by_tokens(vocab.get_itos())"
      ],
      "metadata": {
        "id": "FhkQW2tk076P"
      },
      "execution_count": 57,
      "outputs": []
    },
    {
      "cell_type": "code",
      "source": [
        "model.embedding.weight.data = pretrained_embedding"
      ],
      "metadata": {
        "id": "HC4slkWx1Nyb"
      },
      "execution_count": 58,
      "outputs": []
    },
    {
      "cell_type": "markdown",
      "source": [
        "## Compile Model\n",
        "\n",
        "- The three parameters that influence the model are:\n",
        " - Optimizer: algorithm for gradient descent [Adam, SGD, RMSProp]\n",
        " - Loss function: Binary cross entropy loss or CrossEntropy loss\n",
        " - Evaluation performance metrics [Accuracy, Precision, Recall]"
      ],
      "metadata": {
        "id": "rk8BZO1L1Y0y"
      }
    },
    {
      "cell_type": "code",
      "source": [
        "learning_rate = 1e-4\n",
        "optimizer = optim.Adam(model.parameters(), lr=learning_rate)\n",
        "loss_function = nn.CrossEntropyLoss().to(device)\n",
        "\n",
        "def metrics(prediction, actual):\n",
        "  batch_size, _ = prediction.shape\n",
        "  predicted_classes = prediction.argmax(dim=-1)\n",
        "  correct_predictions = predicted_classes.eq(actual).sum()\n",
        "  accuracy = correct_predictions / batch_size\n",
        "  return accuracy"
      ],
      "metadata": {
        "id": "L0XwXhHq1Xib"
      },
      "execution_count": 59,
      "outputs": []
    },
    {
      "cell_type": "code",
      "source": [
        "def collate(batch, pad_index):\n",
        "  batch_ids = [i['ids'] for i in batch]\n",
        "  batch_ids = nn.utils.rnn.pad_sequence(\n",
        "      batch_ids,\n",
        "      padding_value=pad_index,\n",
        "      batch_first=True\n",
        "      )\n",
        "  batch_length = [i['length'] for i in batch]\n",
        "  batch_length = torch.stack(batch_length)\n",
        "  batch_label = [i['label'] for i in batch]\n",
        "  batch_label = torch.stack(batch_label)\n",
        "  batch = {\n",
        "      'ids': batch_ids,\n",
        "      'length': batch_length,\n",
        "      'label': batch_label\n",
        "  }\n",
        "\n",
        "  return batch"
      ],
      "metadata": {
        "id": "QZW8hknQ3gfL"
      },
      "execution_count": 60,
      "outputs": []
    },
    {
      "cell_type": "markdown",
      "source": [
        "## Fill the data to the model"
      ],
      "metadata": {
        "id": "8598XHrR5LVn"
      }
    },
    {
      "cell_type": "code",
      "source": [
        "batch_size = 64\n",
        "collate = functools.partial(collate, pad_index=vocab['<PAD>'])\n",
        "\n",
        "train_dataloader = torch.utils.data.DataLoader(\n",
        "    train_data,\n",
        "    batch_size=batch_size,\n",
        "    collate_fn=collate,\n",
        "    shuffle=True\n",
        ")\n",
        "\n",
        "valid_dataloader = torch.utils.data.DataLoader(\n",
        "    valid_data,\n",
        "    batch_size=batch_size,\n",
        "    collate_fn=collate\n",
        "    )\n",
        "\n",
        "test_dataloader = torch.utils.data.DataLoader(\n",
        "    test_data,\n",
        "    batch_size=batch_size,\n",
        "    collate_fn=collate\n",
        ")"
      ],
      "metadata": {
        "id": "Xfr-ktRi5Kje"
      },
      "execution_count": 61,
      "outputs": []
    },
    {
      "cell_type": "markdown",
      "source": [
        "Train the model"
      ],
      "metadata": {
        "id": "j9kZfgjV6ks6"
      }
    },
    {
      "cell_type": "code",
      "source": [
        "def train(dataloader, model, loss_function, optimizer, device):\n",
        "  model.train()\n",
        "\n",
        "  epoch_losses = []\n",
        "  epoch_accs = []\n",
        "\n",
        "  for batch in tqdm.tqdm(dataloader, desc='training...', file=sys.stdout):\n",
        "    ids = batch['ids'].to(device)\n",
        "\n",
        "    # batch length - dataloader\n",
        "    length = batch['length']\n",
        "    label = batch['label'].to(device)\n",
        "\n",
        "    # y_hat = prediction from the model\n",
        "    prediction = model(ids, length)\n",
        "    # loss function - > Actual value, predicted value\n",
        "    # actual value - label\n",
        "    # predicted value is prediction\n",
        "    loss = loss_function(prediction, label) # loss\n",
        "\n",
        "    accuracy = metrics(prediction, label)\n",
        "    optimizer.zero_grad() # adam - > gradient descent\n",
        "\n",
        "    loss.backward()\n",
        "    optimizer.step() # we will update the weights with learning rate\n",
        "\n",
        "    epoch_losses.append(loss.item())\n",
        "    epoch_accs.append(accuracy.item())\n",
        "\n",
        "  return epoch_losses, epoch_accs"
      ],
      "metadata": {
        "id": "plnJ1f9E6jfJ"
      },
      "execution_count": 62,
      "outputs": []
    },
    {
      "cell_type": "markdown",
      "source": [
        "## Evaluate"
      ],
      "metadata": {
        "id": "EWrUWu6i8-sC"
      }
    },
    {
      "cell_type": "code",
      "source": [
        "def evaluate(dataloader, model, loss_function, device):\n",
        "  model.eval()\n",
        "  epoch_losses = []\n",
        "  epoch_accs = []\n",
        "\n",
        "  with torch.no_grad(): # no optimization -> no update in weightds.\n",
        "    for batch in tqdm.tqdm(dataloader, desc='evaluating...', file=sys.stdout):\n",
        "      ids = batch['ids'].to(device)\n",
        "      length = batch['length']\n",
        "      label = batch['label'].to(device)\n",
        "      prediction = model(ids, length)\n",
        "      loss = loss_function(prediction, label)\n",
        "      accuracy = metrics(prediction, label)\n",
        "      epoch_losses.append(loss.item())\n",
        "      epoch_accs.append(accuracy.item())\n",
        "\n",
        "  return epoch_losses, epoch_accs"
      ],
      "metadata": {
        "id": "G-CAjKzW89hX"
      },
      "execution_count": 63,
      "outputs": []
    },
    {
      "cell_type": "code",
      "source": [],
      "metadata": {
        "id": "574UXX3u_LuR"
      },
      "execution_count": 67,
      "outputs": []
    }
  ],
  "metadata": {
    "accelerator": "GPU",
    "colab": {
      "provenance": [],
      "toc_visible": true,
      "authorship_tag": "ABX9TyNm2GAwUzV4vqhEdPCWR72x",
      "include_colab_link": true
    },
    "kernelspec": {
      "display_name": "Python 3",
      "name": "python3"
    },
    "language_info": {
      "name": "python"
    },
    "widgets": {
      "application/vnd.jupyter.widget-state+json": {
        "0d372a1a9d2947c6aa351515f0080152": {
          "model_module": "@jupyter-widgets/controls",
          "model_name": "HBoxModel",
          "model_module_version": "1.5.0",
          "state": {
            "_dom_classes": [],
            "_model_module": "@jupyter-widgets/controls",
            "_model_module_version": "1.5.0",
            "_model_name": "HBoxModel",
            "_view_count": null,
            "_view_module": "@jupyter-widgets/controls",
            "_view_module_version": "1.5.0",
            "_view_name": "HBoxView",
            "box_style": "",
            "children": [
              "IPY_MODEL_5d2cd3e5eec9412cb56e5bd2328781d9",
              "IPY_MODEL_c824ec83484b485ba8fc994f345b89b5",
              "IPY_MODEL_1b1d4baf88a34dc193ad8b8a085a6001"
            ],
            "layout": "IPY_MODEL_b3f625dba703487ebde30cd658c6388d"
          }
        },
        "5d2cd3e5eec9412cb56e5bd2328781d9": {
          "model_module": "@jupyter-widgets/controls",
          "model_name": "HTMLModel",
          "model_module_version": "1.5.0",
          "state": {
            "_dom_classes": [],
            "_model_module": "@jupyter-widgets/controls",
            "_model_module_version": "1.5.0",
            "_model_name": "HTMLModel",
            "_view_count": null,
            "_view_module": "@jupyter-widgets/controls",
            "_view_module_version": "1.5.0",
            "_view_name": "HTMLView",
            "description": "",
            "description_tooltip": null,
            "layout": "IPY_MODEL_058cfbf3c664462d83e461ed12b14768",
            "placeholder": "​",
            "style": "IPY_MODEL_86be7a56bbb646c6b39c154b6dcdf3be",
            "value": "Downloading builder script: 100%"
          }
        },
        "c824ec83484b485ba8fc994f345b89b5": {
          "model_module": "@jupyter-widgets/controls",
          "model_name": "FloatProgressModel",
          "model_module_version": "1.5.0",
          "state": {
            "_dom_classes": [],
            "_model_module": "@jupyter-widgets/controls",
            "_model_module_version": "1.5.0",
            "_model_name": "FloatProgressModel",
            "_view_count": null,
            "_view_module": "@jupyter-widgets/controls",
            "_view_module_version": "1.5.0",
            "_view_name": "ProgressView",
            "bar_style": "success",
            "description": "",
            "description_tooltip": null,
            "layout": "IPY_MODEL_26a96795081a4e94bb428b4d5b074972",
            "max": 4314,
            "min": 0,
            "orientation": "horizontal",
            "style": "IPY_MODEL_8a03cf8468c3426cbdafc476d5e43efe",
            "value": 4314
          }
        },
        "1b1d4baf88a34dc193ad8b8a085a6001": {
          "model_module": "@jupyter-widgets/controls",
          "model_name": "HTMLModel",
          "model_module_version": "1.5.0",
          "state": {
            "_dom_classes": [],
            "_model_module": "@jupyter-widgets/controls",
            "_model_module_version": "1.5.0",
            "_model_name": "HTMLModel",
            "_view_count": null,
            "_view_module": "@jupyter-widgets/controls",
            "_view_module_version": "1.5.0",
            "_view_name": "HTMLView",
            "description": "",
            "description_tooltip": null,
            "layout": "IPY_MODEL_935d46b080aa4d599728c822987230bd",
            "placeholder": "​",
            "style": "IPY_MODEL_d96b0ad70cb54eb6abc94fb799d77ea1",
            "value": " 4.31k/4.31k [00:00&lt;00:00, 229kB/s]"
          }
        },
        "b3f625dba703487ebde30cd658c6388d": {
          "model_module": "@jupyter-widgets/base",
          "model_name": "LayoutModel",
          "model_module_version": "1.2.0",
          "state": {
            "_model_module": "@jupyter-widgets/base",
            "_model_module_version": "1.2.0",
            "_model_name": "LayoutModel",
            "_view_count": null,
            "_view_module": "@jupyter-widgets/base",
            "_view_module_version": "1.2.0",
            "_view_name": "LayoutView",
            "align_content": null,
            "align_items": null,
            "align_self": null,
            "border": null,
            "bottom": null,
            "display": null,
            "flex": null,
            "flex_flow": null,
            "grid_area": null,
            "grid_auto_columns": null,
            "grid_auto_flow": null,
            "grid_auto_rows": null,
            "grid_column": null,
            "grid_gap": null,
            "grid_row": null,
            "grid_template_areas": null,
            "grid_template_columns": null,
            "grid_template_rows": null,
            "height": null,
            "justify_content": null,
            "justify_items": null,
            "left": null,
            "margin": null,
            "max_height": null,
            "max_width": null,
            "min_height": null,
            "min_width": null,
            "object_fit": null,
            "object_position": null,
            "order": null,
            "overflow": null,
            "overflow_x": null,
            "overflow_y": null,
            "padding": null,
            "right": null,
            "top": null,
            "visibility": null,
            "width": null
          }
        },
        "058cfbf3c664462d83e461ed12b14768": {
          "model_module": "@jupyter-widgets/base",
          "model_name": "LayoutModel",
          "model_module_version": "1.2.0",
          "state": {
            "_model_module": "@jupyter-widgets/base",
            "_model_module_version": "1.2.0",
            "_model_name": "LayoutModel",
            "_view_count": null,
            "_view_module": "@jupyter-widgets/base",
            "_view_module_version": "1.2.0",
            "_view_name": "LayoutView",
            "align_content": null,
            "align_items": null,
            "align_self": null,
            "border": null,
            "bottom": null,
            "display": null,
            "flex": null,
            "flex_flow": null,
            "grid_area": null,
            "grid_auto_columns": null,
            "grid_auto_flow": null,
            "grid_auto_rows": null,
            "grid_column": null,
            "grid_gap": null,
            "grid_row": null,
            "grid_template_areas": null,
            "grid_template_columns": null,
            "grid_template_rows": null,
            "height": null,
            "justify_content": null,
            "justify_items": null,
            "left": null,
            "margin": null,
            "max_height": null,
            "max_width": null,
            "min_height": null,
            "min_width": null,
            "object_fit": null,
            "object_position": null,
            "order": null,
            "overflow": null,
            "overflow_x": null,
            "overflow_y": null,
            "padding": null,
            "right": null,
            "top": null,
            "visibility": null,
            "width": null
          }
        },
        "86be7a56bbb646c6b39c154b6dcdf3be": {
          "model_module": "@jupyter-widgets/controls",
          "model_name": "DescriptionStyleModel",
          "model_module_version": "1.5.0",
          "state": {
            "_model_module": "@jupyter-widgets/controls",
            "_model_module_version": "1.5.0",
            "_model_name": "DescriptionStyleModel",
            "_view_count": null,
            "_view_module": "@jupyter-widgets/base",
            "_view_module_version": "1.2.0",
            "_view_name": "StyleView",
            "description_width": ""
          }
        },
        "26a96795081a4e94bb428b4d5b074972": {
          "model_module": "@jupyter-widgets/base",
          "model_name": "LayoutModel",
          "model_module_version": "1.2.0",
          "state": {
            "_model_module": "@jupyter-widgets/base",
            "_model_module_version": "1.2.0",
            "_model_name": "LayoutModel",
            "_view_count": null,
            "_view_module": "@jupyter-widgets/base",
            "_view_module_version": "1.2.0",
            "_view_name": "LayoutView",
            "align_content": null,
            "align_items": null,
            "align_self": null,
            "border": null,
            "bottom": null,
            "display": null,
            "flex": null,
            "flex_flow": null,
            "grid_area": null,
            "grid_auto_columns": null,
            "grid_auto_flow": null,
            "grid_auto_rows": null,
            "grid_column": null,
            "grid_gap": null,
            "grid_row": null,
            "grid_template_areas": null,
            "grid_template_columns": null,
            "grid_template_rows": null,
            "height": null,
            "justify_content": null,
            "justify_items": null,
            "left": null,
            "margin": null,
            "max_height": null,
            "max_width": null,
            "min_height": null,
            "min_width": null,
            "object_fit": null,
            "object_position": null,
            "order": null,
            "overflow": null,
            "overflow_x": null,
            "overflow_y": null,
            "padding": null,
            "right": null,
            "top": null,
            "visibility": null,
            "width": null
          }
        },
        "8a03cf8468c3426cbdafc476d5e43efe": {
          "model_module": "@jupyter-widgets/controls",
          "model_name": "ProgressStyleModel",
          "model_module_version": "1.5.0",
          "state": {
            "_model_module": "@jupyter-widgets/controls",
            "_model_module_version": "1.5.0",
            "_model_name": "ProgressStyleModel",
            "_view_count": null,
            "_view_module": "@jupyter-widgets/base",
            "_view_module_version": "1.2.0",
            "_view_name": "StyleView",
            "bar_color": null,
            "description_width": ""
          }
        },
        "935d46b080aa4d599728c822987230bd": {
          "model_module": "@jupyter-widgets/base",
          "model_name": "LayoutModel",
          "model_module_version": "1.2.0",
          "state": {
            "_model_module": "@jupyter-widgets/base",
            "_model_module_version": "1.2.0",
            "_model_name": "LayoutModel",
            "_view_count": null,
            "_view_module": "@jupyter-widgets/base",
            "_view_module_version": "1.2.0",
            "_view_name": "LayoutView",
            "align_content": null,
            "align_items": null,
            "align_self": null,
            "border": null,
            "bottom": null,
            "display": null,
            "flex": null,
            "flex_flow": null,
            "grid_area": null,
            "grid_auto_columns": null,
            "grid_auto_flow": null,
            "grid_auto_rows": null,
            "grid_column": null,
            "grid_gap": null,
            "grid_row": null,
            "grid_template_areas": null,
            "grid_template_columns": null,
            "grid_template_rows": null,
            "height": null,
            "justify_content": null,
            "justify_items": null,
            "left": null,
            "margin": null,
            "max_height": null,
            "max_width": null,
            "min_height": null,
            "min_width": null,
            "object_fit": null,
            "object_position": null,
            "order": null,
            "overflow": null,
            "overflow_x": null,
            "overflow_y": null,
            "padding": null,
            "right": null,
            "top": null,
            "visibility": null,
            "width": null
          }
        },
        "d96b0ad70cb54eb6abc94fb799d77ea1": {
          "model_module": "@jupyter-widgets/controls",
          "model_name": "DescriptionStyleModel",
          "model_module_version": "1.5.0",
          "state": {
            "_model_module": "@jupyter-widgets/controls",
            "_model_module_version": "1.5.0",
            "_model_name": "DescriptionStyleModel",
            "_view_count": null,
            "_view_module": "@jupyter-widgets/base",
            "_view_module_version": "1.2.0",
            "_view_name": "StyleView",
            "description_width": ""
          }
        },
        "838c59961339472f84e5d84cd80ab87b": {
          "model_module": "@jupyter-widgets/controls",
          "model_name": "HBoxModel",
          "model_module_version": "1.5.0",
          "state": {
            "_dom_classes": [],
            "_model_module": "@jupyter-widgets/controls",
            "_model_module_version": "1.5.0",
            "_model_name": "HBoxModel",
            "_view_count": null,
            "_view_module": "@jupyter-widgets/controls",
            "_view_module_version": "1.5.0",
            "_view_name": "HBoxView",
            "box_style": "",
            "children": [
              "IPY_MODEL_ae6eddc810814db8b6a172d4f2454f6a",
              "IPY_MODEL_460398473a464e0c8cb34b1da1ce7e68",
              "IPY_MODEL_a80cf9a74c35441dafa55c6d24aec7e5"
            ],
            "layout": "IPY_MODEL_332a63c39d1246ee9f3bc810f8c0e391"
          }
        },
        "ae6eddc810814db8b6a172d4f2454f6a": {
          "model_module": "@jupyter-widgets/controls",
          "model_name": "HTMLModel",
          "model_module_version": "1.5.0",
          "state": {
            "_dom_classes": [],
            "_model_module": "@jupyter-widgets/controls",
            "_model_module_version": "1.5.0",
            "_model_name": "HTMLModel",
            "_view_count": null,
            "_view_module": "@jupyter-widgets/controls",
            "_view_module_version": "1.5.0",
            "_view_name": "HTMLView",
            "description": "",
            "description_tooltip": null,
            "layout": "IPY_MODEL_ffc91adf910846118f701b77ab955035",
            "placeholder": "​",
            "style": "IPY_MODEL_649a77b803784f778a5bdc7b3d1afa49",
            "value": "Downloading metadata: 100%"
          }
        },
        "460398473a464e0c8cb34b1da1ce7e68": {
          "model_module": "@jupyter-widgets/controls",
          "model_name": "FloatProgressModel",
          "model_module_version": "1.5.0",
          "state": {
            "_dom_classes": [],
            "_model_module": "@jupyter-widgets/controls",
            "_model_module_version": "1.5.0",
            "_model_name": "FloatProgressModel",
            "_view_count": null,
            "_view_module": "@jupyter-widgets/controls",
            "_view_module_version": "1.5.0",
            "_view_name": "ProgressView",
            "bar_style": "success",
            "description": "",
            "description_tooltip": null,
            "layout": "IPY_MODEL_8c2c6623e34b492199488f4c1ef8f021",
            "max": 2166,
            "min": 0,
            "orientation": "horizontal",
            "style": "IPY_MODEL_9c6e65220b54433dbfcde398ad2e6712",
            "value": 2166
          }
        },
        "a80cf9a74c35441dafa55c6d24aec7e5": {
          "model_module": "@jupyter-widgets/controls",
          "model_name": "HTMLModel",
          "model_module_version": "1.5.0",
          "state": {
            "_dom_classes": [],
            "_model_module": "@jupyter-widgets/controls",
            "_model_module_version": "1.5.0",
            "_model_name": "HTMLModel",
            "_view_count": null,
            "_view_module": "@jupyter-widgets/controls",
            "_view_module_version": "1.5.0",
            "_view_name": "HTMLView",
            "description": "",
            "description_tooltip": null,
            "layout": "IPY_MODEL_63360de3fd434e3aaa81a7e05c7aa12b",
            "placeholder": "​",
            "style": "IPY_MODEL_f14aee7fb30a4296944f08749930ae49",
            "value": " 2.17k/2.17k [00:00&lt;00:00, 107kB/s]"
          }
        },
        "332a63c39d1246ee9f3bc810f8c0e391": {
          "model_module": "@jupyter-widgets/base",
          "model_name": "LayoutModel",
          "model_module_version": "1.2.0",
          "state": {
            "_model_module": "@jupyter-widgets/base",
            "_model_module_version": "1.2.0",
            "_model_name": "LayoutModel",
            "_view_count": null,
            "_view_module": "@jupyter-widgets/base",
            "_view_module_version": "1.2.0",
            "_view_name": "LayoutView",
            "align_content": null,
            "align_items": null,
            "align_self": null,
            "border": null,
            "bottom": null,
            "display": null,
            "flex": null,
            "flex_flow": null,
            "grid_area": null,
            "grid_auto_columns": null,
            "grid_auto_flow": null,
            "grid_auto_rows": null,
            "grid_column": null,
            "grid_gap": null,
            "grid_row": null,
            "grid_template_areas": null,
            "grid_template_columns": null,
            "grid_template_rows": null,
            "height": null,
            "justify_content": null,
            "justify_items": null,
            "left": null,
            "margin": null,
            "max_height": null,
            "max_width": null,
            "min_height": null,
            "min_width": null,
            "object_fit": null,
            "object_position": null,
            "order": null,
            "overflow": null,
            "overflow_x": null,
            "overflow_y": null,
            "padding": null,
            "right": null,
            "top": null,
            "visibility": null,
            "width": null
          }
        },
        "ffc91adf910846118f701b77ab955035": {
          "model_module": "@jupyter-widgets/base",
          "model_name": "LayoutModel",
          "model_module_version": "1.2.0",
          "state": {
            "_model_module": "@jupyter-widgets/base",
            "_model_module_version": "1.2.0",
            "_model_name": "LayoutModel",
            "_view_count": null,
            "_view_module": "@jupyter-widgets/base",
            "_view_module_version": "1.2.0",
            "_view_name": "LayoutView",
            "align_content": null,
            "align_items": null,
            "align_self": null,
            "border": null,
            "bottom": null,
            "display": null,
            "flex": null,
            "flex_flow": null,
            "grid_area": null,
            "grid_auto_columns": null,
            "grid_auto_flow": null,
            "grid_auto_rows": null,
            "grid_column": null,
            "grid_gap": null,
            "grid_row": null,
            "grid_template_areas": null,
            "grid_template_columns": null,
            "grid_template_rows": null,
            "height": null,
            "justify_content": null,
            "justify_items": null,
            "left": null,
            "margin": null,
            "max_height": null,
            "max_width": null,
            "min_height": null,
            "min_width": null,
            "object_fit": null,
            "object_position": null,
            "order": null,
            "overflow": null,
            "overflow_x": null,
            "overflow_y": null,
            "padding": null,
            "right": null,
            "top": null,
            "visibility": null,
            "width": null
          }
        },
        "649a77b803784f778a5bdc7b3d1afa49": {
          "model_module": "@jupyter-widgets/controls",
          "model_name": "DescriptionStyleModel",
          "model_module_version": "1.5.0",
          "state": {
            "_model_module": "@jupyter-widgets/controls",
            "_model_module_version": "1.5.0",
            "_model_name": "DescriptionStyleModel",
            "_view_count": null,
            "_view_module": "@jupyter-widgets/base",
            "_view_module_version": "1.2.0",
            "_view_name": "StyleView",
            "description_width": ""
          }
        },
        "8c2c6623e34b492199488f4c1ef8f021": {
          "model_module": "@jupyter-widgets/base",
          "model_name": "LayoutModel",
          "model_module_version": "1.2.0",
          "state": {
            "_model_module": "@jupyter-widgets/base",
            "_model_module_version": "1.2.0",
            "_model_name": "LayoutModel",
            "_view_count": null,
            "_view_module": "@jupyter-widgets/base",
            "_view_module_version": "1.2.0",
            "_view_name": "LayoutView",
            "align_content": null,
            "align_items": null,
            "align_self": null,
            "border": null,
            "bottom": null,
            "display": null,
            "flex": null,
            "flex_flow": null,
            "grid_area": null,
            "grid_auto_columns": null,
            "grid_auto_flow": null,
            "grid_auto_rows": null,
            "grid_column": null,
            "grid_gap": null,
            "grid_row": null,
            "grid_template_areas": null,
            "grid_template_columns": null,
            "grid_template_rows": null,
            "height": null,
            "justify_content": null,
            "justify_items": null,
            "left": null,
            "margin": null,
            "max_height": null,
            "max_width": null,
            "min_height": null,
            "min_width": null,
            "object_fit": null,
            "object_position": null,
            "order": null,
            "overflow": null,
            "overflow_x": null,
            "overflow_y": null,
            "padding": null,
            "right": null,
            "top": null,
            "visibility": null,
            "width": null
          }
        },
        "9c6e65220b54433dbfcde398ad2e6712": {
          "model_module": "@jupyter-widgets/controls",
          "model_name": "ProgressStyleModel",
          "model_module_version": "1.5.0",
          "state": {
            "_model_module": "@jupyter-widgets/controls",
            "_model_module_version": "1.5.0",
            "_model_name": "ProgressStyleModel",
            "_view_count": null,
            "_view_module": "@jupyter-widgets/base",
            "_view_module_version": "1.2.0",
            "_view_name": "StyleView",
            "bar_color": null,
            "description_width": ""
          }
        },
        "63360de3fd434e3aaa81a7e05c7aa12b": {
          "model_module": "@jupyter-widgets/base",
          "model_name": "LayoutModel",
          "model_module_version": "1.2.0",
          "state": {
            "_model_module": "@jupyter-widgets/base",
            "_model_module_version": "1.2.0",
            "_model_name": "LayoutModel",
            "_view_count": null,
            "_view_module": "@jupyter-widgets/base",
            "_view_module_version": "1.2.0",
            "_view_name": "LayoutView",
            "align_content": null,
            "align_items": null,
            "align_self": null,
            "border": null,
            "bottom": null,
            "display": null,
            "flex": null,
            "flex_flow": null,
            "grid_area": null,
            "grid_auto_columns": null,
            "grid_auto_flow": null,
            "grid_auto_rows": null,
            "grid_column": null,
            "grid_gap": null,
            "grid_row": null,
            "grid_template_areas": null,
            "grid_template_columns": null,
            "grid_template_rows": null,
            "height": null,
            "justify_content": null,
            "justify_items": null,
            "left": null,
            "margin": null,
            "max_height": null,
            "max_width": null,
            "min_height": null,
            "min_width": null,
            "object_fit": null,
            "object_position": null,
            "order": null,
            "overflow": null,
            "overflow_x": null,
            "overflow_y": null,
            "padding": null,
            "right": null,
            "top": null,
            "visibility": null,
            "width": null
          }
        },
        "f14aee7fb30a4296944f08749930ae49": {
          "model_module": "@jupyter-widgets/controls",
          "model_name": "DescriptionStyleModel",
          "model_module_version": "1.5.0",
          "state": {
            "_model_module": "@jupyter-widgets/controls",
            "_model_module_version": "1.5.0",
            "_model_name": "DescriptionStyleModel",
            "_view_count": null,
            "_view_module": "@jupyter-widgets/base",
            "_view_module_version": "1.2.0",
            "_view_name": "StyleView",
            "description_width": ""
          }
        },
        "80560b96828141b2a656780a1346c256": {
          "model_module": "@jupyter-widgets/controls",
          "model_name": "HBoxModel",
          "model_module_version": "1.5.0",
          "state": {
            "_dom_classes": [],
            "_model_module": "@jupyter-widgets/controls",
            "_model_module_version": "1.5.0",
            "_model_name": "HBoxModel",
            "_view_count": null,
            "_view_module": "@jupyter-widgets/controls",
            "_view_module_version": "1.5.0",
            "_view_name": "HBoxView",
            "box_style": "",
            "children": [
              "IPY_MODEL_80e70d7177d0485c865669a6765a0b17",
              "IPY_MODEL_57eac8add3424dc597e93b47ef6c73d1",
              "IPY_MODEL_873b766e7509497d9a0688e6e71e75c3"
            ],
            "layout": "IPY_MODEL_d888956660804f1b86069256d2d62e91"
          }
        },
        "80e70d7177d0485c865669a6765a0b17": {
          "model_module": "@jupyter-widgets/controls",
          "model_name": "HTMLModel",
          "model_module_version": "1.5.0",
          "state": {
            "_dom_classes": [],
            "_model_module": "@jupyter-widgets/controls",
            "_model_module_version": "1.5.0",
            "_model_name": "HTMLModel",
            "_view_count": null,
            "_view_module": "@jupyter-widgets/controls",
            "_view_module_version": "1.5.0",
            "_view_name": "HTMLView",
            "description": "",
            "description_tooltip": null,
            "layout": "IPY_MODEL_2562755108bd4f448793154e7554734f",
            "placeholder": "​",
            "style": "IPY_MODEL_334b0124c6e643029a18636bf8e0ab82",
            "value": "Downloading readme: 100%"
          }
        },
        "57eac8add3424dc597e93b47ef6c73d1": {
          "model_module": "@jupyter-widgets/controls",
          "model_name": "FloatProgressModel",
          "model_module_version": "1.5.0",
          "state": {
            "_dom_classes": [],
            "_model_module": "@jupyter-widgets/controls",
            "_model_module_version": "1.5.0",
            "_model_name": "FloatProgressModel",
            "_view_count": null,
            "_view_module": "@jupyter-widgets/controls",
            "_view_module_version": "1.5.0",
            "_view_name": "ProgressView",
            "bar_style": "success",
            "description": "",
            "description_tooltip": null,
            "layout": "IPY_MODEL_382a9b28b5ec44148a37288fdb526d75",
            "max": 7590,
            "min": 0,
            "orientation": "horizontal",
            "style": "IPY_MODEL_9bf695a8f61448148de29172b0ee287b",
            "value": 7590
          }
        },
        "873b766e7509497d9a0688e6e71e75c3": {
          "model_module": "@jupyter-widgets/controls",
          "model_name": "HTMLModel",
          "model_module_version": "1.5.0",
          "state": {
            "_dom_classes": [],
            "_model_module": "@jupyter-widgets/controls",
            "_model_module_version": "1.5.0",
            "_model_name": "HTMLModel",
            "_view_count": null,
            "_view_module": "@jupyter-widgets/controls",
            "_view_module_version": "1.5.0",
            "_view_name": "HTMLView",
            "description": "",
            "description_tooltip": null,
            "layout": "IPY_MODEL_a0dc61cb0b9547a88348e6d27bd58f1d",
            "placeholder": "​",
            "style": "IPY_MODEL_6267bfc692164e5997b64a5578ea60e3",
            "value": " 7.59k/7.59k [00:00&lt;00:00, 493kB/s]"
          }
        },
        "d888956660804f1b86069256d2d62e91": {
          "model_module": "@jupyter-widgets/base",
          "model_name": "LayoutModel",
          "model_module_version": "1.2.0",
          "state": {
            "_model_module": "@jupyter-widgets/base",
            "_model_module_version": "1.2.0",
            "_model_name": "LayoutModel",
            "_view_count": null,
            "_view_module": "@jupyter-widgets/base",
            "_view_module_version": "1.2.0",
            "_view_name": "LayoutView",
            "align_content": null,
            "align_items": null,
            "align_self": null,
            "border": null,
            "bottom": null,
            "display": null,
            "flex": null,
            "flex_flow": null,
            "grid_area": null,
            "grid_auto_columns": null,
            "grid_auto_flow": null,
            "grid_auto_rows": null,
            "grid_column": null,
            "grid_gap": null,
            "grid_row": null,
            "grid_template_areas": null,
            "grid_template_columns": null,
            "grid_template_rows": null,
            "height": null,
            "justify_content": null,
            "justify_items": null,
            "left": null,
            "margin": null,
            "max_height": null,
            "max_width": null,
            "min_height": null,
            "min_width": null,
            "object_fit": null,
            "object_position": null,
            "order": null,
            "overflow": null,
            "overflow_x": null,
            "overflow_y": null,
            "padding": null,
            "right": null,
            "top": null,
            "visibility": null,
            "width": null
          }
        },
        "2562755108bd4f448793154e7554734f": {
          "model_module": "@jupyter-widgets/base",
          "model_name": "LayoutModel",
          "model_module_version": "1.2.0",
          "state": {
            "_model_module": "@jupyter-widgets/base",
            "_model_module_version": "1.2.0",
            "_model_name": "LayoutModel",
            "_view_count": null,
            "_view_module": "@jupyter-widgets/base",
            "_view_module_version": "1.2.0",
            "_view_name": "LayoutView",
            "align_content": null,
            "align_items": null,
            "align_self": null,
            "border": null,
            "bottom": null,
            "display": null,
            "flex": null,
            "flex_flow": null,
            "grid_area": null,
            "grid_auto_columns": null,
            "grid_auto_flow": null,
            "grid_auto_rows": null,
            "grid_column": null,
            "grid_gap": null,
            "grid_row": null,
            "grid_template_areas": null,
            "grid_template_columns": null,
            "grid_template_rows": null,
            "height": null,
            "justify_content": null,
            "justify_items": null,
            "left": null,
            "margin": null,
            "max_height": null,
            "max_width": null,
            "min_height": null,
            "min_width": null,
            "object_fit": null,
            "object_position": null,
            "order": null,
            "overflow": null,
            "overflow_x": null,
            "overflow_y": null,
            "padding": null,
            "right": null,
            "top": null,
            "visibility": null,
            "width": null
          }
        },
        "334b0124c6e643029a18636bf8e0ab82": {
          "model_module": "@jupyter-widgets/controls",
          "model_name": "DescriptionStyleModel",
          "model_module_version": "1.5.0",
          "state": {
            "_model_module": "@jupyter-widgets/controls",
            "_model_module_version": "1.5.0",
            "_model_name": "DescriptionStyleModel",
            "_view_count": null,
            "_view_module": "@jupyter-widgets/base",
            "_view_module_version": "1.2.0",
            "_view_name": "StyleView",
            "description_width": ""
          }
        },
        "382a9b28b5ec44148a37288fdb526d75": {
          "model_module": "@jupyter-widgets/base",
          "model_name": "LayoutModel",
          "model_module_version": "1.2.0",
          "state": {
            "_model_module": "@jupyter-widgets/base",
            "_model_module_version": "1.2.0",
            "_model_name": "LayoutModel",
            "_view_count": null,
            "_view_module": "@jupyter-widgets/base",
            "_view_module_version": "1.2.0",
            "_view_name": "LayoutView",
            "align_content": null,
            "align_items": null,
            "align_self": null,
            "border": null,
            "bottom": null,
            "display": null,
            "flex": null,
            "flex_flow": null,
            "grid_area": null,
            "grid_auto_columns": null,
            "grid_auto_flow": null,
            "grid_auto_rows": null,
            "grid_column": null,
            "grid_gap": null,
            "grid_row": null,
            "grid_template_areas": null,
            "grid_template_columns": null,
            "grid_template_rows": null,
            "height": null,
            "justify_content": null,
            "justify_items": null,
            "left": null,
            "margin": null,
            "max_height": null,
            "max_width": null,
            "min_height": null,
            "min_width": null,
            "object_fit": null,
            "object_position": null,
            "order": null,
            "overflow": null,
            "overflow_x": null,
            "overflow_y": null,
            "padding": null,
            "right": null,
            "top": null,
            "visibility": null,
            "width": null
          }
        },
        "9bf695a8f61448148de29172b0ee287b": {
          "model_module": "@jupyter-widgets/controls",
          "model_name": "ProgressStyleModel",
          "model_module_version": "1.5.0",
          "state": {
            "_model_module": "@jupyter-widgets/controls",
            "_model_module_version": "1.5.0",
            "_model_name": "ProgressStyleModel",
            "_view_count": null,
            "_view_module": "@jupyter-widgets/base",
            "_view_module_version": "1.2.0",
            "_view_name": "StyleView",
            "bar_color": null,
            "description_width": ""
          }
        },
        "a0dc61cb0b9547a88348e6d27bd58f1d": {
          "model_module": "@jupyter-widgets/base",
          "model_name": "LayoutModel",
          "model_module_version": "1.2.0",
          "state": {
            "_model_module": "@jupyter-widgets/base",
            "_model_module_version": "1.2.0",
            "_model_name": "LayoutModel",
            "_view_count": null,
            "_view_module": "@jupyter-widgets/base",
            "_view_module_version": "1.2.0",
            "_view_name": "LayoutView",
            "align_content": null,
            "align_items": null,
            "align_self": null,
            "border": null,
            "bottom": null,
            "display": null,
            "flex": null,
            "flex_flow": null,
            "grid_area": null,
            "grid_auto_columns": null,
            "grid_auto_flow": null,
            "grid_auto_rows": null,
            "grid_column": null,
            "grid_gap": null,
            "grid_row": null,
            "grid_template_areas": null,
            "grid_template_columns": null,
            "grid_template_rows": null,
            "height": null,
            "justify_content": null,
            "justify_items": null,
            "left": null,
            "margin": null,
            "max_height": null,
            "max_width": null,
            "min_height": null,
            "min_width": null,
            "object_fit": null,
            "object_position": null,
            "order": null,
            "overflow": null,
            "overflow_x": null,
            "overflow_y": null,
            "padding": null,
            "right": null,
            "top": null,
            "visibility": null,
            "width": null
          }
        },
        "6267bfc692164e5997b64a5578ea60e3": {
          "model_module": "@jupyter-widgets/controls",
          "model_name": "DescriptionStyleModel",
          "model_module_version": "1.5.0",
          "state": {
            "_model_module": "@jupyter-widgets/controls",
            "_model_module_version": "1.5.0",
            "_model_name": "DescriptionStyleModel",
            "_view_count": null,
            "_view_module": "@jupyter-widgets/base",
            "_view_module_version": "1.2.0",
            "_view_name": "StyleView",
            "description_width": ""
          }
        },
        "9a15a34088cc4761884b6905c109e6b6": {
          "model_module": "@jupyter-widgets/controls",
          "model_name": "HBoxModel",
          "model_module_version": "1.5.0",
          "state": {
            "_dom_classes": [],
            "_model_module": "@jupyter-widgets/controls",
            "_model_module_version": "1.5.0",
            "_model_name": "HBoxModel",
            "_view_count": null,
            "_view_module": "@jupyter-widgets/controls",
            "_view_module_version": "1.5.0",
            "_view_name": "HBoxView",
            "box_style": "",
            "children": [
              "IPY_MODEL_68b80c17a2ed4362a9b6c5cfc0a6d48e",
              "IPY_MODEL_b48f34ddc18044f9bf114038f3e14667",
              "IPY_MODEL_4adb43638504428588cab6a675f0f4b5"
            ],
            "layout": "IPY_MODEL_5faec4d68cdd4d4f91098bb3d06df78b"
          }
        },
        "68b80c17a2ed4362a9b6c5cfc0a6d48e": {
          "model_module": "@jupyter-widgets/controls",
          "model_name": "HTMLModel",
          "model_module_version": "1.5.0",
          "state": {
            "_dom_classes": [],
            "_model_module": "@jupyter-widgets/controls",
            "_model_module_version": "1.5.0",
            "_model_name": "HTMLModel",
            "_view_count": null,
            "_view_module": "@jupyter-widgets/controls",
            "_view_module_version": "1.5.0",
            "_view_name": "HTMLView",
            "description": "",
            "description_tooltip": null,
            "layout": "IPY_MODEL_e4fffc115ba84acc9d9a7123cc0c697b",
            "placeholder": "​",
            "style": "IPY_MODEL_49db21c46f304a12bcc4928c4fd3c77b",
            "value": "Downloading data: 100%"
          }
        },
        "b48f34ddc18044f9bf114038f3e14667": {
          "model_module": "@jupyter-widgets/controls",
          "model_name": "FloatProgressModel",
          "model_module_version": "1.5.0",
          "state": {
            "_dom_classes": [],
            "_model_module": "@jupyter-widgets/controls",
            "_model_module_version": "1.5.0",
            "_model_name": "FloatProgressModel",
            "_view_count": null,
            "_view_module": "@jupyter-widgets/controls",
            "_view_module_version": "1.5.0",
            "_view_name": "ProgressView",
            "bar_style": "success",
            "description": "",
            "description_tooltip": null,
            "layout": "IPY_MODEL_4903154a40994ae78930b7236c94ae62",
            "max": 84125825,
            "min": 0,
            "orientation": "horizontal",
            "style": "IPY_MODEL_b01d1c530c5e481c9081b390f7f84250",
            "value": 84125825
          }
        },
        "4adb43638504428588cab6a675f0f4b5": {
          "model_module": "@jupyter-widgets/controls",
          "model_name": "HTMLModel",
          "model_module_version": "1.5.0",
          "state": {
            "_dom_classes": [],
            "_model_module": "@jupyter-widgets/controls",
            "_model_module_version": "1.5.0",
            "_model_name": "HTMLModel",
            "_view_count": null,
            "_view_module": "@jupyter-widgets/controls",
            "_view_module_version": "1.5.0",
            "_view_name": "HTMLView",
            "description": "",
            "description_tooltip": null,
            "layout": "IPY_MODEL_1bff0b1d9cc348a0b14d8267cc00c8f4",
            "placeholder": "​",
            "style": "IPY_MODEL_84d03f3ecb8645268ea82877c60808f7",
            "value": " 84.1M/84.1M [00:01&lt;00:00, 66.7MB/s]"
          }
        },
        "5faec4d68cdd4d4f91098bb3d06df78b": {
          "model_module": "@jupyter-widgets/base",
          "model_name": "LayoutModel",
          "model_module_version": "1.2.0",
          "state": {
            "_model_module": "@jupyter-widgets/base",
            "_model_module_version": "1.2.0",
            "_model_name": "LayoutModel",
            "_view_count": null,
            "_view_module": "@jupyter-widgets/base",
            "_view_module_version": "1.2.0",
            "_view_name": "LayoutView",
            "align_content": null,
            "align_items": null,
            "align_self": null,
            "border": null,
            "bottom": null,
            "display": null,
            "flex": null,
            "flex_flow": null,
            "grid_area": null,
            "grid_auto_columns": null,
            "grid_auto_flow": null,
            "grid_auto_rows": null,
            "grid_column": null,
            "grid_gap": null,
            "grid_row": null,
            "grid_template_areas": null,
            "grid_template_columns": null,
            "grid_template_rows": null,
            "height": null,
            "justify_content": null,
            "justify_items": null,
            "left": null,
            "margin": null,
            "max_height": null,
            "max_width": null,
            "min_height": null,
            "min_width": null,
            "object_fit": null,
            "object_position": null,
            "order": null,
            "overflow": null,
            "overflow_x": null,
            "overflow_y": null,
            "padding": null,
            "right": null,
            "top": null,
            "visibility": null,
            "width": null
          }
        },
        "e4fffc115ba84acc9d9a7123cc0c697b": {
          "model_module": "@jupyter-widgets/base",
          "model_name": "LayoutModel",
          "model_module_version": "1.2.0",
          "state": {
            "_model_module": "@jupyter-widgets/base",
            "_model_module_version": "1.2.0",
            "_model_name": "LayoutModel",
            "_view_count": null,
            "_view_module": "@jupyter-widgets/base",
            "_view_module_version": "1.2.0",
            "_view_name": "LayoutView",
            "align_content": null,
            "align_items": null,
            "align_self": null,
            "border": null,
            "bottom": null,
            "display": null,
            "flex": null,
            "flex_flow": null,
            "grid_area": null,
            "grid_auto_columns": null,
            "grid_auto_flow": null,
            "grid_auto_rows": null,
            "grid_column": null,
            "grid_gap": null,
            "grid_row": null,
            "grid_template_areas": null,
            "grid_template_columns": null,
            "grid_template_rows": null,
            "height": null,
            "justify_content": null,
            "justify_items": null,
            "left": null,
            "margin": null,
            "max_height": null,
            "max_width": null,
            "min_height": null,
            "min_width": null,
            "object_fit": null,
            "object_position": null,
            "order": null,
            "overflow": null,
            "overflow_x": null,
            "overflow_y": null,
            "padding": null,
            "right": null,
            "top": null,
            "visibility": null,
            "width": null
          }
        },
        "49db21c46f304a12bcc4928c4fd3c77b": {
          "model_module": "@jupyter-widgets/controls",
          "model_name": "DescriptionStyleModel",
          "model_module_version": "1.5.0",
          "state": {
            "_model_module": "@jupyter-widgets/controls",
            "_model_module_version": "1.5.0",
            "_model_name": "DescriptionStyleModel",
            "_view_count": null,
            "_view_module": "@jupyter-widgets/base",
            "_view_module_version": "1.2.0",
            "_view_name": "StyleView",
            "description_width": ""
          }
        },
        "4903154a40994ae78930b7236c94ae62": {
          "model_module": "@jupyter-widgets/base",
          "model_name": "LayoutModel",
          "model_module_version": "1.2.0",
          "state": {
            "_model_module": "@jupyter-widgets/base",
            "_model_module_version": "1.2.0",
            "_model_name": "LayoutModel",
            "_view_count": null,
            "_view_module": "@jupyter-widgets/base",
            "_view_module_version": "1.2.0",
            "_view_name": "LayoutView",
            "align_content": null,
            "align_items": null,
            "align_self": null,
            "border": null,
            "bottom": null,
            "display": null,
            "flex": null,
            "flex_flow": null,
            "grid_area": null,
            "grid_auto_columns": null,
            "grid_auto_flow": null,
            "grid_auto_rows": null,
            "grid_column": null,
            "grid_gap": null,
            "grid_row": null,
            "grid_template_areas": null,
            "grid_template_columns": null,
            "grid_template_rows": null,
            "height": null,
            "justify_content": null,
            "justify_items": null,
            "left": null,
            "margin": null,
            "max_height": null,
            "max_width": null,
            "min_height": null,
            "min_width": null,
            "object_fit": null,
            "object_position": null,
            "order": null,
            "overflow": null,
            "overflow_x": null,
            "overflow_y": null,
            "padding": null,
            "right": null,
            "top": null,
            "visibility": null,
            "width": null
          }
        },
        "b01d1c530c5e481c9081b390f7f84250": {
          "model_module": "@jupyter-widgets/controls",
          "model_name": "ProgressStyleModel",
          "model_module_version": "1.5.0",
          "state": {
            "_model_module": "@jupyter-widgets/controls",
            "_model_module_version": "1.5.0",
            "_model_name": "ProgressStyleModel",
            "_view_count": null,
            "_view_module": "@jupyter-widgets/base",
            "_view_module_version": "1.2.0",
            "_view_name": "StyleView",
            "bar_color": null,
            "description_width": ""
          }
        },
        "1bff0b1d9cc348a0b14d8267cc00c8f4": {
          "model_module": "@jupyter-widgets/base",
          "model_name": "LayoutModel",
          "model_module_version": "1.2.0",
          "state": {
            "_model_module": "@jupyter-widgets/base",
            "_model_module_version": "1.2.0",
            "_model_name": "LayoutModel",
            "_view_count": null,
            "_view_module": "@jupyter-widgets/base",
            "_view_module_version": "1.2.0",
            "_view_name": "LayoutView",
            "align_content": null,
            "align_items": null,
            "align_self": null,
            "border": null,
            "bottom": null,
            "display": null,
            "flex": null,
            "flex_flow": null,
            "grid_area": null,
            "grid_auto_columns": null,
            "grid_auto_flow": null,
            "grid_auto_rows": null,
            "grid_column": null,
            "grid_gap": null,
            "grid_row": null,
            "grid_template_areas": null,
            "grid_template_columns": null,
            "grid_template_rows": null,
            "height": null,
            "justify_content": null,
            "justify_items": null,
            "left": null,
            "margin": null,
            "max_height": null,
            "max_width": null,
            "min_height": null,
            "min_width": null,
            "object_fit": null,
            "object_position": null,
            "order": null,
            "overflow": null,
            "overflow_x": null,
            "overflow_y": null,
            "padding": null,
            "right": null,
            "top": null,
            "visibility": null,
            "width": null
          }
        },
        "84d03f3ecb8645268ea82877c60808f7": {
          "model_module": "@jupyter-widgets/controls",
          "model_name": "DescriptionStyleModel",
          "model_module_version": "1.5.0",
          "state": {
            "_model_module": "@jupyter-widgets/controls",
            "_model_module_version": "1.5.0",
            "_model_name": "DescriptionStyleModel",
            "_view_count": null,
            "_view_module": "@jupyter-widgets/base",
            "_view_module_version": "1.2.0",
            "_view_name": "StyleView",
            "description_width": ""
          }
        },
        "1c2fa05be72944c0a806f23a3b07bf2e": {
          "model_module": "@jupyter-widgets/controls",
          "model_name": "HBoxModel",
          "model_module_version": "1.5.0",
          "state": {
            "_dom_classes": [],
            "_model_module": "@jupyter-widgets/controls",
            "_model_module_version": "1.5.0",
            "_model_name": "HBoxModel",
            "_view_count": null,
            "_view_module": "@jupyter-widgets/controls",
            "_view_module_version": "1.5.0",
            "_view_name": "HBoxView",
            "box_style": "",
            "children": [
              "IPY_MODEL_84b14f68a3ea4e9699bc7017093ed0ac",
              "IPY_MODEL_dfca998137a34ce5964532990fbff0ff",
              "IPY_MODEL_03ac7661be6d45cc89d9e632bce264a2"
            ],
            "layout": "IPY_MODEL_9c5dea4340c44bbf8fa91a7680bbc72e"
          }
        },
        "84b14f68a3ea4e9699bc7017093ed0ac": {
          "model_module": "@jupyter-widgets/controls",
          "model_name": "HTMLModel",
          "model_module_version": "1.5.0",
          "state": {
            "_dom_classes": [],
            "_model_module": "@jupyter-widgets/controls",
            "_model_module_version": "1.5.0",
            "_model_name": "HTMLModel",
            "_view_count": null,
            "_view_module": "@jupyter-widgets/controls",
            "_view_module_version": "1.5.0",
            "_view_name": "HTMLView",
            "description": "",
            "description_tooltip": null,
            "layout": "IPY_MODEL_78f04b58157b448e82ba74ba8202a327",
            "placeholder": "​",
            "style": "IPY_MODEL_d775c87e1cb04ca6be513f4bc2aca83b",
            "value": "Generating train split: 100%"
          }
        },
        "dfca998137a34ce5964532990fbff0ff": {
          "model_module": "@jupyter-widgets/controls",
          "model_name": "FloatProgressModel",
          "model_module_version": "1.5.0",
          "state": {
            "_dom_classes": [],
            "_model_module": "@jupyter-widgets/controls",
            "_model_module_version": "1.5.0",
            "_model_name": "FloatProgressModel",
            "_view_count": null,
            "_view_module": "@jupyter-widgets/controls",
            "_view_module_version": "1.5.0",
            "_view_name": "ProgressView",
            "bar_style": "success",
            "description": "",
            "description_tooltip": null,
            "layout": "IPY_MODEL_1f0c17ebadce441d8f019dbfea70e58b",
            "max": 25000,
            "min": 0,
            "orientation": "horizontal",
            "style": "IPY_MODEL_1e7820f538404b2bba5fe8456a87e7fe",
            "value": 25000
          }
        },
        "03ac7661be6d45cc89d9e632bce264a2": {
          "model_module": "@jupyter-widgets/controls",
          "model_name": "HTMLModel",
          "model_module_version": "1.5.0",
          "state": {
            "_dom_classes": [],
            "_model_module": "@jupyter-widgets/controls",
            "_model_module_version": "1.5.0",
            "_model_name": "HTMLModel",
            "_view_count": null,
            "_view_module": "@jupyter-widgets/controls",
            "_view_module_version": "1.5.0",
            "_view_name": "HTMLView",
            "description": "",
            "description_tooltip": null,
            "layout": "IPY_MODEL_e93f5af9fa134fdba68fcc1e01c3e413",
            "placeholder": "​",
            "style": "IPY_MODEL_846f759ba5114fd1b258381c0c33bfcd",
            "value": " 25000/25000 [00:07&lt;00:00, 9908.81 examples/s]"
          }
        },
        "9c5dea4340c44bbf8fa91a7680bbc72e": {
          "model_module": "@jupyter-widgets/base",
          "model_name": "LayoutModel",
          "model_module_version": "1.2.0",
          "state": {
            "_model_module": "@jupyter-widgets/base",
            "_model_module_version": "1.2.0",
            "_model_name": "LayoutModel",
            "_view_count": null,
            "_view_module": "@jupyter-widgets/base",
            "_view_module_version": "1.2.0",
            "_view_name": "LayoutView",
            "align_content": null,
            "align_items": null,
            "align_self": null,
            "border": null,
            "bottom": null,
            "display": null,
            "flex": null,
            "flex_flow": null,
            "grid_area": null,
            "grid_auto_columns": null,
            "grid_auto_flow": null,
            "grid_auto_rows": null,
            "grid_column": null,
            "grid_gap": null,
            "grid_row": null,
            "grid_template_areas": null,
            "grid_template_columns": null,
            "grid_template_rows": null,
            "height": null,
            "justify_content": null,
            "justify_items": null,
            "left": null,
            "margin": null,
            "max_height": null,
            "max_width": null,
            "min_height": null,
            "min_width": null,
            "object_fit": null,
            "object_position": null,
            "order": null,
            "overflow": null,
            "overflow_x": null,
            "overflow_y": null,
            "padding": null,
            "right": null,
            "top": null,
            "visibility": null,
            "width": null
          }
        },
        "78f04b58157b448e82ba74ba8202a327": {
          "model_module": "@jupyter-widgets/base",
          "model_name": "LayoutModel",
          "model_module_version": "1.2.0",
          "state": {
            "_model_module": "@jupyter-widgets/base",
            "_model_module_version": "1.2.0",
            "_model_name": "LayoutModel",
            "_view_count": null,
            "_view_module": "@jupyter-widgets/base",
            "_view_module_version": "1.2.0",
            "_view_name": "LayoutView",
            "align_content": null,
            "align_items": null,
            "align_self": null,
            "border": null,
            "bottom": null,
            "display": null,
            "flex": null,
            "flex_flow": null,
            "grid_area": null,
            "grid_auto_columns": null,
            "grid_auto_flow": null,
            "grid_auto_rows": null,
            "grid_column": null,
            "grid_gap": null,
            "grid_row": null,
            "grid_template_areas": null,
            "grid_template_columns": null,
            "grid_template_rows": null,
            "height": null,
            "justify_content": null,
            "justify_items": null,
            "left": null,
            "margin": null,
            "max_height": null,
            "max_width": null,
            "min_height": null,
            "min_width": null,
            "object_fit": null,
            "object_position": null,
            "order": null,
            "overflow": null,
            "overflow_x": null,
            "overflow_y": null,
            "padding": null,
            "right": null,
            "top": null,
            "visibility": null,
            "width": null
          }
        },
        "d775c87e1cb04ca6be513f4bc2aca83b": {
          "model_module": "@jupyter-widgets/controls",
          "model_name": "DescriptionStyleModel",
          "model_module_version": "1.5.0",
          "state": {
            "_model_module": "@jupyter-widgets/controls",
            "_model_module_version": "1.5.0",
            "_model_name": "DescriptionStyleModel",
            "_view_count": null,
            "_view_module": "@jupyter-widgets/base",
            "_view_module_version": "1.2.0",
            "_view_name": "StyleView",
            "description_width": ""
          }
        },
        "1f0c17ebadce441d8f019dbfea70e58b": {
          "model_module": "@jupyter-widgets/base",
          "model_name": "LayoutModel",
          "model_module_version": "1.2.0",
          "state": {
            "_model_module": "@jupyter-widgets/base",
            "_model_module_version": "1.2.0",
            "_model_name": "LayoutModel",
            "_view_count": null,
            "_view_module": "@jupyter-widgets/base",
            "_view_module_version": "1.2.0",
            "_view_name": "LayoutView",
            "align_content": null,
            "align_items": null,
            "align_self": null,
            "border": null,
            "bottom": null,
            "display": null,
            "flex": null,
            "flex_flow": null,
            "grid_area": null,
            "grid_auto_columns": null,
            "grid_auto_flow": null,
            "grid_auto_rows": null,
            "grid_column": null,
            "grid_gap": null,
            "grid_row": null,
            "grid_template_areas": null,
            "grid_template_columns": null,
            "grid_template_rows": null,
            "height": null,
            "justify_content": null,
            "justify_items": null,
            "left": null,
            "margin": null,
            "max_height": null,
            "max_width": null,
            "min_height": null,
            "min_width": null,
            "object_fit": null,
            "object_position": null,
            "order": null,
            "overflow": null,
            "overflow_x": null,
            "overflow_y": null,
            "padding": null,
            "right": null,
            "top": null,
            "visibility": null,
            "width": null
          }
        },
        "1e7820f538404b2bba5fe8456a87e7fe": {
          "model_module": "@jupyter-widgets/controls",
          "model_name": "ProgressStyleModel",
          "model_module_version": "1.5.0",
          "state": {
            "_model_module": "@jupyter-widgets/controls",
            "_model_module_version": "1.5.0",
            "_model_name": "ProgressStyleModel",
            "_view_count": null,
            "_view_module": "@jupyter-widgets/base",
            "_view_module_version": "1.2.0",
            "_view_name": "StyleView",
            "bar_color": null,
            "description_width": ""
          }
        },
        "e93f5af9fa134fdba68fcc1e01c3e413": {
          "model_module": "@jupyter-widgets/base",
          "model_name": "LayoutModel",
          "model_module_version": "1.2.0",
          "state": {
            "_model_module": "@jupyter-widgets/base",
            "_model_module_version": "1.2.0",
            "_model_name": "LayoutModel",
            "_view_count": null,
            "_view_module": "@jupyter-widgets/base",
            "_view_module_version": "1.2.0",
            "_view_name": "LayoutView",
            "align_content": null,
            "align_items": null,
            "align_self": null,
            "border": null,
            "bottom": null,
            "display": null,
            "flex": null,
            "flex_flow": null,
            "grid_area": null,
            "grid_auto_columns": null,
            "grid_auto_flow": null,
            "grid_auto_rows": null,
            "grid_column": null,
            "grid_gap": null,
            "grid_row": null,
            "grid_template_areas": null,
            "grid_template_columns": null,
            "grid_template_rows": null,
            "height": null,
            "justify_content": null,
            "justify_items": null,
            "left": null,
            "margin": null,
            "max_height": null,
            "max_width": null,
            "min_height": null,
            "min_width": null,
            "object_fit": null,
            "object_position": null,
            "order": null,
            "overflow": null,
            "overflow_x": null,
            "overflow_y": null,
            "padding": null,
            "right": null,
            "top": null,
            "visibility": null,
            "width": null
          }
        },
        "846f759ba5114fd1b258381c0c33bfcd": {
          "model_module": "@jupyter-widgets/controls",
          "model_name": "DescriptionStyleModel",
          "model_module_version": "1.5.0",
          "state": {
            "_model_module": "@jupyter-widgets/controls",
            "_model_module_version": "1.5.0",
            "_model_name": "DescriptionStyleModel",
            "_view_count": null,
            "_view_module": "@jupyter-widgets/base",
            "_view_module_version": "1.2.0",
            "_view_name": "StyleView",
            "description_width": ""
          }
        },
        "3e38d02739e142828517e20835005167": {
          "model_module": "@jupyter-widgets/controls",
          "model_name": "HBoxModel",
          "model_module_version": "1.5.0",
          "state": {
            "_dom_classes": [],
            "_model_module": "@jupyter-widgets/controls",
            "_model_module_version": "1.5.0",
            "_model_name": "HBoxModel",
            "_view_count": null,
            "_view_module": "@jupyter-widgets/controls",
            "_view_module_version": "1.5.0",
            "_view_name": "HBoxView",
            "box_style": "",
            "children": [
              "IPY_MODEL_c83255666cd7447e8278168cd17f4f45",
              "IPY_MODEL_38c2be6ea0b24177b2c9a7649a36ab1b",
              "IPY_MODEL_d555b73714e946598c232b33b888a61b"
            ],
            "layout": "IPY_MODEL_2f6aff721fb4455990cd974c5dacc8e9"
          }
        },
        "c83255666cd7447e8278168cd17f4f45": {
          "model_module": "@jupyter-widgets/controls",
          "model_name": "HTMLModel",
          "model_module_version": "1.5.0",
          "state": {
            "_dom_classes": [],
            "_model_module": "@jupyter-widgets/controls",
            "_model_module_version": "1.5.0",
            "_model_name": "HTMLModel",
            "_view_count": null,
            "_view_module": "@jupyter-widgets/controls",
            "_view_module_version": "1.5.0",
            "_view_name": "HTMLView",
            "description": "",
            "description_tooltip": null,
            "layout": "IPY_MODEL_4b4c1a6f32d54a85ae3f524642e4bc1f",
            "placeholder": "​",
            "style": "IPY_MODEL_5ea03a60878242fa90e1c507ca66482f",
            "value": "Generating test split: 100%"
          }
        },
        "38c2be6ea0b24177b2c9a7649a36ab1b": {
          "model_module": "@jupyter-widgets/controls",
          "model_name": "FloatProgressModel",
          "model_module_version": "1.5.0",
          "state": {
            "_dom_classes": [],
            "_model_module": "@jupyter-widgets/controls",
            "_model_module_version": "1.5.0",
            "_model_name": "FloatProgressModel",
            "_view_count": null,
            "_view_module": "@jupyter-widgets/controls",
            "_view_module_version": "1.5.0",
            "_view_name": "ProgressView",
            "bar_style": "success",
            "description": "",
            "description_tooltip": null,
            "layout": "IPY_MODEL_c2d947fe73cf40dea4e4d98efa5b63c3",
            "max": 25000,
            "min": 0,
            "orientation": "horizontal",
            "style": "IPY_MODEL_9d2f60d670d54f658b53bf3ee3ac7637",
            "value": 25000
          }
        },
        "d555b73714e946598c232b33b888a61b": {
          "model_module": "@jupyter-widgets/controls",
          "model_name": "HTMLModel",
          "model_module_version": "1.5.0",
          "state": {
            "_dom_classes": [],
            "_model_module": "@jupyter-widgets/controls",
            "_model_module_version": "1.5.0",
            "_model_name": "HTMLModel",
            "_view_count": null,
            "_view_module": "@jupyter-widgets/controls",
            "_view_module_version": "1.5.0",
            "_view_name": "HTMLView",
            "description": "",
            "description_tooltip": null,
            "layout": "IPY_MODEL_91459853c80647eda777cc9c349aee02",
            "placeholder": "​",
            "style": "IPY_MODEL_b68edf2d428c48ad8675583c2b529c9c",
            "value": " 25000/25000 [00:07&lt;00:00, 9974.06 examples/s]"
          }
        },
        "2f6aff721fb4455990cd974c5dacc8e9": {
          "model_module": "@jupyter-widgets/base",
          "model_name": "LayoutModel",
          "model_module_version": "1.2.0",
          "state": {
            "_model_module": "@jupyter-widgets/base",
            "_model_module_version": "1.2.0",
            "_model_name": "LayoutModel",
            "_view_count": null,
            "_view_module": "@jupyter-widgets/base",
            "_view_module_version": "1.2.0",
            "_view_name": "LayoutView",
            "align_content": null,
            "align_items": null,
            "align_self": null,
            "border": null,
            "bottom": null,
            "display": null,
            "flex": null,
            "flex_flow": null,
            "grid_area": null,
            "grid_auto_columns": null,
            "grid_auto_flow": null,
            "grid_auto_rows": null,
            "grid_column": null,
            "grid_gap": null,
            "grid_row": null,
            "grid_template_areas": null,
            "grid_template_columns": null,
            "grid_template_rows": null,
            "height": null,
            "justify_content": null,
            "justify_items": null,
            "left": null,
            "margin": null,
            "max_height": null,
            "max_width": null,
            "min_height": null,
            "min_width": null,
            "object_fit": null,
            "object_position": null,
            "order": null,
            "overflow": null,
            "overflow_x": null,
            "overflow_y": null,
            "padding": null,
            "right": null,
            "top": null,
            "visibility": null,
            "width": null
          }
        },
        "4b4c1a6f32d54a85ae3f524642e4bc1f": {
          "model_module": "@jupyter-widgets/base",
          "model_name": "LayoutModel",
          "model_module_version": "1.2.0",
          "state": {
            "_model_module": "@jupyter-widgets/base",
            "_model_module_version": "1.2.0",
            "_model_name": "LayoutModel",
            "_view_count": null,
            "_view_module": "@jupyter-widgets/base",
            "_view_module_version": "1.2.0",
            "_view_name": "LayoutView",
            "align_content": null,
            "align_items": null,
            "align_self": null,
            "border": null,
            "bottom": null,
            "display": null,
            "flex": null,
            "flex_flow": null,
            "grid_area": null,
            "grid_auto_columns": null,
            "grid_auto_flow": null,
            "grid_auto_rows": null,
            "grid_column": null,
            "grid_gap": null,
            "grid_row": null,
            "grid_template_areas": null,
            "grid_template_columns": null,
            "grid_template_rows": null,
            "height": null,
            "justify_content": null,
            "justify_items": null,
            "left": null,
            "margin": null,
            "max_height": null,
            "max_width": null,
            "min_height": null,
            "min_width": null,
            "object_fit": null,
            "object_position": null,
            "order": null,
            "overflow": null,
            "overflow_x": null,
            "overflow_y": null,
            "padding": null,
            "right": null,
            "top": null,
            "visibility": null,
            "width": null
          }
        },
        "5ea03a60878242fa90e1c507ca66482f": {
          "model_module": "@jupyter-widgets/controls",
          "model_name": "DescriptionStyleModel",
          "model_module_version": "1.5.0",
          "state": {
            "_model_module": "@jupyter-widgets/controls",
            "_model_module_version": "1.5.0",
            "_model_name": "DescriptionStyleModel",
            "_view_count": null,
            "_view_module": "@jupyter-widgets/base",
            "_view_module_version": "1.2.0",
            "_view_name": "StyleView",
            "description_width": ""
          }
        },
        "c2d947fe73cf40dea4e4d98efa5b63c3": {
          "model_module": "@jupyter-widgets/base",
          "model_name": "LayoutModel",
          "model_module_version": "1.2.0",
          "state": {
            "_model_module": "@jupyter-widgets/base",
            "_model_module_version": "1.2.0",
            "_model_name": "LayoutModel",
            "_view_count": null,
            "_view_module": "@jupyter-widgets/base",
            "_view_module_version": "1.2.0",
            "_view_name": "LayoutView",
            "align_content": null,
            "align_items": null,
            "align_self": null,
            "border": null,
            "bottom": null,
            "display": null,
            "flex": null,
            "flex_flow": null,
            "grid_area": null,
            "grid_auto_columns": null,
            "grid_auto_flow": null,
            "grid_auto_rows": null,
            "grid_column": null,
            "grid_gap": null,
            "grid_row": null,
            "grid_template_areas": null,
            "grid_template_columns": null,
            "grid_template_rows": null,
            "height": null,
            "justify_content": null,
            "justify_items": null,
            "left": null,
            "margin": null,
            "max_height": null,
            "max_width": null,
            "min_height": null,
            "min_width": null,
            "object_fit": null,
            "object_position": null,
            "order": null,
            "overflow": null,
            "overflow_x": null,
            "overflow_y": null,
            "padding": null,
            "right": null,
            "top": null,
            "visibility": null,
            "width": null
          }
        },
        "9d2f60d670d54f658b53bf3ee3ac7637": {
          "model_module": "@jupyter-widgets/controls",
          "model_name": "ProgressStyleModel",
          "model_module_version": "1.5.0",
          "state": {
            "_model_module": "@jupyter-widgets/controls",
            "_model_module_version": "1.5.0",
            "_model_name": "ProgressStyleModel",
            "_view_count": null,
            "_view_module": "@jupyter-widgets/base",
            "_view_module_version": "1.2.0",
            "_view_name": "StyleView",
            "bar_color": null,
            "description_width": ""
          }
        },
        "91459853c80647eda777cc9c349aee02": {
          "model_module": "@jupyter-widgets/base",
          "model_name": "LayoutModel",
          "model_module_version": "1.2.0",
          "state": {
            "_model_module": "@jupyter-widgets/base",
            "_model_module_version": "1.2.0",
            "_model_name": "LayoutModel",
            "_view_count": null,
            "_view_module": "@jupyter-widgets/base",
            "_view_module_version": "1.2.0",
            "_view_name": "LayoutView",
            "align_content": null,
            "align_items": null,
            "align_self": null,
            "border": null,
            "bottom": null,
            "display": null,
            "flex": null,
            "flex_flow": null,
            "grid_area": null,
            "grid_auto_columns": null,
            "grid_auto_flow": null,
            "grid_auto_rows": null,
            "grid_column": null,
            "grid_gap": null,
            "grid_row": null,
            "grid_template_areas": null,
            "grid_template_columns": null,
            "grid_template_rows": null,
            "height": null,
            "justify_content": null,
            "justify_items": null,
            "left": null,
            "margin": null,
            "max_height": null,
            "max_width": null,
            "min_height": null,
            "min_width": null,
            "object_fit": null,
            "object_position": null,
            "order": null,
            "overflow": null,
            "overflow_x": null,
            "overflow_y": null,
            "padding": null,
            "right": null,
            "top": null,
            "visibility": null,
            "width": null
          }
        },
        "b68edf2d428c48ad8675583c2b529c9c": {
          "model_module": "@jupyter-widgets/controls",
          "model_name": "DescriptionStyleModel",
          "model_module_version": "1.5.0",
          "state": {
            "_model_module": "@jupyter-widgets/controls",
            "_model_module_version": "1.5.0",
            "_model_name": "DescriptionStyleModel",
            "_view_count": null,
            "_view_module": "@jupyter-widgets/base",
            "_view_module_version": "1.2.0",
            "_view_name": "StyleView",
            "description_width": ""
          }
        },
        "02f3d5f477f948c697013698629cf6d7": {
          "model_module": "@jupyter-widgets/controls",
          "model_name": "HBoxModel",
          "model_module_version": "1.5.0",
          "state": {
            "_dom_classes": [],
            "_model_module": "@jupyter-widgets/controls",
            "_model_module_version": "1.5.0",
            "_model_name": "HBoxModel",
            "_view_count": null,
            "_view_module": "@jupyter-widgets/controls",
            "_view_module_version": "1.5.0",
            "_view_name": "HBoxView",
            "box_style": "",
            "children": [
              "IPY_MODEL_ad2d6e9fda814aecb7c4c7ffe2725d5d",
              "IPY_MODEL_255fa85c534c4b7f886b3e554992c9c2",
              "IPY_MODEL_5210e8594f394aa68a5e6078efdb251a"
            ],
            "layout": "IPY_MODEL_5b99176dca70441caa22521ced621edf"
          }
        },
        "ad2d6e9fda814aecb7c4c7ffe2725d5d": {
          "model_module": "@jupyter-widgets/controls",
          "model_name": "HTMLModel",
          "model_module_version": "1.5.0",
          "state": {
            "_dom_classes": [],
            "_model_module": "@jupyter-widgets/controls",
            "_model_module_version": "1.5.0",
            "_model_name": "HTMLModel",
            "_view_count": null,
            "_view_module": "@jupyter-widgets/controls",
            "_view_module_version": "1.5.0",
            "_view_name": "HTMLView",
            "description": "",
            "description_tooltip": null,
            "layout": "IPY_MODEL_ddf79870eccb48dd9459545a7df44a99",
            "placeholder": "​",
            "style": "IPY_MODEL_2c9804eb53c746e2bc87b2308199da75",
            "value": "Generating unsupervised split: 100%"
          }
        },
        "255fa85c534c4b7f886b3e554992c9c2": {
          "model_module": "@jupyter-widgets/controls",
          "model_name": "FloatProgressModel",
          "model_module_version": "1.5.0",
          "state": {
            "_dom_classes": [],
            "_model_module": "@jupyter-widgets/controls",
            "_model_module_version": "1.5.0",
            "_model_name": "FloatProgressModel",
            "_view_count": null,
            "_view_module": "@jupyter-widgets/controls",
            "_view_module_version": "1.5.0",
            "_view_name": "ProgressView",
            "bar_style": "success",
            "description": "",
            "description_tooltip": null,
            "layout": "IPY_MODEL_1e9004cfe56b4f2d9ac81d856f82893c",
            "max": 50000,
            "min": 0,
            "orientation": "horizontal",
            "style": "IPY_MODEL_551506b9f25244a8a598087cd5122aca",
            "value": 50000
          }
        },
        "5210e8594f394aa68a5e6078efdb251a": {
          "model_module": "@jupyter-widgets/controls",
          "model_name": "HTMLModel",
          "model_module_version": "1.5.0",
          "state": {
            "_dom_classes": [],
            "_model_module": "@jupyter-widgets/controls",
            "_model_module_version": "1.5.0",
            "_model_name": "HTMLModel",
            "_view_count": null,
            "_view_module": "@jupyter-widgets/controls",
            "_view_module_version": "1.5.0",
            "_view_name": "HTMLView",
            "description": "",
            "description_tooltip": null,
            "layout": "IPY_MODEL_9903fdfc3e29442f896bce94e765f064",
            "placeholder": "​",
            "style": "IPY_MODEL_7a90291c17a748ccb598d088f6d983e2",
            "value": " 50000/50000 [00:09&lt;00:00, 8607.05 examples/s]"
          }
        },
        "5b99176dca70441caa22521ced621edf": {
          "model_module": "@jupyter-widgets/base",
          "model_name": "LayoutModel",
          "model_module_version": "1.2.0",
          "state": {
            "_model_module": "@jupyter-widgets/base",
            "_model_module_version": "1.2.0",
            "_model_name": "LayoutModel",
            "_view_count": null,
            "_view_module": "@jupyter-widgets/base",
            "_view_module_version": "1.2.0",
            "_view_name": "LayoutView",
            "align_content": null,
            "align_items": null,
            "align_self": null,
            "border": null,
            "bottom": null,
            "display": null,
            "flex": null,
            "flex_flow": null,
            "grid_area": null,
            "grid_auto_columns": null,
            "grid_auto_flow": null,
            "grid_auto_rows": null,
            "grid_column": null,
            "grid_gap": null,
            "grid_row": null,
            "grid_template_areas": null,
            "grid_template_columns": null,
            "grid_template_rows": null,
            "height": null,
            "justify_content": null,
            "justify_items": null,
            "left": null,
            "margin": null,
            "max_height": null,
            "max_width": null,
            "min_height": null,
            "min_width": null,
            "object_fit": null,
            "object_position": null,
            "order": null,
            "overflow": null,
            "overflow_x": null,
            "overflow_y": null,
            "padding": null,
            "right": null,
            "top": null,
            "visibility": null,
            "width": null
          }
        },
        "ddf79870eccb48dd9459545a7df44a99": {
          "model_module": "@jupyter-widgets/base",
          "model_name": "LayoutModel",
          "model_module_version": "1.2.0",
          "state": {
            "_model_module": "@jupyter-widgets/base",
            "_model_module_version": "1.2.0",
            "_model_name": "LayoutModel",
            "_view_count": null,
            "_view_module": "@jupyter-widgets/base",
            "_view_module_version": "1.2.0",
            "_view_name": "LayoutView",
            "align_content": null,
            "align_items": null,
            "align_self": null,
            "border": null,
            "bottom": null,
            "display": null,
            "flex": null,
            "flex_flow": null,
            "grid_area": null,
            "grid_auto_columns": null,
            "grid_auto_flow": null,
            "grid_auto_rows": null,
            "grid_column": null,
            "grid_gap": null,
            "grid_row": null,
            "grid_template_areas": null,
            "grid_template_columns": null,
            "grid_template_rows": null,
            "height": null,
            "justify_content": null,
            "justify_items": null,
            "left": null,
            "margin": null,
            "max_height": null,
            "max_width": null,
            "min_height": null,
            "min_width": null,
            "object_fit": null,
            "object_position": null,
            "order": null,
            "overflow": null,
            "overflow_x": null,
            "overflow_y": null,
            "padding": null,
            "right": null,
            "top": null,
            "visibility": null,
            "width": null
          }
        },
        "2c9804eb53c746e2bc87b2308199da75": {
          "model_module": "@jupyter-widgets/controls",
          "model_name": "DescriptionStyleModel",
          "model_module_version": "1.5.0",
          "state": {
            "_model_module": "@jupyter-widgets/controls",
            "_model_module_version": "1.5.0",
            "_model_name": "DescriptionStyleModel",
            "_view_count": null,
            "_view_module": "@jupyter-widgets/base",
            "_view_module_version": "1.2.0",
            "_view_name": "StyleView",
            "description_width": ""
          }
        },
        "1e9004cfe56b4f2d9ac81d856f82893c": {
          "model_module": "@jupyter-widgets/base",
          "model_name": "LayoutModel",
          "model_module_version": "1.2.0",
          "state": {
            "_model_module": "@jupyter-widgets/base",
            "_model_module_version": "1.2.0",
            "_model_name": "LayoutModel",
            "_view_count": null,
            "_view_module": "@jupyter-widgets/base",
            "_view_module_version": "1.2.0",
            "_view_name": "LayoutView",
            "align_content": null,
            "align_items": null,
            "align_self": null,
            "border": null,
            "bottom": null,
            "display": null,
            "flex": null,
            "flex_flow": null,
            "grid_area": null,
            "grid_auto_columns": null,
            "grid_auto_flow": null,
            "grid_auto_rows": null,
            "grid_column": null,
            "grid_gap": null,
            "grid_row": null,
            "grid_template_areas": null,
            "grid_template_columns": null,
            "grid_template_rows": null,
            "height": null,
            "justify_content": null,
            "justify_items": null,
            "left": null,
            "margin": null,
            "max_height": null,
            "max_width": null,
            "min_height": null,
            "min_width": null,
            "object_fit": null,
            "object_position": null,
            "order": null,
            "overflow": null,
            "overflow_x": null,
            "overflow_y": null,
            "padding": null,
            "right": null,
            "top": null,
            "visibility": null,
            "width": null
          }
        },
        "551506b9f25244a8a598087cd5122aca": {
          "model_module": "@jupyter-widgets/controls",
          "model_name": "ProgressStyleModel",
          "model_module_version": "1.5.0",
          "state": {
            "_model_module": "@jupyter-widgets/controls",
            "_model_module_version": "1.5.0",
            "_model_name": "ProgressStyleModel",
            "_view_count": null,
            "_view_module": "@jupyter-widgets/base",
            "_view_module_version": "1.2.0",
            "_view_name": "StyleView",
            "bar_color": null,
            "description_width": ""
          }
        },
        "9903fdfc3e29442f896bce94e765f064": {
          "model_module": "@jupyter-widgets/base",
          "model_name": "LayoutModel",
          "model_module_version": "1.2.0",
          "state": {
            "_model_module": "@jupyter-widgets/base",
            "_model_module_version": "1.2.0",
            "_model_name": "LayoutModel",
            "_view_count": null,
            "_view_module": "@jupyter-widgets/base",
            "_view_module_version": "1.2.0",
            "_view_name": "LayoutView",
            "align_content": null,
            "align_items": null,
            "align_self": null,
            "border": null,
            "bottom": null,
            "display": null,
            "flex": null,
            "flex_flow": null,
            "grid_area": null,
            "grid_auto_columns": null,
            "grid_auto_flow": null,
            "grid_auto_rows": null,
            "grid_column": null,
            "grid_gap": null,
            "grid_row": null,
            "grid_template_areas": null,
            "grid_template_columns": null,
            "grid_template_rows": null,
            "height": null,
            "justify_content": null,
            "justify_items": null,
            "left": null,
            "margin": null,
            "max_height": null,
            "max_width": null,
            "min_height": null,
            "min_width": null,
            "object_fit": null,
            "object_position": null,
            "order": null,
            "overflow": null,
            "overflow_x": null,
            "overflow_y": null,
            "padding": null,
            "right": null,
            "top": null,
            "visibility": null,
            "width": null
          }
        },
        "7a90291c17a748ccb598d088f6d983e2": {
          "model_module": "@jupyter-widgets/controls",
          "model_name": "DescriptionStyleModel",
          "model_module_version": "1.5.0",
          "state": {
            "_model_module": "@jupyter-widgets/controls",
            "_model_module_version": "1.5.0",
            "_model_name": "DescriptionStyleModel",
            "_view_count": null,
            "_view_module": "@jupyter-widgets/base",
            "_view_module_version": "1.2.0",
            "_view_name": "StyleView",
            "description_width": ""
          }
        },
        "5c6d47b2498049bf990de65443670f79": {
          "model_module": "@jupyter-widgets/controls",
          "model_name": "HBoxModel",
          "model_module_version": "1.5.0",
          "state": {
            "_dom_classes": [],
            "_model_module": "@jupyter-widgets/controls",
            "_model_module_version": "1.5.0",
            "_model_name": "HBoxModel",
            "_view_count": null,
            "_view_module": "@jupyter-widgets/controls",
            "_view_module_version": "1.5.0",
            "_view_name": "HBoxView",
            "box_style": "",
            "children": [
              "IPY_MODEL_30bfde707b1b49978fe05f9466bb9911",
              "IPY_MODEL_d0883a9b4c30406b8f5e9ead21e0ce95",
              "IPY_MODEL_17fec87d1de54135a967becb05d8f97f"
            ],
            "layout": "IPY_MODEL_92135038614b4306a450a598f6f4fe8f"
          }
        },
        "30bfde707b1b49978fe05f9466bb9911": {
          "model_module": "@jupyter-widgets/controls",
          "model_name": "HTMLModel",
          "model_module_version": "1.5.0",
          "state": {
            "_dom_classes": [],
            "_model_module": "@jupyter-widgets/controls",
            "_model_module_version": "1.5.0",
            "_model_name": "HTMLModel",
            "_view_count": null,
            "_view_module": "@jupyter-widgets/controls",
            "_view_module_version": "1.5.0",
            "_view_name": "HTMLView",
            "description": "",
            "description_tooltip": null,
            "layout": "IPY_MODEL_6fc51f16dddf45b7bfa5c38bd7ff9f74",
            "placeholder": "​",
            "style": "IPY_MODEL_bee3bc878d56451e96099550cea159d1",
            "value": "Map: 100%"
          }
        },
        "d0883a9b4c30406b8f5e9ead21e0ce95": {
          "model_module": "@jupyter-widgets/controls",
          "model_name": "FloatProgressModel",
          "model_module_version": "1.5.0",
          "state": {
            "_dom_classes": [],
            "_model_module": "@jupyter-widgets/controls",
            "_model_module_version": "1.5.0",
            "_model_name": "FloatProgressModel",
            "_view_count": null,
            "_view_module": "@jupyter-widgets/controls",
            "_view_module_version": "1.5.0",
            "_view_name": "ProgressView",
            "bar_style": "success",
            "description": "",
            "description_tooltip": null,
            "layout": "IPY_MODEL_928904f079a844b2b6e867a031f65dc3",
            "max": 25000,
            "min": 0,
            "orientation": "horizontal",
            "style": "IPY_MODEL_ff2c21cb0f1f4f74b69ef1fcf2d13370",
            "value": 25000
          }
        },
        "17fec87d1de54135a967becb05d8f97f": {
          "model_module": "@jupyter-widgets/controls",
          "model_name": "HTMLModel",
          "model_module_version": "1.5.0",
          "state": {
            "_dom_classes": [],
            "_model_module": "@jupyter-widgets/controls",
            "_model_module_version": "1.5.0",
            "_model_name": "HTMLModel",
            "_view_count": null,
            "_view_module": "@jupyter-widgets/controls",
            "_view_module_version": "1.5.0",
            "_view_name": "HTMLView",
            "description": "",
            "description_tooltip": null,
            "layout": "IPY_MODEL_43c637f0bcc541e3b3cc3f640b5bf8b7",
            "placeholder": "​",
            "style": "IPY_MODEL_dbca6908b5d64a6aa3c70b19e93e6e90",
            "value": " 25000/25000 [00:05&lt;00:00, 4180.97 examples/s]"
          }
        },
        "92135038614b4306a450a598f6f4fe8f": {
          "model_module": "@jupyter-widgets/base",
          "model_name": "LayoutModel",
          "model_module_version": "1.2.0",
          "state": {
            "_model_module": "@jupyter-widgets/base",
            "_model_module_version": "1.2.0",
            "_model_name": "LayoutModel",
            "_view_count": null,
            "_view_module": "@jupyter-widgets/base",
            "_view_module_version": "1.2.0",
            "_view_name": "LayoutView",
            "align_content": null,
            "align_items": null,
            "align_self": null,
            "border": null,
            "bottom": null,
            "display": null,
            "flex": null,
            "flex_flow": null,
            "grid_area": null,
            "grid_auto_columns": null,
            "grid_auto_flow": null,
            "grid_auto_rows": null,
            "grid_column": null,
            "grid_gap": null,
            "grid_row": null,
            "grid_template_areas": null,
            "grid_template_columns": null,
            "grid_template_rows": null,
            "height": null,
            "justify_content": null,
            "justify_items": null,
            "left": null,
            "margin": null,
            "max_height": null,
            "max_width": null,
            "min_height": null,
            "min_width": null,
            "object_fit": null,
            "object_position": null,
            "order": null,
            "overflow": null,
            "overflow_x": null,
            "overflow_y": null,
            "padding": null,
            "right": null,
            "top": null,
            "visibility": null,
            "width": null
          }
        },
        "6fc51f16dddf45b7bfa5c38bd7ff9f74": {
          "model_module": "@jupyter-widgets/base",
          "model_name": "LayoutModel",
          "model_module_version": "1.2.0",
          "state": {
            "_model_module": "@jupyter-widgets/base",
            "_model_module_version": "1.2.0",
            "_model_name": "LayoutModel",
            "_view_count": null,
            "_view_module": "@jupyter-widgets/base",
            "_view_module_version": "1.2.0",
            "_view_name": "LayoutView",
            "align_content": null,
            "align_items": null,
            "align_self": null,
            "border": null,
            "bottom": null,
            "display": null,
            "flex": null,
            "flex_flow": null,
            "grid_area": null,
            "grid_auto_columns": null,
            "grid_auto_flow": null,
            "grid_auto_rows": null,
            "grid_column": null,
            "grid_gap": null,
            "grid_row": null,
            "grid_template_areas": null,
            "grid_template_columns": null,
            "grid_template_rows": null,
            "height": null,
            "justify_content": null,
            "justify_items": null,
            "left": null,
            "margin": null,
            "max_height": null,
            "max_width": null,
            "min_height": null,
            "min_width": null,
            "object_fit": null,
            "object_position": null,
            "order": null,
            "overflow": null,
            "overflow_x": null,
            "overflow_y": null,
            "padding": null,
            "right": null,
            "top": null,
            "visibility": null,
            "width": null
          }
        },
        "bee3bc878d56451e96099550cea159d1": {
          "model_module": "@jupyter-widgets/controls",
          "model_name": "DescriptionStyleModel",
          "model_module_version": "1.5.0",
          "state": {
            "_model_module": "@jupyter-widgets/controls",
            "_model_module_version": "1.5.0",
            "_model_name": "DescriptionStyleModel",
            "_view_count": null,
            "_view_module": "@jupyter-widgets/base",
            "_view_module_version": "1.2.0",
            "_view_name": "StyleView",
            "description_width": ""
          }
        },
        "928904f079a844b2b6e867a031f65dc3": {
          "model_module": "@jupyter-widgets/base",
          "model_name": "LayoutModel",
          "model_module_version": "1.2.0",
          "state": {
            "_model_module": "@jupyter-widgets/base",
            "_model_module_version": "1.2.0",
            "_model_name": "LayoutModel",
            "_view_count": null,
            "_view_module": "@jupyter-widgets/base",
            "_view_module_version": "1.2.0",
            "_view_name": "LayoutView",
            "align_content": null,
            "align_items": null,
            "align_self": null,
            "border": null,
            "bottom": null,
            "display": null,
            "flex": null,
            "flex_flow": null,
            "grid_area": null,
            "grid_auto_columns": null,
            "grid_auto_flow": null,
            "grid_auto_rows": null,
            "grid_column": null,
            "grid_gap": null,
            "grid_row": null,
            "grid_template_areas": null,
            "grid_template_columns": null,
            "grid_template_rows": null,
            "height": null,
            "justify_content": null,
            "justify_items": null,
            "left": null,
            "margin": null,
            "max_height": null,
            "max_width": null,
            "min_height": null,
            "min_width": null,
            "object_fit": null,
            "object_position": null,
            "order": null,
            "overflow": null,
            "overflow_x": null,
            "overflow_y": null,
            "padding": null,
            "right": null,
            "top": null,
            "visibility": null,
            "width": null
          }
        },
        "ff2c21cb0f1f4f74b69ef1fcf2d13370": {
          "model_module": "@jupyter-widgets/controls",
          "model_name": "ProgressStyleModel",
          "model_module_version": "1.5.0",
          "state": {
            "_model_module": "@jupyter-widgets/controls",
            "_model_module_version": "1.5.0",
            "_model_name": "ProgressStyleModel",
            "_view_count": null,
            "_view_module": "@jupyter-widgets/base",
            "_view_module_version": "1.2.0",
            "_view_name": "StyleView",
            "bar_color": null,
            "description_width": ""
          }
        },
        "43c637f0bcc541e3b3cc3f640b5bf8b7": {
          "model_module": "@jupyter-widgets/base",
          "model_name": "LayoutModel",
          "model_module_version": "1.2.0",
          "state": {
            "_model_module": "@jupyter-widgets/base",
            "_model_module_version": "1.2.0",
            "_model_name": "LayoutModel",
            "_view_count": null,
            "_view_module": "@jupyter-widgets/base",
            "_view_module_version": "1.2.0",
            "_view_name": "LayoutView",
            "align_content": null,
            "align_items": null,
            "align_self": null,
            "border": null,
            "bottom": null,
            "display": null,
            "flex": null,
            "flex_flow": null,
            "grid_area": null,
            "grid_auto_columns": null,
            "grid_auto_flow": null,
            "grid_auto_rows": null,
            "grid_column": null,
            "grid_gap": null,
            "grid_row": null,
            "grid_template_areas": null,
            "grid_template_columns": null,
            "grid_template_rows": null,
            "height": null,
            "justify_content": null,
            "justify_items": null,
            "left": null,
            "margin": null,
            "max_height": null,
            "max_width": null,
            "min_height": null,
            "min_width": null,
            "object_fit": null,
            "object_position": null,
            "order": null,
            "overflow": null,
            "overflow_x": null,
            "overflow_y": null,
            "padding": null,
            "right": null,
            "top": null,
            "visibility": null,
            "width": null
          }
        },
        "dbca6908b5d64a6aa3c70b19e93e6e90": {
          "model_module": "@jupyter-widgets/controls",
          "model_name": "DescriptionStyleModel",
          "model_module_version": "1.5.0",
          "state": {
            "_model_module": "@jupyter-widgets/controls",
            "_model_module_version": "1.5.0",
            "_model_name": "DescriptionStyleModel",
            "_view_count": null,
            "_view_module": "@jupyter-widgets/base",
            "_view_module_version": "1.2.0",
            "_view_name": "StyleView",
            "description_width": ""
          }
        },
        "643cf2d84e974ce3983b37cb1df2d7bd": {
          "model_module": "@jupyter-widgets/controls",
          "model_name": "HBoxModel",
          "model_module_version": "1.5.0",
          "state": {
            "_dom_classes": [],
            "_model_module": "@jupyter-widgets/controls",
            "_model_module_version": "1.5.0",
            "_model_name": "HBoxModel",
            "_view_count": null,
            "_view_module": "@jupyter-widgets/controls",
            "_view_module_version": "1.5.0",
            "_view_name": "HBoxView",
            "box_style": "",
            "children": [
              "IPY_MODEL_61fd9763338a470da9db512d0c54c423",
              "IPY_MODEL_7ed1303f558f414e899962b39652d97f",
              "IPY_MODEL_de6cbb99a91a48d4bd2e630dad48157d"
            ],
            "layout": "IPY_MODEL_970549f055b64774a32d0198619fc63f"
          }
        },
        "61fd9763338a470da9db512d0c54c423": {
          "model_module": "@jupyter-widgets/controls",
          "model_name": "HTMLModel",
          "model_module_version": "1.5.0",
          "state": {
            "_dom_classes": [],
            "_model_module": "@jupyter-widgets/controls",
            "_model_module_version": "1.5.0",
            "_model_name": "HTMLModel",
            "_view_count": null,
            "_view_module": "@jupyter-widgets/controls",
            "_view_module_version": "1.5.0",
            "_view_name": "HTMLView",
            "description": "",
            "description_tooltip": null,
            "layout": "IPY_MODEL_bfbe7787b7254115830ac9c7de401ce0",
            "placeholder": "​",
            "style": "IPY_MODEL_282de1a12d9a440d90879072dd48547a",
            "value": "Map: 100%"
          }
        },
        "7ed1303f558f414e899962b39652d97f": {
          "model_module": "@jupyter-widgets/controls",
          "model_name": "FloatProgressModel",
          "model_module_version": "1.5.0",
          "state": {
            "_dom_classes": [],
            "_model_module": "@jupyter-widgets/controls",
            "_model_module_version": "1.5.0",
            "_model_name": "FloatProgressModel",
            "_view_count": null,
            "_view_module": "@jupyter-widgets/controls",
            "_view_module_version": "1.5.0",
            "_view_name": "ProgressView",
            "bar_style": "success",
            "description": "",
            "description_tooltip": null,
            "layout": "IPY_MODEL_8f450e696d0b49d7879ba60d90c0b9b8",
            "max": 25000,
            "min": 0,
            "orientation": "horizontal",
            "style": "IPY_MODEL_319f273614ff40248110a6a0a8d5170d",
            "value": 25000
          }
        },
        "de6cbb99a91a48d4bd2e630dad48157d": {
          "model_module": "@jupyter-widgets/controls",
          "model_name": "HTMLModel",
          "model_module_version": "1.5.0",
          "state": {
            "_dom_classes": [],
            "_model_module": "@jupyter-widgets/controls",
            "_model_module_version": "1.5.0",
            "_model_name": "HTMLModel",
            "_view_count": null,
            "_view_module": "@jupyter-widgets/controls",
            "_view_module_version": "1.5.0",
            "_view_name": "HTMLView",
            "description": "",
            "description_tooltip": null,
            "layout": "IPY_MODEL_18f49b180c6d484686f0e31950bf58e8",
            "placeholder": "​",
            "style": "IPY_MODEL_eecff7b81cc244f5ba1332932a141433",
            "value": " 25000/25000 [00:08&lt;00:00, 2117.18 examples/s]"
          }
        },
        "970549f055b64774a32d0198619fc63f": {
          "model_module": "@jupyter-widgets/base",
          "model_name": "LayoutModel",
          "model_module_version": "1.2.0",
          "state": {
            "_model_module": "@jupyter-widgets/base",
            "_model_module_version": "1.2.0",
            "_model_name": "LayoutModel",
            "_view_count": null,
            "_view_module": "@jupyter-widgets/base",
            "_view_module_version": "1.2.0",
            "_view_name": "LayoutView",
            "align_content": null,
            "align_items": null,
            "align_self": null,
            "border": null,
            "bottom": null,
            "display": null,
            "flex": null,
            "flex_flow": null,
            "grid_area": null,
            "grid_auto_columns": null,
            "grid_auto_flow": null,
            "grid_auto_rows": null,
            "grid_column": null,
            "grid_gap": null,
            "grid_row": null,
            "grid_template_areas": null,
            "grid_template_columns": null,
            "grid_template_rows": null,
            "height": null,
            "justify_content": null,
            "justify_items": null,
            "left": null,
            "margin": null,
            "max_height": null,
            "max_width": null,
            "min_height": null,
            "min_width": null,
            "object_fit": null,
            "object_position": null,
            "order": null,
            "overflow": null,
            "overflow_x": null,
            "overflow_y": null,
            "padding": null,
            "right": null,
            "top": null,
            "visibility": null,
            "width": null
          }
        },
        "bfbe7787b7254115830ac9c7de401ce0": {
          "model_module": "@jupyter-widgets/base",
          "model_name": "LayoutModel",
          "model_module_version": "1.2.0",
          "state": {
            "_model_module": "@jupyter-widgets/base",
            "_model_module_version": "1.2.0",
            "_model_name": "LayoutModel",
            "_view_count": null,
            "_view_module": "@jupyter-widgets/base",
            "_view_module_version": "1.2.0",
            "_view_name": "LayoutView",
            "align_content": null,
            "align_items": null,
            "align_self": null,
            "border": null,
            "bottom": null,
            "display": null,
            "flex": null,
            "flex_flow": null,
            "grid_area": null,
            "grid_auto_columns": null,
            "grid_auto_flow": null,
            "grid_auto_rows": null,
            "grid_column": null,
            "grid_gap": null,
            "grid_row": null,
            "grid_template_areas": null,
            "grid_template_columns": null,
            "grid_template_rows": null,
            "height": null,
            "justify_content": null,
            "justify_items": null,
            "left": null,
            "margin": null,
            "max_height": null,
            "max_width": null,
            "min_height": null,
            "min_width": null,
            "object_fit": null,
            "object_position": null,
            "order": null,
            "overflow": null,
            "overflow_x": null,
            "overflow_y": null,
            "padding": null,
            "right": null,
            "top": null,
            "visibility": null,
            "width": null
          }
        },
        "282de1a12d9a440d90879072dd48547a": {
          "model_module": "@jupyter-widgets/controls",
          "model_name": "DescriptionStyleModel",
          "model_module_version": "1.5.0",
          "state": {
            "_model_module": "@jupyter-widgets/controls",
            "_model_module_version": "1.5.0",
            "_model_name": "DescriptionStyleModel",
            "_view_count": null,
            "_view_module": "@jupyter-widgets/base",
            "_view_module_version": "1.2.0",
            "_view_name": "StyleView",
            "description_width": ""
          }
        },
        "8f450e696d0b49d7879ba60d90c0b9b8": {
          "model_module": "@jupyter-widgets/base",
          "model_name": "LayoutModel",
          "model_module_version": "1.2.0",
          "state": {
            "_model_module": "@jupyter-widgets/base",
            "_model_module_version": "1.2.0",
            "_model_name": "LayoutModel",
            "_view_count": null,
            "_view_module": "@jupyter-widgets/base",
            "_view_module_version": "1.2.0",
            "_view_name": "LayoutView",
            "align_content": null,
            "align_items": null,
            "align_self": null,
            "border": null,
            "bottom": null,
            "display": null,
            "flex": null,
            "flex_flow": null,
            "grid_area": null,
            "grid_auto_columns": null,
            "grid_auto_flow": null,
            "grid_auto_rows": null,
            "grid_column": null,
            "grid_gap": null,
            "grid_row": null,
            "grid_template_areas": null,
            "grid_template_columns": null,
            "grid_template_rows": null,
            "height": null,
            "justify_content": null,
            "justify_items": null,
            "left": null,
            "margin": null,
            "max_height": null,
            "max_width": null,
            "min_height": null,
            "min_width": null,
            "object_fit": null,
            "object_position": null,
            "order": null,
            "overflow": null,
            "overflow_x": null,
            "overflow_y": null,
            "padding": null,
            "right": null,
            "top": null,
            "visibility": null,
            "width": null
          }
        },
        "319f273614ff40248110a6a0a8d5170d": {
          "model_module": "@jupyter-widgets/controls",
          "model_name": "ProgressStyleModel",
          "model_module_version": "1.5.0",
          "state": {
            "_model_module": "@jupyter-widgets/controls",
            "_model_module_version": "1.5.0",
            "_model_name": "ProgressStyleModel",
            "_view_count": null,
            "_view_module": "@jupyter-widgets/base",
            "_view_module_version": "1.2.0",
            "_view_name": "StyleView",
            "bar_color": null,
            "description_width": ""
          }
        },
        "18f49b180c6d484686f0e31950bf58e8": {
          "model_module": "@jupyter-widgets/base",
          "model_name": "LayoutModel",
          "model_module_version": "1.2.0",
          "state": {
            "_model_module": "@jupyter-widgets/base",
            "_model_module_version": "1.2.0",
            "_model_name": "LayoutModel",
            "_view_count": null,
            "_view_module": "@jupyter-widgets/base",
            "_view_module_version": "1.2.0",
            "_view_name": "LayoutView",
            "align_content": null,
            "align_items": null,
            "align_self": null,
            "border": null,
            "bottom": null,
            "display": null,
            "flex": null,
            "flex_flow": null,
            "grid_area": null,
            "grid_auto_columns": null,
            "grid_auto_flow": null,
            "grid_auto_rows": null,
            "grid_column": null,
            "grid_gap": null,
            "grid_row": null,
            "grid_template_areas": null,
            "grid_template_columns": null,
            "grid_template_rows": null,
            "height": null,
            "justify_content": null,
            "justify_items": null,
            "left": null,
            "margin": null,
            "max_height": null,
            "max_width": null,
            "min_height": null,
            "min_width": null,
            "object_fit": null,
            "object_position": null,
            "order": null,
            "overflow": null,
            "overflow_x": null,
            "overflow_y": null,
            "padding": null,
            "right": null,
            "top": null,
            "visibility": null,
            "width": null
          }
        },
        "eecff7b81cc244f5ba1332932a141433": {
          "model_module": "@jupyter-widgets/controls",
          "model_name": "DescriptionStyleModel",
          "model_module_version": "1.5.0",
          "state": {
            "_model_module": "@jupyter-widgets/controls",
            "_model_module_version": "1.5.0",
            "_model_name": "DescriptionStyleModel",
            "_view_count": null,
            "_view_module": "@jupyter-widgets/base",
            "_view_module_version": "1.2.0",
            "_view_name": "StyleView",
            "description_width": ""
          }
        },
        "47f50c9eeefb4036b97f3f5ec8ad0805": {
          "model_module": "@jupyter-widgets/controls",
          "model_name": "HBoxModel",
          "model_module_version": "1.5.0",
          "state": {
            "_dom_classes": [],
            "_model_module": "@jupyter-widgets/controls",
            "_model_module_version": "1.5.0",
            "_model_name": "HBoxModel",
            "_view_count": null,
            "_view_module": "@jupyter-widgets/controls",
            "_view_module_version": "1.5.0",
            "_view_name": "HBoxView",
            "box_style": "",
            "children": [
              "IPY_MODEL_0d5af47b0c2a45818cfc842346d62be9",
              "IPY_MODEL_72220979ff4e4732886db09df01b7b61",
              "IPY_MODEL_5758ee4dfd3646499be87704576726b0"
            ],
            "layout": "IPY_MODEL_dcd8b44965ad43689241119d3f847154"
          }
        },
        "0d5af47b0c2a45818cfc842346d62be9": {
          "model_module": "@jupyter-widgets/controls",
          "model_name": "HTMLModel",
          "model_module_version": "1.5.0",
          "state": {
            "_dom_classes": [],
            "_model_module": "@jupyter-widgets/controls",
            "_model_module_version": "1.5.0",
            "_model_name": "HTMLModel",
            "_view_count": null,
            "_view_module": "@jupyter-widgets/controls",
            "_view_module_version": "1.5.0",
            "_view_name": "HTMLView",
            "description": "",
            "description_tooltip": null,
            "layout": "IPY_MODEL_b60d5873340c4e0c95a9406f8ca31dab",
            "placeholder": "​",
            "style": "IPY_MODEL_790cc48c57d04d2a81e21aacc1041c41",
            "value": "Map: 100%"
          }
        },
        "72220979ff4e4732886db09df01b7b61": {
          "model_module": "@jupyter-widgets/controls",
          "model_name": "FloatProgressModel",
          "model_module_version": "1.5.0",
          "state": {
            "_dom_classes": [],
            "_model_module": "@jupyter-widgets/controls",
            "_model_module_version": "1.5.0",
            "_model_name": "FloatProgressModel",
            "_view_count": null,
            "_view_module": "@jupyter-widgets/controls",
            "_view_module_version": "1.5.0",
            "_view_name": "ProgressView",
            "bar_style": "success",
            "description": "",
            "description_tooltip": null,
            "layout": "IPY_MODEL_c8f33d9a711c483cbf02c958abc53510",
            "max": 20000,
            "min": 0,
            "orientation": "horizontal",
            "style": "IPY_MODEL_14853ae815a04f9fa52c56fb2b5f0324",
            "value": 20000
          }
        },
        "5758ee4dfd3646499be87704576726b0": {
          "model_module": "@jupyter-widgets/controls",
          "model_name": "HTMLModel",
          "model_module_version": "1.5.0",
          "state": {
            "_dom_classes": [],
            "_model_module": "@jupyter-widgets/controls",
            "_model_module_version": "1.5.0",
            "_model_name": "HTMLModel",
            "_view_count": null,
            "_view_module": "@jupyter-widgets/controls",
            "_view_module_version": "1.5.0",
            "_view_name": "HTMLView",
            "description": "",
            "description_tooltip": null,
            "layout": "IPY_MODEL_06d62e5119dd48e5b9e978412f91c3ce",
            "placeholder": "​",
            "style": "IPY_MODEL_0c6492b242f14c5785a1562ab6703a59",
            "value": " 20000/20000 [00:09&lt;00:00, 1268.43 examples/s]"
          }
        },
        "dcd8b44965ad43689241119d3f847154": {
          "model_module": "@jupyter-widgets/base",
          "model_name": "LayoutModel",
          "model_module_version": "1.2.0",
          "state": {
            "_model_module": "@jupyter-widgets/base",
            "_model_module_version": "1.2.0",
            "_model_name": "LayoutModel",
            "_view_count": null,
            "_view_module": "@jupyter-widgets/base",
            "_view_module_version": "1.2.0",
            "_view_name": "LayoutView",
            "align_content": null,
            "align_items": null,
            "align_self": null,
            "border": null,
            "bottom": null,
            "display": null,
            "flex": null,
            "flex_flow": null,
            "grid_area": null,
            "grid_auto_columns": null,
            "grid_auto_flow": null,
            "grid_auto_rows": null,
            "grid_column": null,
            "grid_gap": null,
            "grid_row": null,
            "grid_template_areas": null,
            "grid_template_columns": null,
            "grid_template_rows": null,
            "height": null,
            "justify_content": null,
            "justify_items": null,
            "left": null,
            "margin": null,
            "max_height": null,
            "max_width": null,
            "min_height": null,
            "min_width": null,
            "object_fit": null,
            "object_position": null,
            "order": null,
            "overflow": null,
            "overflow_x": null,
            "overflow_y": null,
            "padding": null,
            "right": null,
            "top": null,
            "visibility": null,
            "width": null
          }
        },
        "b60d5873340c4e0c95a9406f8ca31dab": {
          "model_module": "@jupyter-widgets/base",
          "model_name": "LayoutModel",
          "model_module_version": "1.2.0",
          "state": {
            "_model_module": "@jupyter-widgets/base",
            "_model_module_version": "1.2.0",
            "_model_name": "LayoutModel",
            "_view_count": null,
            "_view_module": "@jupyter-widgets/base",
            "_view_module_version": "1.2.0",
            "_view_name": "LayoutView",
            "align_content": null,
            "align_items": null,
            "align_self": null,
            "border": null,
            "bottom": null,
            "display": null,
            "flex": null,
            "flex_flow": null,
            "grid_area": null,
            "grid_auto_columns": null,
            "grid_auto_flow": null,
            "grid_auto_rows": null,
            "grid_column": null,
            "grid_gap": null,
            "grid_row": null,
            "grid_template_areas": null,
            "grid_template_columns": null,
            "grid_template_rows": null,
            "height": null,
            "justify_content": null,
            "justify_items": null,
            "left": null,
            "margin": null,
            "max_height": null,
            "max_width": null,
            "min_height": null,
            "min_width": null,
            "object_fit": null,
            "object_position": null,
            "order": null,
            "overflow": null,
            "overflow_x": null,
            "overflow_y": null,
            "padding": null,
            "right": null,
            "top": null,
            "visibility": null,
            "width": null
          }
        },
        "790cc48c57d04d2a81e21aacc1041c41": {
          "model_module": "@jupyter-widgets/controls",
          "model_name": "DescriptionStyleModel",
          "model_module_version": "1.5.0",
          "state": {
            "_model_module": "@jupyter-widgets/controls",
            "_model_module_version": "1.5.0",
            "_model_name": "DescriptionStyleModel",
            "_view_count": null,
            "_view_module": "@jupyter-widgets/base",
            "_view_module_version": "1.2.0",
            "_view_name": "StyleView",
            "description_width": ""
          }
        },
        "c8f33d9a711c483cbf02c958abc53510": {
          "model_module": "@jupyter-widgets/base",
          "model_name": "LayoutModel",
          "model_module_version": "1.2.0",
          "state": {
            "_model_module": "@jupyter-widgets/base",
            "_model_module_version": "1.2.0",
            "_model_name": "LayoutModel",
            "_view_count": null,
            "_view_module": "@jupyter-widgets/base",
            "_view_module_version": "1.2.0",
            "_view_name": "LayoutView",
            "align_content": null,
            "align_items": null,
            "align_self": null,
            "border": null,
            "bottom": null,
            "display": null,
            "flex": null,
            "flex_flow": null,
            "grid_area": null,
            "grid_auto_columns": null,
            "grid_auto_flow": null,
            "grid_auto_rows": null,
            "grid_column": null,
            "grid_gap": null,
            "grid_row": null,
            "grid_template_areas": null,
            "grid_template_columns": null,
            "grid_template_rows": null,
            "height": null,
            "justify_content": null,
            "justify_items": null,
            "left": null,
            "margin": null,
            "max_height": null,
            "max_width": null,
            "min_height": null,
            "min_width": null,
            "object_fit": null,
            "object_position": null,
            "order": null,
            "overflow": null,
            "overflow_x": null,
            "overflow_y": null,
            "padding": null,
            "right": null,
            "top": null,
            "visibility": null,
            "width": null
          }
        },
        "14853ae815a04f9fa52c56fb2b5f0324": {
          "model_module": "@jupyter-widgets/controls",
          "model_name": "ProgressStyleModel",
          "model_module_version": "1.5.0",
          "state": {
            "_model_module": "@jupyter-widgets/controls",
            "_model_module_version": "1.5.0",
            "_model_name": "ProgressStyleModel",
            "_view_count": null,
            "_view_module": "@jupyter-widgets/base",
            "_view_module_version": "1.2.0",
            "_view_name": "StyleView",
            "bar_color": null,
            "description_width": ""
          }
        },
        "06d62e5119dd48e5b9e978412f91c3ce": {
          "model_module": "@jupyter-widgets/base",
          "model_name": "LayoutModel",
          "model_module_version": "1.2.0",
          "state": {
            "_model_module": "@jupyter-widgets/base",
            "_model_module_version": "1.2.0",
            "_model_name": "LayoutModel",
            "_view_count": null,
            "_view_module": "@jupyter-widgets/base",
            "_view_module_version": "1.2.0",
            "_view_name": "LayoutView",
            "align_content": null,
            "align_items": null,
            "align_self": null,
            "border": null,
            "bottom": null,
            "display": null,
            "flex": null,
            "flex_flow": null,
            "grid_area": null,
            "grid_auto_columns": null,
            "grid_auto_flow": null,
            "grid_auto_rows": null,
            "grid_column": null,
            "grid_gap": null,
            "grid_row": null,
            "grid_template_areas": null,
            "grid_template_columns": null,
            "grid_template_rows": null,
            "height": null,
            "justify_content": null,
            "justify_items": null,
            "left": null,
            "margin": null,
            "max_height": null,
            "max_width": null,
            "min_height": null,
            "min_width": null,
            "object_fit": null,
            "object_position": null,
            "order": null,
            "overflow": null,
            "overflow_x": null,
            "overflow_y": null,
            "padding": null,
            "right": null,
            "top": null,
            "visibility": null,
            "width": null
          }
        },
        "0c6492b242f14c5785a1562ab6703a59": {
          "model_module": "@jupyter-widgets/controls",
          "model_name": "DescriptionStyleModel",
          "model_module_version": "1.5.0",
          "state": {
            "_model_module": "@jupyter-widgets/controls",
            "_model_module_version": "1.5.0",
            "_model_name": "DescriptionStyleModel",
            "_view_count": null,
            "_view_module": "@jupyter-widgets/base",
            "_view_module_version": "1.2.0",
            "_view_name": "StyleView",
            "description_width": ""
          }
        },
        "4b7b62f840754751877389a3b7639ab1": {
          "model_module": "@jupyter-widgets/controls",
          "model_name": "HBoxModel",
          "model_module_version": "1.5.0",
          "state": {
            "_dom_classes": [],
            "_model_module": "@jupyter-widgets/controls",
            "_model_module_version": "1.5.0",
            "_model_name": "HBoxModel",
            "_view_count": null,
            "_view_module": "@jupyter-widgets/controls",
            "_view_module_version": "1.5.0",
            "_view_name": "HBoxView",
            "box_style": "",
            "children": [
              "IPY_MODEL_a627b12aa446454ca44877800f75db11",
              "IPY_MODEL_6153190ad9214f30a741b9ba126ce862",
              "IPY_MODEL_57c5c963025b425e91b270e402ca9904"
            ],
            "layout": "IPY_MODEL_449dfe12cd074f8e9dffe58c5d0cec14"
          }
        },
        "a627b12aa446454ca44877800f75db11": {
          "model_module": "@jupyter-widgets/controls",
          "model_name": "HTMLModel",
          "model_module_version": "1.5.0",
          "state": {
            "_dom_classes": [],
            "_model_module": "@jupyter-widgets/controls",
            "_model_module_version": "1.5.0",
            "_model_name": "HTMLModel",
            "_view_count": null,
            "_view_module": "@jupyter-widgets/controls",
            "_view_module_version": "1.5.0",
            "_view_name": "HTMLView",
            "description": "",
            "description_tooltip": null,
            "layout": "IPY_MODEL_e07425785ca04630bb00c2c3878c0858",
            "placeholder": "​",
            "style": "IPY_MODEL_933c51268c5941e4b36f9d7fa31a7a10",
            "value": "Map: 100%"
          }
        },
        "6153190ad9214f30a741b9ba126ce862": {
          "model_module": "@jupyter-widgets/controls",
          "model_name": "FloatProgressModel",
          "model_module_version": "1.5.0",
          "state": {
            "_dom_classes": [],
            "_model_module": "@jupyter-widgets/controls",
            "_model_module_version": "1.5.0",
            "_model_name": "FloatProgressModel",
            "_view_count": null,
            "_view_module": "@jupyter-widgets/controls",
            "_view_module_version": "1.5.0",
            "_view_name": "ProgressView",
            "bar_style": "success",
            "description": "",
            "description_tooltip": null,
            "layout": "IPY_MODEL_f730255d0c944125a41305f968d7935e",
            "max": 5000,
            "min": 0,
            "orientation": "horizontal",
            "style": "IPY_MODEL_c1edb0c0fc804007a248e608191a3701",
            "value": 5000
          }
        },
        "57c5c963025b425e91b270e402ca9904": {
          "model_module": "@jupyter-widgets/controls",
          "model_name": "HTMLModel",
          "model_module_version": "1.5.0",
          "state": {
            "_dom_classes": [],
            "_model_module": "@jupyter-widgets/controls",
            "_model_module_version": "1.5.0",
            "_model_name": "HTMLModel",
            "_view_count": null,
            "_view_module": "@jupyter-widgets/controls",
            "_view_module_version": "1.5.0",
            "_view_name": "HTMLView",
            "description": "",
            "description_tooltip": null,
            "layout": "IPY_MODEL_279b0a5de4b54b74a4a5414067e3955e",
            "placeholder": "​",
            "style": "IPY_MODEL_9e102295893443539209042903f7a4f7",
            "value": " 5000/5000 [00:03&lt;00:00, 2375.33 examples/s]"
          }
        },
        "449dfe12cd074f8e9dffe58c5d0cec14": {
          "model_module": "@jupyter-widgets/base",
          "model_name": "LayoutModel",
          "model_module_version": "1.2.0",
          "state": {
            "_model_module": "@jupyter-widgets/base",
            "_model_module_version": "1.2.0",
            "_model_name": "LayoutModel",
            "_view_count": null,
            "_view_module": "@jupyter-widgets/base",
            "_view_module_version": "1.2.0",
            "_view_name": "LayoutView",
            "align_content": null,
            "align_items": null,
            "align_self": null,
            "border": null,
            "bottom": null,
            "display": null,
            "flex": null,
            "flex_flow": null,
            "grid_area": null,
            "grid_auto_columns": null,
            "grid_auto_flow": null,
            "grid_auto_rows": null,
            "grid_column": null,
            "grid_gap": null,
            "grid_row": null,
            "grid_template_areas": null,
            "grid_template_columns": null,
            "grid_template_rows": null,
            "height": null,
            "justify_content": null,
            "justify_items": null,
            "left": null,
            "margin": null,
            "max_height": null,
            "max_width": null,
            "min_height": null,
            "min_width": null,
            "object_fit": null,
            "object_position": null,
            "order": null,
            "overflow": null,
            "overflow_x": null,
            "overflow_y": null,
            "padding": null,
            "right": null,
            "top": null,
            "visibility": null,
            "width": null
          }
        },
        "e07425785ca04630bb00c2c3878c0858": {
          "model_module": "@jupyter-widgets/base",
          "model_name": "LayoutModel",
          "model_module_version": "1.2.0",
          "state": {
            "_model_module": "@jupyter-widgets/base",
            "_model_module_version": "1.2.0",
            "_model_name": "LayoutModel",
            "_view_count": null,
            "_view_module": "@jupyter-widgets/base",
            "_view_module_version": "1.2.0",
            "_view_name": "LayoutView",
            "align_content": null,
            "align_items": null,
            "align_self": null,
            "border": null,
            "bottom": null,
            "display": null,
            "flex": null,
            "flex_flow": null,
            "grid_area": null,
            "grid_auto_columns": null,
            "grid_auto_flow": null,
            "grid_auto_rows": null,
            "grid_column": null,
            "grid_gap": null,
            "grid_row": null,
            "grid_template_areas": null,
            "grid_template_columns": null,
            "grid_template_rows": null,
            "height": null,
            "justify_content": null,
            "justify_items": null,
            "left": null,
            "margin": null,
            "max_height": null,
            "max_width": null,
            "min_height": null,
            "min_width": null,
            "object_fit": null,
            "object_position": null,
            "order": null,
            "overflow": null,
            "overflow_x": null,
            "overflow_y": null,
            "padding": null,
            "right": null,
            "top": null,
            "visibility": null,
            "width": null
          }
        },
        "933c51268c5941e4b36f9d7fa31a7a10": {
          "model_module": "@jupyter-widgets/controls",
          "model_name": "DescriptionStyleModel",
          "model_module_version": "1.5.0",
          "state": {
            "_model_module": "@jupyter-widgets/controls",
            "_model_module_version": "1.5.0",
            "_model_name": "DescriptionStyleModel",
            "_view_count": null,
            "_view_module": "@jupyter-widgets/base",
            "_view_module_version": "1.2.0",
            "_view_name": "StyleView",
            "description_width": ""
          }
        },
        "f730255d0c944125a41305f968d7935e": {
          "model_module": "@jupyter-widgets/base",
          "model_name": "LayoutModel",
          "model_module_version": "1.2.0",
          "state": {
            "_model_module": "@jupyter-widgets/base",
            "_model_module_version": "1.2.0",
            "_model_name": "LayoutModel",
            "_view_count": null,
            "_view_module": "@jupyter-widgets/base",
            "_view_module_version": "1.2.0",
            "_view_name": "LayoutView",
            "align_content": null,
            "align_items": null,
            "align_self": null,
            "border": null,
            "bottom": null,
            "display": null,
            "flex": null,
            "flex_flow": null,
            "grid_area": null,
            "grid_auto_columns": null,
            "grid_auto_flow": null,
            "grid_auto_rows": null,
            "grid_column": null,
            "grid_gap": null,
            "grid_row": null,
            "grid_template_areas": null,
            "grid_template_columns": null,
            "grid_template_rows": null,
            "height": null,
            "justify_content": null,
            "justify_items": null,
            "left": null,
            "margin": null,
            "max_height": null,
            "max_width": null,
            "min_height": null,
            "min_width": null,
            "object_fit": null,
            "object_position": null,
            "order": null,
            "overflow": null,
            "overflow_x": null,
            "overflow_y": null,
            "padding": null,
            "right": null,
            "top": null,
            "visibility": null,
            "width": null
          }
        },
        "c1edb0c0fc804007a248e608191a3701": {
          "model_module": "@jupyter-widgets/controls",
          "model_name": "ProgressStyleModel",
          "model_module_version": "1.5.0",
          "state": {
            "_model_module": "@jupyter-widgets/controls",
            "_model_module_version": "1.5.0",
            "_model_name": "ProgressStyleModel",
            "_view_count": null,
            "_view_module": "@jupyter-widgets/base",
            "_view_module_version": "1.2.0",
            "_view_name": "StyleView",
            "bar_color": null,
            "description_width": ""
          }
        },
        "279b0a5de4b54b74a4a5414067e3955e": {
          "model_module": "@jupyter-widgets/base",
          "model_name": "LayoutModel",
          "model_module_version": "1.2.0",
          "state": {
            "_model_module": "@jupyter-widgets/base",
            "_model_module_version": "1.2.0",
            "_model_name": "LayoutModel",
            "_view_count": null,
            "_view_module": "@jupyter-widgets/base",
            "_view_module_version": "1.2.0",
            "_view_name": "LayoutView",
            "align_content": null,
            "align_items": null,
            "align_self": null,
            "border": null,
            "bottom": null,
            "display": null,
            "flex": null,
            "flex_flow": null,
            "grid_area": null,
            "grid_auto_columns": null,
            "grid_auto_flow": null,
            "grid_auto_rows": null,
            "grid_column": null,
            "grid_gap": null,
            "grid_row": null,
            "grid_template_areas": null,
            "grid_template_columns": null,
            "grid_template_rows": null,
            "height": null,
            "justify_content": null,
            "justify_items": null,
            "left": null,
            "margin": null,
            "max_height": null,
            "max_width": null,
            "min_height": null,
            "min_width": null,
            "object_fit": null,
            "object_position": null,
            "order": null,
            "overflow": null,
            "overflow_x": null,
            "overflow_y": null,
            "padding": null,
            "right": null,
            "top": null,
            "visibility": null,
            "width": null
          }
        },
        "9e102295893443539209042903f7a4f7": {
          "model_module": "@jupyter-widgets/controls",
          "model_name": "DescriptionStyleModel",
          "model_module_version": "1.5.0",
          "state": {
            "_model_module": "@jupyter-widgets/controls",
            "_model_module_version": "1.5.0",
            "_model_name": "DescriptionStyleModel",
            "_view_count": null,
            "_view_module": "@jupyter-widgets/base",
            "_view_module_version": "1.2.0",
            "_view_name": "StyleView",
            "description_width": ""
          }
        },
        "e95bcfef09154769b18ae34f2c19d112": {
          "model_module": "@jupyter-widgets/controls",
          "model_name": "HBoxModel",
          "model_module_version": "1.5.0",
          "state": {
            "_dom_classes": [],
            "_model_module": "@jupyter-widgets/controls",
            "_model_module_version": "1.5.0",
            "_model_name": "HBoxModel",
            "_view_count": null,
            "_view_module": "@jupyter-widgets/controls",
            "_view_module_version": "1.5.0",
            "_view_name": "HBoxView",
            "box_style": "",
            "children": [
              "IPY_MODEL_978f363e134d46fa8ad15b1c15bdf04a",
              "IPY_MODEL_ca1e1d0917f24e9383787aa53e95727f",
              "IPY_MODEL_8948e14be69d4d18ad5b7dc10846fa0e"
            ],
            "layout": "IPY_MODEL_3548965db1ad4bed896258218de8d06c"
          }
        },
        "978f363e134d46fa8ad15b1c15bdf04a": {
          "model_module": "@jupyter-widgets/controls",
          "model_name": "HTMLModel",
          "model_module_version": "1.5.0",
          "state": {
            "_dom_classes": [],
            "_model_module": "@jupyter-widgets/controls",
            "_model_module_version": "1.5.0",
            "_model_name": "HTMLModel",
            "_view_count": null,
            "_view_module": "@jupyter-widgets/controls",
            "_view_module_version": "1.5.0",
            "_view_name": "HTMLView",
            "description": "",
            "description_tooltip": null,
            "layout": "IPY_MODEL_3732a50da1624972bd5de0703efb9a91",
            "placeholder": "​",
            "style": "IPY_MODEL_9e47e390a2424e37a9d2f244521d1869",
            "value": "Map: 100%"
          }
        },
        "ca1e1d0917f24e9383787aa53e95727f": {
          "model_module": "@jupyter-widgets/controls",
          "model_name": "FloatProgressModel",
          "model_module_version": "1.5.0",
          "state": {
            "_dom_classes": [],
            "_model_module": "@jupyter-widgets/controls",
            "_model_module_version": "1.5.0",
            "_model_name": "FloatProgressModel",
            "_view_count": null,
            "_view_module": "@jupyter-widgets/controls",
            "_view_module_version": "1.5.0",
            "_view_name": "ProgressView",
            "bar_style": "success",
            "description": "",
            "description_tooltip": null,
            "layout": "IPY_MODEL_9c88eb25f81a4e7db9aed48032ccefd7",
            "max": 25000,
            "min": 0,
            "orientation": "horizontal",
            "style": "IPY_MODEL_5cf4c3fceb0540bebdcc64aecdf23a8d",
            "value": 25000
          }
        },
        "8948e14be69d4d18ad5b7dc10846fa0e": {
          "model_module": "@jupyter-widgets/controls",
          "model_name": "HTMLModel",
          "model_module_version": "1.5.0",
          "state": {
            "_dom_classes": [],
            "_model_module": "@jupyter-widgets/controls",
            "_model_module_version": "1.5.0",
            "_model_name": "HTMLModel",
            "_view_count": null,
            "_view_module": "@jupyter-widgets/controls",
            "_view_module_version": "1.5.0",
            "_view_name": "HTMLView",
            "description": "",
            "description_tooltip": null,
            "layout": "IPY_MODEL_1d025c22d1914973b9aca64c539f458f",
            "placeholder": "​",
            "style": "IPY_MODEL_0248e99662e5411cb8de30ce7f92bbba",
            "value": " 25000/25000 [00:11&lt;00:00, 2411.34 examples/s]"
          }
        },
        "3548965db1ad4bed896258218de8d06c": {
          "model_module": "@jupyter-widgets/base",
          "model_name": "LayoutModel",
          "model_module_version": "1.2.0",
          "state": {
            "_model_module": "@jupyter-widgets/base",
            "_model_module_version": "1.2.0",
            "_model_name": "LayoutModel",
            "_view_count": null,
            "_view_module": "@jupyter-widgets/base",
            "_view_module_version": "1.2.0",
            "_view_name": "LayoutView",
            "align_content": null,
            "align_items": null,
            "align_self": null,
            "border": null,
            "bottom": null,
            "display": null,
            "flex": null,
            "flex_flow": null,
            "grid_area": null,
            "grid_auto_columns": null,
            "grid_auto_flow": null,
            "grid_auto_rows": null,
            "grid_column": null,
            "grid_gap": null,
            "grid_row": null,
            "grid_template_areas": null,
            "grid_template_columns": null,
            "grid_template_rows": null,
            "height": null,
            "justify_content": null,
            "justify_items": null,
            "left": null,
            "margin": null,
            "max_height": null,
            "max_width": null,
            "min_height": null,
            "min_width": null,
            "object_fit": null,
            "object_position": null,
            "order": null,
            "overflow": null,
            "overflow_x": null,
            "overflow_y": null,
            "padding": null,
            "right": null,
            "top": null,
            "visibility": null,
            "width": null
          }
        },
        "3732a50da1624972bd5de0703efb9a91": {
          "model_module": "@jupyter-widgets/base",
          "model_name": "LayoutModel",
          "model_module_version": "1.2.0",
          "state": {
            "_model_module": "@jupyter-widgets/base",
            "_model_module_version": "1.2.0",
            "_model_name": "LayoutModel",
            "_view_count": null,
            "_view_module": "@jupyter-widgets/base",
            "_view_module_version": "1.2.0",
            "_view_name": "LayoutView",
            "align_content": null,
            "align_items": null,
            "align_self": null,
            "border": null,
            "bottom": null,
            "display": null,
            "flex": null,
            "flex_flow": null,
            "grid_area": null,
            "grid_auto_columns": null,
            "grid_auto_flow": null,
            "grid_auto_rows": null,
            "grid_column": null,
            "grid_gap": null,
            "grid_row": null,
            "grid_template_areas": null,
            "grid_template_columns": null,
            "grid_template_rows": null,
            "height": null,
            "justify_content": null,
            "justify_items": null,
            "left": null,
            "margin": null,
            "max_height": null,
            "max_width": null,
            "min_height": null,
            "min_width": null,
            "object_fit": null,
            "object_position": null,
            "order": null,
            "overflow": null,
            "overflow_x": null,
            "overflow_y": null,
            "padding": null,
            "right": null,
            "top": null,
            "visibility": null,
            "width": null
          }
        },
        "9e47e390a2424e37a9d2f244521d1869": {
          "model_module": "@jupyter-widgets/controls",
          "model_name": "DescriptionStyleModel",
          "model_module_version": "1.5.0",
          "state": {
            "_model_module": "@jupyter-widgets/controls",
            "_model_module_version": "1.5.0",
            "_model_name": "DescriptionStyleModel",
            "_view_count": null,
            "_view_module": "@jupyter-widgets/base",
            "_view_module_version": "1.2.0",
            "_view_name": "StyleView",
            "description_width": ""
          }
        },
        "9c88eb25f81a4e7db9aed48032ccefd7": {
          "model_module": "@jupyter-widgets/base",
          "model_name": "LayoutModel",
          "model_module_version": "1.2.0",
          "state": {
            "_model_module": "@jupyter-widgets/base",
            "_model_module_version": "1.2.0",
            "_model_name": "LayoutModel",
            "_view_count": null,
            "_view_module": "@jupyter-widgets/base",
            "_view_module_version": "1.2.0",
            "_view_name": "LayoutView",
            "align_content": null,
            "align_items": null,
            "align_self": null,
            "border": null,
            "bottom": null,
            "display": null,
            "flex": null,
            "flex_flow": null,
            "grid_area": null,
            "grid_auto_columns": null,
            "grid_auto_flow": null,
            "grid_auto_rows": null,
            "grid_column": null,
            "grid_gap": null,
            "grid_row": null,
            "grid_template_areas": null,
            "grid_template_columns": null,
            "grid_template_rows": null,
            "height": null,
            "justify_content": null,
            "justify_items": null,
            "left": null,
            "margin": null,
            "max_height": null,
            "max_width": null,
            "min_height": null,
            "min_width": null,
            "object_fit": null,
            "object_position": null,
            "order": null,
            "overflow": null,
            "overflow_x": null,
            "overflow_y": null,
            "padding": null,
            "right": null,
            "top": null,
            "visibility": null,
            "width": null
          }
        },
        "5cf4c3fceb0540bebdcc64aecdf23a8d": {
          "model_module": "@jupyter-widgets/controls",
          "model_name": "ProgressStyleModel",
          "model_module_version": "1.5.0",
          "state": {
            "_model_module": "@jupyter-widgets/controls",
            "_model_module_version": "1.5.0",
            "_model_name": "ProgressStyleModel",
            "_view_count": null,
            "_view_module": "@jupyter-widgets/base",
            "_view_module_version": "1.2.0",
            "_view_name": "StyleView",
            "bar_color": null,
            "description_width": ""
          }
        },
        "1d025c22d1914973b9aca64c539f458f": {
          "model_module": "@jupyter-widgets/base",
          "model_name": "LayoutModel",
          "model_module_version": "1.2.0",
          "state": {
            "_model_module": "@jupyter-widgets/base",
            "_model_module_version": "1.2.0",
            "_model_name": "LayoutModel",
            "_view_count": null,
            "_view_module": "@jupyter-widgets/base",
            "_view_module_version": "1.2.0",
            "_view_name": "LayoutView",
            "align_content": null,
            "align_items": null,
            "align_self": null,
            "border": null,
            "bottom": null,
            "display": null,
            "flex": null,
            "flex_flow": null,
            "grid_area": null,
            "grid_auto_columns": null,
            "grid_auto_flow": null,
            "grid_auto_rows": null,
            "grid_column": null,
            "grid_gap": null,
            "grid_row": null,
            "grid_template_areas": null,
            "grid_template_columns": null,
            "grid_template_rows": null,
            "height": null,
            "justify_content": null,
            "justify_items": null,
            "left": null,
            "margin": null,
            "max_height": null,
            "max_width": null,
            "min_height": null,
            "min_width": null,
            "object_fit": null,
            "object_position": null,
            "order": null,
            "overflow": null,
            "overflow_x": null,
            "overflow_y": null,
            "padding": null,
            "right": null,
            "top": null,
            "visibility": null,
            "width": null
          }
        },
        "0248e99662e5411cb8de30ce7f92bbba": {
          "model_module": "@jupyter-widgets/controls",
          "model_name": "DescriptionStyleModel",
          "model_module_version": "1.5.0",
          "state": {
            "_model_module": "@jupyter-widgets/controls",
            "_model_module_version": "1.5.0",
            "_model_name": "DescriptionStyleModel",
            "_view_count": null,
            "_view_module": "@jupyter-widgets/base",
            "_view_module_version": "1.2.0",
            "_view_name": "StyleView",
            "description_width": ""
          }
        }
      }
    }
  },
  "nbformat": 4,
  "nbformat_minor": 0
}